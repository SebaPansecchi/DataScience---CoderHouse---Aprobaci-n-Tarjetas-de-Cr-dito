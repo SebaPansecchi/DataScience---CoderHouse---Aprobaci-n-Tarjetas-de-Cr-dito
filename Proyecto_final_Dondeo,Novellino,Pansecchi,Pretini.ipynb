{
  "cells": [
    {
      "cell_type": "markdown",
      "metadata": {
        "id": "PyJJn0-S3a_n",
        "tags": []
      },
      "source": [
        "\n",
        "# **Abstracto**\n",
        "Las tablas de puntaje crediticio son un método común de control de riesgos en la industria financiera a la hora de mitigar el sesgo humano y homogeneizar las respuestas a millones de solicitudes de préstamos. \n",
        "\n",
        "Podemos distinguir distintos tipos de scoring (crediticio como en nuestro caso, hipotecario o empresarial), pero en todos ellos, lo que subyace es un estudio de la probabilidad de que una futura operación de un importe determinado acabe entrando en mora. Si esa probabilidad es inferior al limite que designe la entidad financiera, la operación será viable, de lo contrario la solicitud saldría rechazada.\n",
        "\n",
        "Lógicamente, para hacer esos cálculos, se estudiará la información personal y el comportamiento crediticio del solicitante, es decir, el porcentaje de los ingresos en relación con los pagos comprometidos, la tasa de endeudamiento con respecto al patrimonio, estructura familiar, edad, posición y antigüedad laboral, todo ello será ponderado conforme al algoritmo usado para construir el scoring, y que en función de las políticas crediticias del banco será ajustado cuando proceda.\n",
        "\n",
        "Con esto en mente, la entidad financiera estaría capacitada para tomar decisiones internas que crea oportunas, conociendo el riesgo que le representaría cada cliente en el futuro y a su vez, la oportunidad de identificar a aquellos usuarios que considere fidelizar.\n",
        "\n",
        "A continuación, nombramos los principales objetivos a desarrollar de cara a la realización del proyecto\n"
      ]
    },
    {
      "cell_type": "markdown",
      "metadata": {
        "id": "Htm043kp4yCK"
      },
      "source": [
        "# **Objetivos**\n",
        "\n",
        "Concretamente, este modelo está enfocado hacia la toma de decisiones internas de la entidad financiera (que sería nuestra audiencia) con el **objetivo** de:\n",
        "* Identificar a los buenos pagadores (con prestamos vencidos en el periodo de hasta 59 dias) para otorgar facilidades de pago o mejores paquetes como estrategia de fidelizacion.\n",
        "> Como por ejemplo, aumento de puntaje crediticio, tasas preferenciales en futuros creditos, descuentos exclusivos en tiendas seleccionadas, etc\n",
        "\n",
        "* Identificar a los malos pagadores (plazos de vencimiento desde 60 dias en adelante) para directamente no otorgarles credito.\n",
        "\n",
        "* Identificar nuevas acciones a emplear con clientes que no piden credito actualmente para incentivarlos a contratar los servicios del banco.\n",
        ">Por ejemplo llamar a los clientes ofreciendole tasas preferenciales, primera cuota con un descuento o realizar una acción conjunta en donde se ofrezca una bonificacion (en x meses) para seguros de hogar o su auto."
      ]
    },
    {
      "cell_type": "markdown",
      "metadata": {
        "id": "y7Fepqho9dBQ"
      },
      "source": [
        "# **Contexto analítico**\n",
        "Contamos con 2 tablas pertenecientes a una misma base de datos, que se relacionan por el campo ID.\n",
        "\n",
        "\n",
        "*  La tabla 'application_record.csv' contiene información personal de los clientes del banco.\n",
        "*  La tabla 'credit_record.csv', contiene información sobre el status de cada cliente en cada mes.\n",
        "\n",
        "**Problema comercial:** Crear un modelo de clasificación, para predecir la variable 'status', que refiere al nivel de atraso del cliente en pagar al banco. Dicha variable originalmente tenia los valores que se explican a continuación:\n",
        " \n",
        "  * 0: 1-29 dias de vencimiento.\n",
        "  * 1: 30-59 dias de vencimiento.\n",
        "  * 2: 60-89 dias de vencimiento.\n",
        "  * 3: 90-119 dias de vencimiento.\n",
        "  * 4: 120-149 dias de vencimiento.\n",
        "  * 5: Malos creditos, incobrables.\n",
        "  * C: Pago este mes.\n",
        "  * X: No pidio prestamo este mes.\n",
        "\n",
        "Los cuales decidimos agruparlos en las siguientes categorias:\n",
        "\n",
        "  * 0: No tomadores de prestamo el mes corriente (anteriormente 'X')\n",
        "  * 1: Buenos pagadores (pertenecientes a las antiguas categorias 'C', '0', y '1')\n",
        "  * 2: Malos pagadores (pertenecientes a las antiguas categorias '2', '3', '4', y '5')\n",
        "  \n",
        "Las variables clave para intentar predecir 'STATUS' serían:\n",
        "*'AMT_INCOME_TOTAL'(ingreso total), 'NAME_EDUCATION_TYPE' (Nivel de educación), 'OCCUPATION_TYPE' (tipo de ocupación), 'NAME_FAMILY_STATUS' (Estado civil)*, entre otras."
      ]
    },
    {
      "cell_type": "code",
      "execution_count": null,
      "metadata": {
        "ExecuteTime": {
          "end_time": "2022-11-22T00:32:10.341229Z",
          "start_time": "2022-11-22T00:32:10.337935Z"
        },
        "execution": {
          "iopub.execute_input": "2022-11-07T23:52:36.557732Z",
          "iopub.status.busy": "2022-11-07T23:52:36.557732Z",
          "iopub.status.idle": "2022-11-07T23:52:36.560253Z",
          "shell.execute_reply": "2022-11-07T23:52:36.560253Z",
          "shell.execute_reply.started": "2022-11-07T23:52:36.557732Z"
        },
        "id": "D3-p-R_urIAB"
      },
      "outputs": [],
      "source": [
        "#!pip install mlxtend"
      ]
    },
    {
      "cell_type": "code",
      "execution_count": null,
      "metadata": {
        "ExecuteTime": {
          "end_time": "2022-11-22T00:32:12.475839Z",
          "start_time": "2022-11-22T00:32:10.341735Z"
        },
        "execution": {
          "iopub.execute_input": "2022-11-08T00:36:49.767230Z",
          "iopub.status.busy": "2022-11-08T00:36:49.767230Z",
          "iopub.status.idle": "2022-11-08T00:36:49.771511Z",
          "shell.execute_reply": "2022-11-08T00:36:49.771511Z",
          "shell.execute_reply.started": "2022-11-08T00:36:49.767230Z"
        },
        "id": "Um5wDd9E4TRF",
        "tags": []
      },
      "outputs": [],
      "source": [
        "import pandas as pd\n",
        "import matplotlib as mpl\n",
        "import matplotlib.pyplot as plt\n",
        "import seaborn as sns\n",
        "import numpy as np\n",
        "import plotly.graph_objects as go\n",
        "import plotly.express as px\n",
        "from plotly.subplots import make_subplots\n",
        "from sklearn import neighbors, linear_model\n",
        "from sklearn.ensemble import RandomForestClassifier\n",
        "from sklearn.neighbors import KNeighborsClassifier\n",
        "from sklearn.metrics import confusion_matrix, ConfusionMatrixDisplay, classification_report, f1_score, accuracy_score\n",
        "from sklearn.model_selection import train_test_split, cross_val_score\n",
        "from sklearn.preprocessing import StandardScaler, LabelEncoder\n",
        "from sklearn.svm import SVC\n",
        "from sklearn.decomposition import PCA\n",
        "from mlxtend.plotting import plot_decision_regions\n",
        "from imblearn.over_sampling import SMOTE\n",
        "from imblearn.combine import SMOTETomek\n",
        "from sklearn.model_selection import GridSearchCV, RandomizedSearchCV, StratifiedKFold #usarlo para encontrar los hiperparámetros, podemos probar con knn, randomforest y SVM\n",
        "#get_ipython().run_line_magic('load_ext', 'autotime') #Para mostrar el tiempo tardado en correr una celda"
      ]
    },
    {
      "cell_type": "code",
      "source": [
        "from google.colab import drive\n",
        "drive.mount('/content/drive')"
      ],
      "metadata": {
        "colab": {
          "base_uri": "https://localhost:8080/"
        },
        "id": "vM6_EOLJa66v",
        "outputId": "5d31944f-9688-4a4e-a549-94182df86b0d"
      },
      "execution_count": null,
      "outputs": [
        {
          "output_type": "stream",
          "name": "stdout",
          "text": [
            "Drive already mounted at /content/drive; to attempt to forcibly remount, call drive.mount(\"/content/drive\", force_remount=True).\n"
          ]
        }
      ]
    },
    {
      "cell_type": "code",
      "execution_count": null,
      "metadata": {
        "ExecuteTime": {
          "end_time": "2022-11-22T00:32:13.032054Z",
          "start_time": "2022-11-22T00:32:12.476840Z"
        },
        "colab": {
          "base_uri": "https://localhost:8080/",
          "height": 322
        },
        "execution": {
          "iopub.execute_input": "2022-11-07T23:52:38.117218Z",
          "iopub.status.busy": "2022-11-07T23:52:38.116216Z",
          "iopub.status.idle": "2022-11-07T23:52:38.513081Z",
          "shell.execute_reply": "2022-11-07T23:52:38.513081Z",
          "shell.execute_reply.started": "2022-11-07T23:52:38.117218Z"
        },
        "id": "ydz88SVd5air",
        "outputId": "28d15a40-a536-4bea-9905-e48838c2ea1c"
      },
      "outputs": [
        {
          "output_type": "execute_result",
          "data": {
            "text/plain": [
              "        ID CODE_GENDER FLAG_OWN_CAR FLAG_OWN_REALTY  CNT_CHILDREN  \\\n",
              "0  5008804           M            Y               Y             0   \n",
              "1  5008805           M            Y               Y             0   \n",
              "2  5008806           M            Y               Y             0   \n",
              "3  5008808           F            N               Y             0   \n",
              "4  5008809           F            N               Y             0   \n",
              "\n",
              "   AMT_INCOME_TOTAL      NAME_INCOME_TYPE            NAME_EDUCATION_TYPE  \\\n",
              "0          427500.0               Working               Higher education   \n",
              "1          427500.0               Working               Higher education   \n",
              "2          112500.0               Working  Secondary / secondary special   \n",
              "3          270000.0  Commercial associate  Secondary / secondary special   \n",
              "4          270000.0  Commercial associate  Secondary / secondary special   \n",
              "\n",
              "     NAME_FAMILY_STATUS  NAME_HOUSING_TYPE  DAYS_BIRTH  DAYS_EMPLOYED  \\\n",
              "0        Civil marriage   Rented apartment      -12005          -4542   \n",
              "1        Civil marriage   Rented apartment      -12005          -4542   \n",
              "2               Married  House / apartment      -21474          -1134   \n",
              "3  Single / not married  House / apartment      -19110          -3051   \n",
              "4  Single / not married  House / apartment      -19110          -3051   \n",
              "\n",
              "   FLAG_MOBIL  FLAG_WORK_PHONE  FLAG_PHONE  FLAG_EMAIL OCCUPATION_TYPE  \\\n",
              "0           1                1           0           0             NaN   \n",
              "1           1                1           0           0             NaN   \n",
              "2           1                0           0           0  Security staff   \n",
              "3           1                0           1           1     Sales staff   \n",
              "4           1                0           1           1     Sales staff   \n",
              "\n",
              "   CNT_FAM_MEMBERS  \n",
              "0              2.0  \n",
              "1              2.0  \n",
              "2              2.0  \n",
              "3              1.0  \n",
              "4              1.0  "
            ],
            "text/html": [
              "\n",
              "  <div id=\"df-67aeaf2f-e4b4-406a-9904-43382d33c441\">\n",
              "    <div class=\"colab-df-container\">\n",
              "      <div>\n",
              "<style scoped>\n",
              "    .dataframe tbody tr th:only-of-type {\n",
              "        vertical-align: middle;\n",
              "    }\n",
              "\n",
              "    .dataframe tbody tr th {\n",
              "        vertical-align: top;\n",
              "    }\n",
              "\n",
              "    .dataframe thead th {\n",
              "        text-align: right;\n",
              "    }\n",
              "</style>\n",
              "<table border=\"1\" class=\"dataframe\">\n",
              "  <thead>\n",
              "    <tr style=\"text-align: right;\">\n",
              "      <th></th>\n",
              "      <th>ID</th>\n",
              "      <th>CODE_GENDER</th>\n",
              "      <th>FLAG_OWN_CAR</th>\n",
              "      <th>FLAG_OWN_REALTY</th>\n",
              "      <th>CNT_CHILDREN</th>\n",
              "      <th>AMT_INCOME_TOTAL</th>\n",
              "      <th>NAME_INCOME_TYPE</th>\n",
              "      <th>NAME_EDUCATION_TYPE</th>\n",
              "      <th>NAME_FAMILY_STATUS</th>\n",
              "      <th>NAME_HOUSING_TYPE</th>\n",
              "      <th>DAYS_BIRTH</th>\n",
              "      <th>DAYS_EMPLOYED</th>\n",
              "      <th>FLAG_MOBIL</th>\n",
              "      <th>FLAG_WORK_PHONE</th>\n",
              "      <th>FLAG_PHONE</th>\n",
              "      <th>FLAG_EMAIL</th>\n",
              "      <th>OCCUPATION_TYPE</th>\n",
              "      <th>CNT_FAM_MEMBERS</th>\n",
              "    </tr>\n",
              "  </thead>\n",
              "  <tbody>\n",
              "    <tr>\n",
              "      <th>0</th>\n",
              "      <td>5008804</td>\n",
              "      <td>M</td>\n",
              "      <td>Y</td>\n",
              "      <td>Y</td>\n",
              "      <td>0</td>\n",
              "      <td>427500.0</td>\n",
              "      <td>Working</td>\n",
              "      <td>Higher education</td>\n",
              "      <td>Civil marriage</td>\n",
              "      <td>Rented apartment</td>\n",
              "      <td>-12005</td>\n",
              "      <td>-4542</td>\n",
              "      <td>1</td>\n",
              "      <td>1</td>\n",
              "      <td>0</td>\n",
              "      <td>0</td>\n",
              "      <td>NaN</td>\n",
              "      <td>2.0</td>\n",
              "    </tr>\n",
              "    <tr>\n",
              "      <th>1</th>\n",
              "      <td>5008805</td>\n",
              "      <td>M</td>\n",
              "      <td>Y</td>\n",
              "      <td>Y</td>\n",
              "      <td>0</td>\n",
              "      <td>427500.0</td>\n",
              "      <td>Working</td>\n",
              "      <td>Higher education</td>\n",
              "      <td>Civil marriage</td>\n",
              "      <td>Rented apartment</td>\n",
              "      <td>-12005</td>\n",
              "      <td>-4542</td>\n",
              "      <td>1</td>\n",
              "      <td>1</td>\n",
              "      <td>0</td>\n",
              "      <td>0</td>\n",
              "      <td>NaN</td>\n",
              "      <td>2.0</td>\n",
              "    </tr>\n",
              "    <tr>\n",
              "      <th>2</th>\n",
              "      <td>5008806</td>\n",
              "      <td>M</td>\n",
              "      <td>Y</td>\n",
              "      <td>Y</td>\n",
              "      <td>0</td>\n",
              "      <td>112500.0</td>\n",
              "      <td>Working</td>\n",
              "      <td>Secondary / secondary special</td>\n",
              "      <td>Married</td>\n",
              "      <td>House / apartment</td>\n",
              "      <td>-21474</td>\n",
              "      <td>-1134</td>\n",
              "      <td>1</td>\n",
              "      <td>0</td>\n",
              "      <td>0</td>\n",
              "      <td>0</td>\n",
              "      <td>Security staff</td>\n",
              "      <td>2.0</td>\n",
              "    </tr>\n",
              "    <tr>\n",
              "      <th>3</th>\n",
              "      <td>5008808</td>\n",
              "      <td>F</td>\n",
              "      <td>N</td>\n",
              "      <td>Y</td>\n",
              "      <td>0</td>\n",
              "      <td>270000.0</td>\n",
              "      <td>Commercial associate</td>\n",
              "      <td>Secondary / secondary special</td>\n",
              "      <td>Single / not married</td>\n",
              "      <td>House / apartment</td>\n",
              "      <td>-19110</td>\n",
              "      <td>-3051</td>\n",
              "      <td>1</td>\n",
              "      <td>0</td>\n",
              "      <td>1</td>\n",
              "      <td>1</td>\n",
              "      <td>Sales staff</td>\n",
              "      <td>1.0</td>\n",
              "    </tr>\n",
              "    <tr>\n",
              "      <th>4</th>\n",
              "      <td>5008809</td>\n",
              "      <td>F</td>\n",
              "      <td>N</td>\n",
              "      <td>Y</td>\n",
              "      <td>0</td>\n",
              "      <td>270000.0</td>\n",
              "      <td>Commercial associate</td>\n",
              "      <td>Secondary / secondary special</td>\n",
              "      <td>Single / not married</td>\n",
              "      <td>House / apartment</td>\n",
              "      <td>-19110</td>\n",
              "      <td>-3051</td>\n",
              "      <td>1</td>\n",
              "      <td>0</td>\n",
              "      <td>1</td>\n",
              "      <td>1</td>\n",
              "      <td>Sales staff</td>\n",
              "      <td>1.0</td>\n",
              "    </tr>\n",
              "  </tbody>\n",
              "</table>\n",
              "</div>\n",
              "      <button class=\"colab-df-convert\" onclick=\"convertToInteractive('df-67aeaf2f-e4b4-406a-9904-43382d33c441')\"\n",
              "              title=\"Convert this dataframe to an interactive table.\"\n",
              "              style=\"display:none;\">\n",
              "        \n",
              "  <svg xmlns=\"http://www.w3.org/2000/svg\" height=\"24px\"viewBox=\"0 0 24 24\"\n",
              "       width=\"24px\">\n",
              "    <path d=\"M0 0h24v24H0V0z\" fill=\"none\"/>\n",
              "    <path d=\"M18.56 5.44l.94 2.06.94-2.06 2.06-.94-2.06-.94-.94-2.06-.94 2.06-2.06.94zm-11 1L8.5 8.5l.94-2.06 2.06-.94-2.06-.94L8.5 2.5l-.94 2.06-2.06.94zm10 10l.94 2.06.94-2.06 2.06-.94-2.06-.94-.94-2.06-.94 2.06-2.06.94z\"/><path d=\"M17.41 7.96l-1.37-1.37c-.4-.4-.92-.59-1.43-.59-.52 0-1.04.2-1.43.59L10.3 9.45l-7.72 7.72c-.78.78-.78 2.05 0 2.83L4 21.41c.39.39.9.59 1.41.59.51 0 1.02-.2 1.41-.59l7.78-7.78 2.81-2.81c.8-.78.8-2.07 0-2.86zM5.41 20L4 18.59l7.72-7.72 1.47 1.35L5.41 20z\"/>\n",
              "  </svg>\n",
              "      </button>\n",
              "      \n",
              "  <style>\n",
              "    .colab-df-container {\n",
              "      display:flex;\n",
              "      flex-wrap:wrap;\n",
              "      gap: 12px;\n",
              "    }\n",
              "\n",
              "    .colab-df-convert {\n",
              "      background-color: #E8F0FE;\n",
              "      border: none;\n",
              "      border-radius: 50%;\n",
              "      cursor: pointer;\n",
              "      display: none;\n",
              "      fill: #1967D2;\n",
              "      height: 32px;\n",
              "      padding: 0 0 0 0;\n",
              "      width: 32px;\n",
              "    }\n",
              "\n",
              "    .colab-df-convert:hover {\n",
              "      background-color: #E2EBFA;\n",
              "      box-shadow: 0px 1px 2px rgba(60, 64, 67, 0.3), 0px 1px 3px 1px rgba(60, 64, 67, 0.15);\n",
              "      fill: #174EA6;\n",
              "    }\n",
              "\n",
              "    [theme=dark] .colab-df-convert {\n",
              "      background-color: #3B4455;\n",
              "      fill: #D2E3FC;\n",
              "    }\n",
              "\n",
              "    [theme=dark] .colab-df-convert:hover {\n",
              "      background-color: #434B5C;\n",
              "      box-shadow: 0px 1px 3px 1px rgba(0, 0, 0, 0.15);\n",
              "      filter: drop-shadow(0px 1px 2px rgba(0, 0, 0, 0.3));\n",
              "      fill: #FFFFFF;\n",
              "    }\n",
              "  </style>\n",
              "\n",
              "      <script>\n",
              "        const buttonEl =\n",
              "          document.querySelector('#df-67aeaf2f-e4b4-406a-9904-43382d33c441 button.colab-df-convert');\n",
              "        buttonEl.style.display =\n",
              "          google.colab.kernel.accessAllowed ? 'block' : 'none';\n",
              "\n",
              "        async function convertToInteractive(key) {\n",
              "          const element = document.querySelector('#df-67aeaf2f-e4b4-406a-9904-43382d33c441');\n",
              "          const dataTable =\n",
              "            await google.colab.kernel.invokeFunction('convertToInteractive',\n",
              "                                                     [key], {});\n",
              "          if (!dataTable) return;\n",
              "\n",
              "          const docLinkHtml = 'Like what you see? Visit the ' +\n",
              "            '<a target=\"_blank\" href=https://colab.research.google.com/notebooks/data_table.ipynb>data table notebook</a>'\n",
              "            + ' to learn more about interactive tables.';\n",
              "          element.innerHTML = '';\n",
              "          dataTable['output_type'] = 'display_data';\n",
              "          await google.colab.output.renderOutput(dataTable, element);\n",
              "          const docLink = document.createElement('div');\n",
              "          docLink.innerHTML = docLinkHtml;\n",
              "          element.appendChild(docLink);\n",
              "        }\n",
              "      </script>\n",
              "    </div>\n",
              "  </div>\n",
              "  "
            ]
          },
          "metadata": {},
          "execution_count": 9
        }
      ],
      "source": [
        "df1 = pd.read_csv('/content/drive/MyDrive/Desafíos Data Science Coderhouse/application_record.csv')\n",
        "df1.head()"
      ]
    },
    {
      "cell_type": "code",
      "execution_count": null,
      "metadata": {
        "ExecuteTime": {
          "end_time": "2022-11-22T00:32:13.245030Z",
          "start_time": "2022-11-22T00:32:13.033053Z"
        },
        "execution": {
          "iopub.execute_input": "2022-11-07T23:52:38.513081Z",
          "iopub.status.busy": "2022-11-07T23:52:38.513081Z",
          "iopub.status.idle": "2022-11-07T23:52:38.653912Z",
          "shell.execute_reply": "2022-11-07T23:52:38.653912Z",
          "shell.execute_reply.started": "2022-11-07T23:52:38.513081Z"
        },
        "id": "HWyXgII15tZ2",
        "colab": {
          "base_uri": "https://localhost:8080/",
          "height": 424
        },
        "outputId": "004f8e2e-8ae0-4405-e75b-1b878fb9b1db"
      },
      "outputs": [
        {
          "output_type": "execute_result",
          "data": {
            "text/plain": [
              "              ID  MONTHS_BALANCE STATUS\n",
              "0        5001711               0      X\n",
              "1        5001711              -1      0\n",
              "2        5001711              -2      0\n",
              "3        5001711              -3      0\n",
              "4        5001712               0      C\n",
              "...          ...             ...    ...\n",
              "1048570  5150487             -25      C\n",
              "1048571  5150487             -26      C\n",
              "1048572  5150487             -27      C\n",
              "1048573  5150487             -28      C\n",
              "1048574  5150487             -29      C\n",
              "\n",
              "[1048575 rows x 3 columns]"
            ],
            "text/html": [
              "\n",
              "  <div id=\"df-4f0780e4-913a-44ef-9b76-2a5f1c98a5b2\">\n",
              "    <div class=\"colab-df-container\">\n",
              "      <div>\n",
              "<style scoped>\n",
              "    .dataframe tbody tr th:only-of-type {\n",
              "        vertical-align: middle;\n",
              "    }\n",
              "\n",
              "    .dataframe tbody tr th {\n",
              "        vertical-align: top;\n",
              "    }\n",
              "\n",
              "    .dataframe thead th {\n",
              "        text-align: right;\n",
              "    }\n",
              "</style>\n",
              "<table border=\"1\" class=\"dataframe\">\n",
              "  <thead>\n",
              "    <tr style=\"text-align: right;\">\n",
              "      <th></th>\n",
              "      <th>ID</th>\n",
              "      <th>MONTHS_BALANCE</th>\n",
              "      <th>STATUS</th>\n",
              "    </tr>\n",
              "  </thead>\n",
              "  <tbody>\n",
              "    <tr>\n",
              "      <th>0</th>\n",
              "      <td>5001711</td>\n",
              "      <td>0</td>\n",
              "      <td>X</td>\n",
              "    </tr>\n",
              "    <tr>\n",
              "      <th>1</th>\n",
              "      <td>5001711</td>\n",
              "      <td>-1</td>\n",
              "      <td>0</td>\n",
              "    </tr>\n",
              "    <tr>\n",
              "      <th>2</th>\n",
              "      <td>5001711</td>\n",
              "      <td>-2</td>\n",
              "      <td>0</td>\n",
              "    </tr>\n",
              "    <tr>\n",
              "      <th>3</th>\n",
              "      <td>5001711</td>\n",
              "      <td>-3</td>\n",
              "      <td>0</td>\n",
              "    </tr>\n",
              "    <tr>\n",
              "      <th>4</th>\n",
              "      <td>5001712</td>\n",
              "      <td>0</td>\n",
              "      <td>C</td>\n",
              "    </tr>\n",
              "    <tr>\n",
              "      <th>...</th>\n",
              "      <td>...</td>\n",
              "      <td>...</td>\n",
              "      <td>...</td>\n",
              "    </tr>\n",
              "    <tr>\n",
              "      <th>1048570</th>\n",
              "      <td>5150487</td>\n",
              "      <td>-25</td>\n",
              "      <td>C</td>\n",
              "    </tr>\n",
              "    <tr>\n",
              "      <th>1048571</th>\n",
              "      <td>5150487</td>\n",
              "      <td>-26</td>\n",
              "      <td>C</td>\n",
              "    </tr>\n",
              "    <tr>\n",
              "      <th>1048572</th>\n",
              "      <td>5150487</td>\n",
              "      <td>-27</td>\n",
              "      <td>C</td>\n",
              "    </tr>\n",
              "    <tr>\n",
              "      <th>1048573</th>\n",
              "      <td>5150487</td>\n",
              "      <td>-28</td>\n",
              "      <td>C</td>\n",
              "    </tr>\n",
              "    <tr>\n",
              "      <th>1048574</th>\n",
              "      <td>5150487</td>\n",
              "      <td>-29</td>\n",
              "      <td>C</td>\n",
              "    </tr>\n",
              "  </tbody>\n",
              "</table>\n",
              "<p>1048575 rows × 3 columns</p>\n",
              "</div>\n",
              "      <button class=\"colab-df-convert\" onclick=\"convertToInteractive('df-4f0780e4-913a-44ef-9b76-2a5f1c98a5b2')\"\n",
              "              title=\"Convert this dataframe to an interactive table.\"\n",
              "              style=\"display:none;\">\n",
              "        \n",
              "  <svg xmlns=\"http://www.w3.org/2000/svg\" height=\"24px\"viewBox=\"0 0 24 24\"\n",
              "       width=\"24px\">\n",
              "    <path d=\"M0 0h24v24H0V0z\" fill=\"none\"/>\n",
              "    <path d=\"M18.56 5.44l.94 2.06.94-2.06 2.06-.94-2.06-.94-.94-2.06-.94 2.06-2.06.94zm-11 1L8.5 8.5l.94-2.06 2.06-.94-2.06-.94L8.5 2.5l-.94 2.06-2.06.94zm10 10l.94 2.06.94-2.06 2.06-.94-2.06-.94-.94-2.06-.94 2.06-2.06.94z\"/><path d=\"M17.41 7.96l-1.37-1.37c-.4-.4-.92-.59-1.43-.59-.52 0-1.04.2-1.43.59L10.3 9.45l-7.72 7.72c-.78.78-.78 2.05 0 2.83L4 21.41c.39.39.9.59 1.41.59.51 0 1.02-.2 1.41-.59l7.78-7.78 2.81-2.81c.8-.78.8-2.07 0-2.86zM5.41 20L4 18.59l7.72-7.72 1.47 1.35L5.41 20z\"/>\n",
              "  </svg>\n",
              "      </button>\n",
              "      \n",
              "  <style>\n",
              "    .colab-df-container {\n",
              "      display:flex;\n",
              "      flex-wrap:wrap;\n",
              "      gap: 12px;\n",
              "    }\n",
              "\n",
              "    .colab-df-convert {\n",
              "      background-color: #E8F0FE;\n",
              "      border: none;\n",
              "      border-radius: 50%;\n",
              "      cursor: pointer;\n",
              "      display: none;\n",
              "      fill: #1967D2;\n",
              "      height: 32px;\n",
              "      padding: 0 0 0 0;\n",
              "      width: 32px;\n",
              "    }\n",
              "\n",
              "    .colab-df-convert:hover {\n",
              "      background-color: #E2EBFA;\n",
              "      box-shadow: 0px 1px 2px rgba(60, 64, 67, 0.3), 0px 1px 3px 1px rgba(60, 64, 67, 0.15);\n",
              "      fill: #174EA6;\n",
              "    }\n",
              "\n",
              "    [theme=dark] .colab-df-convert {\n",
              "      background-color: #3B4455;\n",
              "      fill: #D2E3FC;\n",
              "    }\n",
              "\n",
              "    [theme=dark] .colab-df-convert:hover {\n",
              "      background-color: #434B5C;\n",
              "      box-shadow: 0px 1px 3px 1px rgba(0, 0, 0, 0.15);\n",
              "      filter: drop-shadow(0px 1px 2px rgba(0, 0, 0, 0.3));\n",
              "      fill: #FFFFFF;\n",
              "    }\n",
              "  </style>\n",
              "\n",
              "      <script>\n",
              "        const buttonEl =\n",
              "          document.querySelector('#df-4f0780e4-913a-44ef-9b76-2a5f1c98a5b2 button.colab-df-convert');\n",
              "        buttonEl.style.display =\n",
              "          google.colab.kernel.accessAllowed ? 'block' : 'none';\n",
              "\n",
              "        async function convertToInteractive(key) {\n",
              "          const element = document.querySelector('#df-4f0780e4-913a-44ef-9b76-2a5f1c98a5b2');\n",
              "          const dataTable =\n",
              "            await google.colab.kernel.invokeFunction('convertToInteractive',\n",
              "                                                     [key], {});\n",
              "          if (!dataTable) return;\n",
              "\n",
              "          const docLinkHtml = 'Like what you see? Visit the ' +\n",
              "            '<a target=\"_blank\" href=https://colab.research.google.com/notebooks/data_table.ipynb>data table notebook</a>'\n",
              "            + ' to learn more about interactive tables.';\n",
              "          element.innerHTML = '';\n",
              "          dataTable['output_type'] = 'display_data';\n",
              "          await google.colab.output.renderOutput(dataTable, element);\n",
              "          const docLink = document.createElement('div');\n",
              "          docLink.innerHTML = docLinkHtml;\n",
              "          element.appendChild(docLink);\n",
              "        }\n",
              "      </script>\n",
              "    </div>\n",
              "  </div>\n",
              "  "
            ]
          },
          "metadata": {},
          "execution_count": 10
        }
      ],
      "source": [
        "df2 = pd.read_csv('/content/drive/MyDrive/Desafíos Data Science Coderhouse/credit_record.csv')\n",
        "df2"
      ]
    },
    {
      "cell_type": "markdown",
      "metadata": {
        "id": "LKrCppiyL9ls"
      },
      "source": [
        "### Unimos las 2 tablas en un solo dataframe:\n",
        "\n"
      ]
    },
    {
      "cell_type": "code",
      "execution_count": null,
      "metadata": {
        "ExecuteTime": {
          "end_time": "2022-11-22T00:32:13.444001Z",
          "start_time": "2022-11-22T00:32:13.246030Z"
        },
        "execution": {
          "iopub.execute_input": "2022-11-07T23:52:38.654912Z",
          "iopub.status.busy": "2022-11-07T23:52:38.654912Z",
          "iopub.status.idle": "2022-11-07T23:52:38.822196Z",
          "shell.execute_reply": "2022-11-07T23:52:38.822196Z",
          "shell.execute_reply.started": "2022-11-07T23:52:38.654912Z"
        },
        "id": "8DYBsYny51Jk"
      },
      "outputs": [],
      "source": [
        "df3 = df2.merge(df1,left_on='ID', right_on='ID')"
      ]
    },
    {
      "cell_type": "code",
      "execution_count": null,
      "metadata": {
        "ExecuteTime": {
          "end_time": "2022-11-22T00:32:13.461023Z",
          "start_time": "2022-11-22T00:32:13.445001Z"
        },
        "execution": {
          "iopub.execute_input": "2022-11-07T23:52:38.822196Z",
          "iopub.status.busy": "2022-11-07T23:52:38.822196Z",
          "iopub.status.idle": "2022-11-07T23:52:38.832723Z",
          "shell.execute_reply": "2022-11-07T23:52:38.832723Z",
          "shell.execute_reply.started": "2022-11-07T23:52:38.822196Z"
        },
        "id": "6lyL9mQm6N9L",
        "colab": {
          "base_uri": "https://localhost:8080/",
          "height": 574
        },
        "outputId": "729a18c8-690b-427e-d5f0-abec83ef8af5"
      },
      "outputs": [
        {
          "output_type": "execute_result",
          "data": {
            "text/plain": [
              "             ID  MONTHS_BALANCE STATUS CODE_GENDER FLAG_OWN_CAR  \\\n",
              "0       5008804               0      C           M            Y   \n",
              "1       5008804              -1      C           M            Y   \n",
              "2       5008804              -2      C           M            Y   \n",
              "3       5008804              -3      C           M            Y   \n",
              "4       5008804              -4      C           M            Y   \n",
              "...         ...             ...    ...         ...          ...   \n",
              "777710  5150487             -25      C           M            Y   \n",
              "777711  5150487             -26      C           M            Y   \n",
              "777712  5150487             -27      C           M            Y   \n",
              "777713  5150487             -28      C           M            Y   \n",
              "777714  5150487             -29      C           M            Y   \n",
              "\n",
              "       FLAG_OWN_REALTY  CNT_CHILDREN  AMT_INCOME_TOTAL NAME_INCOME_TYPE  \\\n",
              "0                    Y             0          427500.0          Working   \n",
              "1                    Y             0          427500.0          Working   \n",
              "2                    Y             0          427500.0          Working   \n",
              "3                    Y             0          427500.0          Working   \n",
              "4                    Y             0          427500.0          Working   \n",
              "...                ...           ...               ...              ...   \n",
              "777710               N             0          202500.0          Working   \n",
              "777711               N             0          202500.0          Working   \n",
              "777712               N             0          202500.0          Working   \n",
              "777713               N             0          202500.0          Working   \n",
              "777714               N             0          202500.0          Working   \n",
              "\n",
              "                  NAME_EDUCATION_TYPE NAME_FAMILY_STATUS  NAME_HOUSING_TYPE  \\\n",
              "0                    Higher education     Civil marriage   Rented apartment   \n",
              "1                    Higher education     Civil marriage   Rented apartment   \n",
              "2                    Higher education     Civil marriage   Rented apartment   \n",
              "3                    Higher education     Civil marriage   Rented apartment   \n",
              "4                    Higher education     Civil marriage   Rented apartment   \n",
              "...                               ...                ...                ...   \n",
              "777710  Secondary / secondary special            Married  House / apartment   \n",
              "777711  Secondary / secondary special            Married  House / apartment   \n",
              "777712  Secondary / secondary special            Married  House / apartment   \n",
              "777713  Secondary / secondary special            Married  House / apartment   \n",
              "777714  Secondary / secondary special            Married  House / apartment   \n",
              "\n",
              "        DAYS_BIRTH  DAYS_EMPLOYED  FLAG_MOBIL  FLAG_WORK_PHONE  FLAG_PHONE  \\\n",
              "0           -12005          -4542           1                1           0   \n",
              "1           -12005          -4542           1                1           0   \n",
              "2           -12005          -4542           1                1           0   \n",
              "3           -12005          -4542           1                1           0   \n",
              "4           -12005          -4542           1                1           0   \n",
              "...            ...            ...         ...              ...         ...   \n",
              "777710      -19398          -2166           1                0           0   \n",
              "777711      -19398          -2166           1                0           0   \n",
              "777712      -19398          -2166           1                0           0   \n",
              "777713      -19398          -2166           1                0           0   \n",
              "777714      -19398          -2166           1                0           0   \n",
              "\n",
              "        FLAG_EMAIL OCCUPATION_TYPE  CNT_FAM_MEMBERS  \n",
              "0                0             NaN              2.0  \n",
              "1                0             NaN              2.0  \n",
              "2                0             NaN              2.0  \n",
              "3                0             NaN              2.0  \n",
              "4                0             NaN              2.0  \n",
              "...            ...             ...              ...  \n",
              "777710           0         Drivers              2.0  \n",
              "777711           0         Drivers              2.0  \n",
              "777712           0         Drivers              2.0  \n",
              "777713           0         Drivers              2.0  \n",
              "777714           0         Drivers              2.0  \n",
              "\n",
              "[777715 rows x 20 columns]"
            ],
            "text/html": [
              "\n",
              "  <div id=\"df-3f5f4930-8c93-461b-8e4a-542270d38fc0\">\n",
              "    <div class=\"colab-df-container\">\n",
              "      <div>\n",
              "<style scoped>\n",
              "    .dataframe tbody tr th:only-of-type {\n",
              "        vertical-align: middle;\n",
              "    }\n",
              "\n",
              "    .dataframe tbody tr th {\n",
              "        vertical-align: top;\n",
              "    }\n",
              "\n",
              "    .dataframe thead th {\n",
              "        text-align: right;\n",
              "    }\n",
              "</style>\n",
              "<table border=\"1\" class=\"dataframe\">\n",
              "  <thead>\n",
              "    <tr style=\"text-align: right;\">\n",
              "      <th></th>\n",
              "      <th>ID</th>\n",
              "      <th>MONTHS_BALANCE</th>\n",
              "      <th>STATUS</th>\n",
              "      <th>CODE_GENDER</th>\n",
              "      <th>FLAG_OWN_CAR</th>\n",
              "      <th>FLAG_OWN_REALTY</th>\n",
              "      <th>CNT_CHILDREN</th>\n",
              "      <th>AMT_INCOME_TOTAL</th>\n",
              "      <th>NAME_INCOME_TYPE</th>\n",
              "      <th>NAME_EDUCATION_TYPE</th>\n",
              "      <th>NAME_FAMILY_STATUS</th>\n",
              "      <th>NAME_HOUSING_TYPE</th>\n",
              "      <th>DAYS_BIRTH</th>\n",
              "      <th>DAYS_EMPLOYED</th>\n",
              "      <th>FLAG_MOBIL</th>\n",
              "      <th>FLAG_WORK_PHONE</th>\n",
              "      <th>FLAG_PHONE</th>\n",
              "      <th>FLAG_EMAIL</th>\n",
              "      <th>OCCUPATION_TYPE</th>\n",
              "      <th>CNT_FAM_MEMBERS</th>\n",
              "    </tr>\n",
              "  </thead>\n",
              "  <tbody>\n",
              "    <tr>\n",
              "      <th>0</th>\n",
              "      <td>5008804</td>\n",
              "      <td>0</td>\n",
              "      <td>C</td>\n",
              "      <td>M</td>\n",
              "      <td>Y</td>\n",
              "      <td>Y</td>\n",
              "      <td>0</td>\n",
              "      <td>427500.0</td>\n",
              "      <td>Working</td>\n",
              "      <td>Higher education</td>\n",
              "      <td>Civil marriage</td>\n",
              "      <td>Rented apartment</td>\n",
              "      <td>-12005</td>\n",
              "      <td>-4542</td>\n",
              "      <td>1</td>\n",
              "      <td>1</td>\n",
              "      <td>0</td>\n",
              "      <td>0</td>\n",
              "      <td>NaN</td>\n",
              "      <td>2.0</td>\n",
              "    </tr>\n",
              "    <tr>\n",
              "      <th>1</th>\n",
              "      <td>5008804</td>\n",
              "      <td>-1</td>\n",
              "      <td>C</td>\n",
              "      <td>M</td>\n",
              "      <td>Y</td>\n",
              "      <td>Y</td>\n",
              "      <td>0</td>\n",
              "      <td>427500.0</td>\n",
              "      <td>Working</td>\n",
              "      <td>Higher education</td>\n",
              "      <td>Civil marriage</td>\n",
              "      <td>Rented apartment</td>\n",
              "      <td>-12005</td>\n",
              "      <td>-4542</td>\n",
              "      <td>1</td>\n",
              "      <td>1</td>\n",
              "      <td>0</td>\n",
              "      <td>0</td>\n",
              "      <td>NaN</td>\n",
              "      <td>2.0</td>\n",
              "    </tr>\n",
              "    <tr>\n",
              "      <th>2</th>\n",
              "      <td>5008804</td>\n",
              "      <td>-2</td>\n",
              "      <td>C</td>\n",
              "      <td>M</td>\n",
              "      <td>Y</td>\n",
              "      <td>Y</td>\n",
              "      <td>0</td>\n",
              "      <td>427500.0</td>\n",
              "      <td>Working</td>\n",
              "      <td>Higher education</td>\n",
              "      <td>Civil marriage</td>\n",
              "      <td>Rented apartment</td>\n",
              "      <td>-12005</td>\n",
              "      <td>-4542</td>\n",
              "      <td>1</td>\n",
              "      <td>1</td>\n",
              "      <td>0</td>\n",
              "      <td>0</td>\n",
              "      <td>NaN</td>\n",
              "      <td>2.0</td>\n",
              "    </tr>\n",
              "    <tr>\n",
              "      <th>3</th>\n",
              "      <td>5008804</td>\n",
              "      <td>-3</td>\n",
              "      <td>C</td>\n",
              "      <td>M</td>\n",
              "      <td>Y</td>\n",
              "      <td>Y</td>\n",
              "      <td>0</td>\n",
              "      <td>427500.0</td>\n",
              "      <td>Working</td>\n",
              "      <td>Higher education</td>\n",
              "      <td>Civil marriage</td>\n",
              "      <td>Rented apartment</td>\n",
              "      <td>-12005</td>\n",
              "      <td>-4542</td>\n",
              "      <td>1</td>\n",
              "      <td>1</td>\n",
              "      <td>0</td>\n",
              "      <td>0</td>\n",
              "      <td>NaN</td>\n",
              "      <td>2.0</td>\n",
              "    </tr>\n",
              "    <tr>\n",
              "      <th>4</th>\n",
              "      <td>5008804</td>\n",
              "      <td>-4</td>\n",
              "      <td>C</td>\n",
              "      <td>M</td>\n",
              "      <td>Y</td>\n",
              "      <td>Y</td>\n",
              "      <td>0</td>\n",
              "      <td>427500.0</td>\n",
              "      <td>Working</td>\n",
              "      <td>Higher education</td>\n",
              "      <td>Civil marriage</td>\n",
              "      <td>Rented apartment</td>\n",
              "      <td>-12005</td>\n",
              "      <td>-4542</td>\n",
              "      <td>1</td>\n",
              "      <td>1</td>\n",
              "      <td>0</td>\n",
              "      <td>0</td>\n",
              "      <td>NaN</td>\n",
              "      <td>2.0</td>\n",
              "    </tr>\n",
              "    <tr>\n",
              "      <th>...</th>\n",
              "      <td>...</td>\n",
              "      <td>...</td>\n",
              "      <td>...</td>\n",
              "      <td>...</td>\n",
              "      <td>...</td>\n",
              "      <td>...</td>\n",
              "      <td>...</td>\n",
              "      <td>...</td>\n",
              "      <td>...</td>\n",
              "      <td>...</td>\n",
              "      <td>...</td>\n",
              "      <td>...</td>\n",
              "      <td>...</td>\n",
              "      <td>...</td>\n",
              "      <td>...</td>\n",
              "      <td>...</td>\n",
              "      <td>...</td>\n",
              "      <td>...</td>\n",
              "      <td>...</td>\n",
              "      <td>...</td>\n",
              "    </tr>\n",
              "    <tr>\n",
              "      <th>777710</th>\n",
              "      <td>5150487</td>\n",
              "      <td>-25</td>\n",
              "      <td>C</td>\n",
              "      <td>M</td>\n",
              "      <td>Y</td>\n",
              "      <td>N</td>\n",
              "      <td>0</td>\n",
              "      <td>202500.0</td>\n",
              "      <td>Working</td>\n",
              "      <td>Secondary / secondary special</td>\n",
              "      <td>Married</td>\n",
              "      <td>House / apartment</td>\n",
              "      <td>-19398</td>\n",
              "      <td>-2166</td>\n",
              "      <td>1</td>\n",
              "      <td>0</td>\n",
              "      <td>0</td>\n",
              "      <td>0</td>\n",
              "      <td>Drivers</td>\n",
              "      <td>2.0</td>\n",
              "    </tr>\n",
              "    <tr>\n",
              "      <th>777711</th>\n",
              "      <td>5150487</td>\n",
              "      <td>-26</td>\n",
              "      <td>C</td>\n",
              "      <td>M</td>\n",
              "      <td>Y</td>\n",
              "      <td>N</td>\n",
              "      <td>0</td>\n",
              "      <td>202500.0</td>\n",
              "      <td>Working</td>\n",
              "      <td>Secondary / secondary special</td>\n",
              "      <td>Married</td>\n",
              "      <td>House / apartment</td>\n",
              "      <td>-19398</td>\n",
              "      <td>-2166</td>\n",
              "      <td>1</td>\n",
              "      <td>0</td>\n",
              "      <td>0</td>\n",
              "      <td>0</td>\n",
              "      <td>Drivers</td>\n",
              "      <td>2.0</td>\n",
              "    </tr>\n",
              "    <tr>\n",
              "      <th>777712</th>\n",
              "      <td>5150487</td>\n",
              "      <td>-27</td>\n",
              "      <td>C</td>\n",
              "      <td>M</td>\n",
              "      <td>Y</td>\n",
              "      <td>N</td>\n",
              "      <td>0</td>\n",
              "      <td>202500.0</td>\n",
              "      <td>Working</td>\n",
              "      <td>Secondary / secondary special</td>\n",
              "      <td>Married</td>\n",
              "      <td>House / apartment</td>\n",
              "      <td>-19398</td>\n",
              "      <td>-2166</td>\n",
              "      <td>1</td>\n",
              "      <td>0</td>\n",
              "      <td>0</td>\n",
              "      <td>0</td>\n",
              "      <td>Drivers</td>\n",
              "      <td>2.0</td>\n",
              "    </tr>\n",
              "    <tr>\n",
              "      <th>777713</th>\n",
              "      <td>5150487</td>\n",
              "      <td>-28</td>\n",
              "      <td>C</td>\n",
              "      <td>M</td>\n",
              "      <td>Y</td>\n",
              "      <td>N</td>\n",
              "      <td>0</td>\n",
              "      <td>202500.0</td>\n",
              "      <td>Working</td>\n",
              "      <td>Secondary / secondary special</td>\n",
              "      <td>Married</td>\n",
              "      <td>House / apartment</td>\n",
              "      <td>-19398</td>\n",
              "      <td>-2166</td>\n",
              "      <td>1</td>\n",
              "      <td>0</td>\n",
              "      <td>0</td>\n",
              "      <td>0</td>\n",
              "      <td>Drivers</td>\n",
              "      <td>2.0</td>\n",
              "    </tr>\n",
              "    <tr>\n",
              "      <th>777714</th>\n",
              "      <td>5150487</td>\n",
              "      <td>-29</td>\n",
              "      <td>C</td>\n",
              "      <td>M</td>\n",
              "      <td>Y</td>\n",
              "      <td>N</td>\n",
              "      <td>0</td>\n",
              "      <td>202500.0</td>\n",
              "      <td>Working</td>\n",
              "      <td>Secondary / secondary special</td>\n",
              "      <td>Married</td>\n",
              "      <td>House / apartment</td>\n",
              "      <td>-19398</td>\n",
              "      <td>-2166</td>\n",
              "      <td>1</td>\n",
              "      <td>0</td>\n",
              "      <td>0</td>\n",
              "      <td>0</td>\n",
              "      <td>Drivers</td>\n",
              "      <td>2.0</td>\n",
              "    </tr>\n",
              "  </tbody>\n",
              "</table>\n",
              "<p>777715 rows × 20 columns</p>\n",
              "</div>\n",
              "      <button class=\"colab-df-convert\" onclick=\"convertToInteractive('df-3f5f4930-8c93-461b-8e4a-542270d38fc0')\"\n",
              "              title=\"Convert this dataframe to an interactive table.\"\n",
              "              style=\"display:none;\">\n",
              "        \n",
              "  <svg xmlns=\"http://www.w3.org/2000/svg\" height=\"24px\"viewBox=\"0 0 24 24\"\n",
              "       width=\"24px\">\n",
              "    <path d=\"M0 0h24v24H0V0z\" fill=\"none\"/>\n",
              "    <path d=\"M18.56 5.44l.94 2.06.94-2.06 2.06-.94-2.06-.94-.94-2.06-.94 2.06-2.06.94zm-11 1L8.5 8.5l.94-2.06 2.06-.94-2.06-.94L8.5 2.5l-.94 2.06-2.06.94zm10 10l.94 2.06.94-2.06 2.06-.94-2.06-.94-.94-2.06-.94 2.06-2.06.94z\"/><path d=\"M17.41 7.96l-1.37-1.37c-.4-.4-.92-.59-1.43-.59-.52 0-1.04.2-1.43.59L10.3 9.45l-7.72 7.72c-.78.78-.78 2.05 0 2.83L4 21.41c.39.39.9.59 1.41.59.51 0 1.02-.2 1.41-.59l7.78-7.78 2.81-2.81c.8-.78.8-2.07 0-2.86zM5.41 20L4 18.59l7.72-7.72 1.47 1.35L5.41 20z\"/>\n",
              "  </svg>\n",
              "      </button>\n",
              "      \n",
              "  <style>\n",
              "    .colab-df-container {\n",
              "      display:flex;\n",
              "      flex-wrap:wrap;\n",
              "      gap: 12px;\n",
              "    }\n",
              "\n",
              "    .colab-df-convert {\n",
              "      background-color: #E8F0FE;\n",
              "      border: none;\n",
              "      border-radius: 50%;\n",
              "      cursor: pointer;\n",
              "      display: none;\n",
              "      fill: #1967D2;\n",
              "      height: 32px;\n",
              "      padding: 0 0 0 0;\n",
              "      width: 32px;\n",
              "    }\n",
              "\n",
              "    .colab-df-convert:hover {\n",
              "      background-color: #E2EBFA;\n",
              "      box-shadow: 0px 1px 2px rgba(60, 64, 67, 0.3), 0px 1px 3px 1px rgba(60, 64, 67, 0.15);\n",
              "      fill: #174EA6;\n",
              "    }\n",
              "\n",
              "    [theme=dark] .colab-df-convert {\n",
              "      background-color: #3B4455;\n",
              "      fill: #D2E3FC;\n",
              "    }\n",
              "\n",
              "    [theme=dark] .colab-df-convert:hover {\n",
              "      background-color: #434B5C;\n",
              "      box-shadow: 0px 1px 3px 1px rgba(0, 0, 0, 0.15);\n",
              "      filter: drop-shadow(0px 1px 2px rgba(0, 0, 0, 0.3));\n",
              "      fill: #FFFFFF;\n",
              "    }\n",
              "  </style>\n",
              "\n",
              "      <script>\n",
              "        const buttonEl =\n",
              "          document.querySelector('#df-3f5f4930-8c93-461b-8e4a-542270d38fc0 button.colab-df-convert');\n",
              "        buttonEl.style.display =\n",
              "          google.colab.kernel.accessAllowed ? 'block' : 'none';\n",
              "\n",
              "        async function convertToInteractive(key) {\n",
              "          const element = document.querySelector('#df-3f5f4930-8c93-461b-8e4a-542270d38fc0');\n",
              "          const dataTable =\n",
              "            await google.colab.kernel.invokeFunction('convertToInteractive',\n",
              "                                                     [key], {});\n",
              "          if (!dataTable) return;\n",
              "\n",
              "          const docLinkHtml = 'Like what you see? Visit the ' +\n",
              "            '<a target=\"_blank\" href=https://colab.research.google.com/notebooks/data_table.ipynb>data table notebook</a>'\n",
              "            + ' to learn more about interactive tables.';\n",
              "          element.innerHTML = '';\n",
              "          dataTable['output_type'] = 'display_data';\n",
              "          await google.colab.output.renderOutput(dataTable, element);\n",
              "          const docLink = document.createElement('div');\n",
              "          docLink.innerHTML = docLinkHtml;\n",
              "          element.appendChild(docLink);\n",
              "        }\n",
              "      </script>\n",
              "    </div>\n",
              "  </div>\n",
              "  "
            ]
          },
          "metadata": {},
          "execution_count": 12
        }
      ],
      "source": [
        "df3"
      ]
    },
    {
      "cell_type": "code",
      "execution_count": null,
      "metadata": {
        "ExecuteTime": {
          "end_time": "2022-11-22T00:32:14.033901Z",
          "start_time": "2022-11-22T00:32:13.462023Z"
        },
        "execution": {
          "iopub.execute_input": "2022-11-07T23:52:38.833724Z",
          "iopub.status.busy": "2022-11-07T23:52:38.832723Z",
          "iopub.status.idle": "2022-11-07T23:52:39.256569Z",
          "shell.execute_reply": "2022-11-07T23:52:39.256569Z",
          "shell.execute_reply.started": "2022-11-07T23:52:38.833724Z"
        },
        "id": "Z84-9xYwDpgC",
        "colab": {
          "base_uri": "https://localhost:8080/"
        },
        "outputId": "57e702ca-8b64-4b55-9e3d-30ea575430d4"
      },
      "outputs": [
        {
          "output_type": "stream",
          "name": "stdout",
          "text": [
            "<class 'pandas.core.frame.DataFrame'>\n",
            "Int64Index: 777715 entries, 0 to 777714\n",
            "Data columns (total 20 columns):\n",
            " #   Column               Non-Null Count   Dtype  \n",
            "---  ------               --------------   -----  \n",
            " 0   ID                   777715 non-null  int64  \n",
            " 1   MONTHS_BALANCE       777715 non-null  int64  \n",
            " 2   STATUS               777715 non-null  object \n",
            " 3   CODE_GENDER          777715 non-null  object \n",
            " 4   FLAG_OWN_CAR         777715 non-null  object \n",
            " 5   FLAG_OWN_REALTY      777715 non-null  object \n",
            " 6   CNT_CHILDREN         777715 non-null  int64  \n",
            " 7   AMT_INCOME_TOTAL     777715 non-null  float64\n",
            " 8   NAME_INCOME_TYPE     777715 non-null  object \n",
            " 9   NAME_EDUCATION_TYPE  777715 non-null  object \n",
            " 10  NAME_FAMILY_STATUS   777715 non-null  object \n",
            " 11  NAME_HOUSING_TYPE    777715 non-null  object \n",
            " 12  DAYS_BIRTH           777715 non-null  int64  \n",
            " 13  DAYS_EMPLOYED        777715 non-null  int64  \n",
            " 14  FLAG_MOBIL           777715 non-null  int64  \n",
            " 15  FLAG_WORK_PHONE      777715 non-null  int64  \n",
            " 16  FLAG_PHONE           777715 non-null  int64  \n",
            " 17  FLAG_EMAIL           777715 non-null  int64  \n",
            " 18  OCCUPATION_TYPE      537667 non-null  object \n",
            " 19  CNT_FAM_MEMBERS      777715 non-null  float64\n",
            "dtypes: float64(2), int64(9), object(9)\n",
            "memory usage: 124.6+ MB\n"
          ]
        }
      ],
      "source": [
        "df3.info()"
      ]
    },
    {
      "cell_type": "markdown",
      "metadata": {
        "id": "_1FHwl3bCoW6"
      },
      "source": [
        "---\n",
        "Realizamos las siguientes transformaciones en los datos:\n",
        "\n",
        "* La columna de 'DAYS_BIRTH' por 'AGE' para pasar de datos en dias, a años que es una variable más facil de manejar.\n",
        "* La columna 'OCCUPATION_TYPE' recibio un relleno en sus valores nulos, por '0'.\n",
        "* Al igual que la columna 'DAYS_BIRTH', la columna 'DAYS_EMPLOYED' fue reemplazada por 'YEARS_EMPLOYED' para pasar de datos diarios a anuales.\n",
        "* Teniamos datos negativos en la columna 'YEARS_EMPLOYED', y descubrimos que eran los pertenecientes a la categoria 'PENSIONER' (personas que no cuentan con empleo), por ello reemplazamos estos valores por 0.\n",
        "* Como se introdujo previamente, realizamos un agrupamiento en la variable 'STATUS'. Esto lo realizamos a fines de simplificar el modelo.\n",
        "* Se eliminaron las columnas 'DAYS_EMPLOYED' y 'DAYS_BIRTH' ya que sufrieron los cambios mencionados previamente.\n",
        "* Se convirtieron los datos de la columna *CODE_GENDER* de M y F, a 0 y 1 respectivamente\n",
        "* Se convirtieron los datos de las columnas *FLAG_OWN_CAR* y *FLAG_OWN_REALTY* de Y, N a 1 y 0 respectivamente\n",
        "* Se agrego un dato perteneciente a *Malos pagadores* (los valores introducidos fueron la media de cada columna), *Student* con el fin de que exista al menos 1 dato de dicha categoria en *Malos pagadores* y de esta forma los colores de los graficos se respetan.\n"
      ]
    },
    {
      "cell_type": "code",
      "execution_count": null,
      "metadata": {
        "ExecuteTime": {
          "end_time": "2022-11-22T00:32:14.051810Z",
          "start_time": "2022-11-22T00:32:14.036910Z"
        },
        "execution": {
          "iopub.execute_input": "2022-11-07T23:52:39.257571Z",
          "iopub.status.busy": "2022-11-07T23:52:39.256569Z",
          "iopub.status.idle": "2022-11-07T23:52:39.263078Z",
          "shell.execute_reply": "2022-11-07T23:52:39.263078Z",
          "shell.execute_reply.started": "2022-11-07T23:52:39.257571Z"
        },
        "id": "9WbhO2tACnLR"
      },
      "outputs": [],
      "source": [
        "df3['AGE']=df3['DAYS_BIRTH']/-365"
      ]
    },
    {
      "cell_type": "code",
      "execution_count": null,
      "metadata": {
        "ExecuteTime": {
          "end_time": "2022-11-22T00:32:14.081859Z",
          "start_time": "2022-11-22T00:32:14.052814Z"
        },
        "execution": {
          "iopub.execute_input": "2022-11-07T23:52:39.263078Z",
          "iopub.status.busy": "2022-11-07T23:52:39.263078Z",
          "iopub.status.idle": "2022-11-07T23:52:39.280117Z",
          "shell.execute_reply": "2022-11-07T23:52:39.280117Z",
          "shell.execute_reply.started": "2022-11-07T23:52:39.263078Z"
        },
        "id": "ML35957vIxPo"
      },
      "outputs": [],
      "source": [
        "df3['OCCUPATION_TYPE'].fillna(0,inplace=True)"
      ]
    },
    {
      "cell_type": "code",
      "execution_count": null,
      "metadata": {
        "ExecuteTime": {
          "end_time": "2022-11-22T00:32:14.096584Z",
          "start_time": "2022-11-22T00:32:14.082864Z"
        },
        "execution": {
          "iopub.execute_input": "2022-11-07T23:52:39.281119Z",
          "iopub.status.busy": "2022-11-07T23:52:39.281119Z",
          "iopub.status.idle": "2022-11-07T23:52:39.289120Z",
          "shell.execute_reply": "2022-11-07T23:52:39.289120Z",
          "shell.execute_reply.started": "2022-11-07T23:52:39.281119Z"
        },
        "id": "cJHMGSQGJ8KB"
      },
      "outputs": [],
      "source": [
        "df3['YEARS_EMPLOYED']=df3['DAYS_EMPLOYED']/-365"
      ]
    },
    {
      "cell_type": "code",
      "execution_count": null,
      "metadata": {
        "ExecuteTime": {
          "end_time": "2022-11-22T00:32:14.315837Z",
          "start_time": "2022-11-22T00:32:14.099587Z"
        },
        "execution": {
          "iopub.execute_input": "2022-11-07T23:52:39.290120Z",
          "iopub.status.busy": "2022-11-07T23:52:39.290120Z",
          "iopub.status.idle": "2022-11-07T23:52:39.435386Z",
          "shell.execute_reply": "2022-11-07T23:52:39.435386Z",
          "shell.execute_reply.started": "2022-11-07T23:52:39.290120Z"
        },
        "id": "XUIqnP0zOO62"
      },
      "outputs": [],
      "source": [
        "df3.drop(columns=['DAYS_EMPLOYED','DAYS_BIRTH'],inplace=True)"
      ]
    },
    {
      "cell_type": "code",
      "execution_count": null,
      "metadata": {
        "ExecuteTime": {
          "end_time": "2022-11-22T00:32:14.358660Z",
          "start_time": "2022-11-22T00:32:14.316838Z"
        },
        "execution": {
          "iopub.execute_input": "2022-11-07T23:52:39.436565Z",
          "iopub.status.busy": "2022-11-07T23:52:39.435386Z",
          "iopub.status.idle": "2022-11-07T23:52:39.460614Z",
          "shell.execute_reply": "2022-11-07T23:52:39.460614Z",
          "shell.execute_reply.started": "2022-11-07T23:52:39.435386Z"
        },
        "id": "SF2rWbo3KFWy",
        "colab": {
          "base_uri": "https://localhost:8080/"
        },
        "outputId": "028990b4-c330-4e4a-8a53-62014b38d539"
      },
      "outputs": [
        {
          "output_type": "execute_result",
          "data": {
            "text/plain": [
              "array(['Pensioner'], dtype=object)"
            ]
          },
          "metadata": {},
          "execution_count": 18
        }
      ],
      "source": [
        "df3[df3['YEARS_EMPLOYED']<-0]['NAME_INCOME_TYPE'].unique()"
      ]
    },
    {
      "cell_type": "code",
      "execution_count": null,
      "metadata": {
        "ExecuteTime": {
          "end_time": "2022-11-22T00:32:14.392623Z",
          "start_time": "2022-11-22T00:32:14.359661Z"
        },
        "execution": {
          "iopub.execute_input": "2022-11-07T23:52:39.461614Z",
          "iopub.status.busy": "2022-11-07T23:52:39.461614Z",
          "iopub.status.idle": "2022-11-07T23:52:39.478921Z",
          "shell.execute_reply": "2022-11-07T23:52:39.478921Z",
          "shell.execute_reply.started": "2022-11-07T23:52:39.461614Z"
        },
        "id": "p23MCTc7LlPO",
        "colab": {
          "base_uri": "https://localhost:8080/"
        },
        "outputId": "32251e21-bf7d-4005-c0cb-f694a7b06755"
      },
      "outputs": [
        {
          "output_type": "execute_result",
          "data": {
            "text/plain": [
              "array([-1000.66575342])"
            ]
          },
          "metadata": {},
          "execution_count": 19
        }
      ],
      "source": [
        "df3[df3['YEARS_EMPLOYED']<-0]['YEARS_EMPLOYED'].unique()"
      ]
    },
    {
      "cell_type": "code",
      "execution_count": null,
      "metadata": {
        "ExecuteTime": {
          "end_time": "2022-11-22T00:32:14.399226Z",
          "start_time": "2022-11-22T00:32:14.392623Z"
        },
        "execution": {
          "iopub.execute_input": "2022-11-07T23:52:39.478921Z",
          "iopub.status.busy": "2022-11-07T23:52:39.478921Z",
          "iopub.status.idle": "2022-11-07T23:52:39.485225Z",
          "shell.execute_reply": "2022-11-07T23:52:39.485225Z",
          "shell.execute_reply.started": "2022-11-07T23:52:39.478921Z"
        },
        "id": "WQ3fcVc8KZx0"
      },
      "outputs": [],
      "source": [
        "df3.loc[df3.YEARS_EMPLOYED<0,'YEARS_EMPLOYED']=0"
      ]
    },
    {
      "cell_type": "code",
      "execution_count": null,
      "metadata": {
        "ExecuteTime": {
          "end_time": "2022-11-22T00:32:14.407758Z",
          "start_time": "2022-11-22T00:32:14.401228Z"
        },
        "execution": {
          "iopub.execute_input": "2022-11-07T23:52:39.486225Z",
          "iopub.status.busy": "2022-11-07T23:52:39.485225Z",
          "iopub.status.idle": "2022-11-07T23:52:39.493751Z",
          "shell.execute_reply": "2022-11-07T23:52:39.493751Z",
          "shell.execute_reply.started": "2022-11-07T23:52:39.485225Z"
        },
        "id": "fKBOuOJxL8bI",
        "colab": {
          "base_uri": "https://localhost:8080/"
        },
        "outputId": "76d1ad7f-4f32-4298-98fa-dfb289a95058"
      },
      "outputs": [
        {
          "output_type": "stream",
          "name": "stdout",
          "text": [
            "Empty DataFrame\n",
            "Columns: [ID, MONTHS_BALANCE, STATUS, CODE_GENDER, FLAG_OWN_CAR, FLAG_OWN_REALTY, CNT_CHILDREN, AMT_INCOME_TOTAL, NAME_INCOME_TYPE, NAME_EDUCATION_TYPE, NAME_FAMILY_STATUS, NAME_HOUSING_TYPE, FLAG_MOBIL, FLAG_WORK_PHONE, FLAG_PHONE, FLAG_EMAIL, OCCUPATION_TYPE, CNT_FAM_MEMBERS, AGE, YEARS_EMPLOYED]\n",
            "Index: []\n"
          ]
        }
      ],
      "source": [
        "print(df3[df3['YEARS_EMPLOYED']<0])"
      ]
    },
    {
      "cell_type": "code",
      "execution_count": null,
      "metadata": {
        "ExecuteTime": {
          "end_time": "2022-11-22T00:32:14.543130Z",
          "start_time": "2022-11-22T00:32:14.408760Z"
        },
        "execution": {
          "iopub.execute_input": "2022-11-07T23:52:39.494752Z",
          "iopub.status.busy": "2022-11-07T23:52:39.493751Z",
          "iopub.status.idle": "2022-11-07T23:52:39.583514Z",
          "shell.execute_reply": "2022-11-07T23:52:39.583514Z",
          "shell.execute_reply.started": "2022-11-07T23:52:39.493751Z"
        },
        "id": "SIc0ar0VVzob"
      },
      "outputs": [],
      "source": [
        "df3['STATUS'] = df3['STATUS'].replace(['C', '0','1'],'1')"
      ]
    },
    {
      "cell_type": "code",
      "execution_count": null,
      "metadata": {
        "ExecuteTime": {
          "end_time": "2022-11-22T00:32:14.658035Z",
          "start_time": "2022-11-22T00:32:14.544129Z"
        },
        "execution": {
          "iopub.execute_input": "2022-11-07T23:52:39.584513Z",
          "iopub.status.busy": "2022-11-07T23:52:39.583514Z",
          "iopub.status.idle": "2022-11-07T23:52:39.660471Z",
          "shell.execute_reply": "2022-11-07T23:52:39.660471Z",
          "shell.execute_reply.started": "2022-11-07T23:52:39.584513Z"
        },
        "id": "p92irSEvaalb"
      },
      "outputs": [],
      "source": [
        "df3['STATUS'] = df3['STATUS'].replace(['2', '3', '4', '5'],'2')"
      ]
    },
    {
      "cell_type": "code",
      "execution_count": null,
      "metadata": {
        "ExecuteTime": {
          "end_time": "2022-11-22T00:32:14.713202Z",
          "start_time": "2022-11-22T00:32:14.659416Z"
        },
        "execution": {
          "iopub.execute_input": "2022-11-07T23:52:39.660471Z",
          "iopub.status.busy": "2022-11-07T23:52:39.660471Z",
          "iopub.status.idle": "2022-11-07T23:52:39.700803Z",
          "shell.execute_reply": "2022-11-07T23:52:39.700803Z",
          "shell.execute_reply.started": "2022-11-07T23:52:39.660471Z"
        },
        "id": "mJ6pfkdWaoDU"
      },
      "outputs": [],
      "source": [
        "df3['STATUS'] = df3['STATUS'].replace(['X'],'0')"
      ]
    },
    {
      "cell_type": "code",
      "execution_count": null,
      "metadata": {
        "ExecuteTime": {
          "end_time": "2022-11-22T00:32:14.783047Z",
          "start_time": "2022-11-22T00:32:14.714201Z"
        },
        "execution": {
          "iopub.execute_input": "2022-11-07T23:52:39.701803Z",
          "iopub.status.busy": "2022-11-07T23:52:39.700803Z",
          "iopub.status.idle": "2022-11-07T23:52:39.736755Z",
          "shell.execute_reply": "2022-11-07T23:52:39.736755Z",
          "shell.execute_reply.started": "2022-11-07T23:52:39.701803Z"
        },
        "id": "jCNzJd3Acx_U",
        "colab": {
          "base_uri": "https://localhost:8080/"
        },
        "outputId": "a4f3715d-7d86-419c-9f9d-e95e7b5360a2"
      },
      "outputs": [
        {
          "output_type": "stream",
          "name": "stdout",
          "text": [
            "1    628937\n",
            "0    145950\n",
            "2      2828\n",
            "Name: STATUS, dtype: int64\n"
          ]
        }
      ],
      "source": [
        "df3['STATUS'] = df3['STATUS'].astype(int)\n",
        "print(df3['STATUS'].value_counts())"
      ]
    },
    {
      "cell_type": "code",
      "execution_count": null,
      "metadata": {
        "ExecuteTime": {
          "end_time": "2022-11-22T00:32:14.954874Z",
          "start_time": "2022-11-22T00:32:14.785050Z"
        },
        "execution": {
          "iopub.execute_input": "2022-11-07T23:52:39.737755Z",
          "iopub.status.busy": "2022-11-07T23:52:39.737755Z",
          "iopub.status.idle": "2022-11-07T23:52:39.850247Z",
          "shell.execute_reply": "2022-11-07T23:52:39.850247Z",
          "shell.execute_reply.started": "2022-11-07T23:52:39.737755Z"
        },
        "id": "WAE98Dj2ATBY"
      },
      "outputs": [],
      "source": [
        "df3['CODE_GENDER'] = df3['CODE_GENDER'].replace('M', 1)\n",
        "df3['CODE_GENDER'] = df3['CODE_GENDER'].replace('F', 0)\n",
        "df3['CODE_GENDER'] = df3['CODE_GENDER'].astype(int)"
      ]
    },
    {
      "cell_type": "code",
      "execution_count": null,
      "metadata": {
        "ExecuteTime": {
          "end_time": "2022-11-22T00:32:15.155470Z",
          "start_time": "2022-11-22T00:32:14.955874Z"
        },
        "execution": {
          "iopub.execute_input": "2022-11-07T23:52:39.850247Z",
          "iopub.status.busy": "2022-11-07T23:52:39.850247Z",
          "iopub.status.idle": "2022-11-07T23:52:39.966259Z",
          "shell.execute_reply": "2022-11-07T23:52:39.966259Z",
          "shell.execute_reply.started": "2022-11-07T23:52:39.850247Z"
        },
        "id": "FMt9El_2ATBY"
      },
      "outputs": [],
      "source": [
        "df3['FLAG_OWN_CAR'] = df3['FLAG_OWN_CAR'].replace('Y', 1)\n",
        "df3['FLAG_OWN_CAR'] = df3['FLAG_OWN_CAR'].replace('N', 0)\n",
        "df3['FLAG_OWN_CAR'] = df3['FLAG_OWN_CAR'].astype(int)"
      ]
    },
    {
      "cell_type": "code",
      "execution_count": null,
      "metadata": {
        "ExecuteTime": {
          "end_time": "2022-11-22T00:32:15.323045Z",
          "start_time": "2022-11-22T00:32:15.156976Z"
        },
        "execution": {
          "iopub.execute_input": "2022-11-07T23:52:39.966259Z",
          "iopub.status.busy": "2022-11-07T23:52:39.966259Z",
          "iopub.status.idle": "2022-11-07T23:52:40.075408Z",
          "shell.execute_reply": "2022-11-07T23:52:40.075408Z",
          "shell.execute_reply.started": "2022-11-07T23:52:39.966259Z"
        },
        "id": "ZTZoWvfpATBY"
      },
      "outputs": [],
      "source": [
        "df3['FLAG_OWN_REALTY'] = df3['FLAG_OWN_REALTY'].replace('Y', 1)\n",
        "df3['FLAG_OWN_REALTY'] = df3['FLAG_OWN_REALTY'].replace('N', 0)\n",
        "df3['FLAG_OWN_REALTY'] = df3['FLAG_OWN_CAR'].astype(int)"
      ]
    },
    {
      "cell_type": "markdown",
      "source": [
        "# Sample el df"
      ],
      "metadata": {
        "collapsed": false,
        "id": "Bb5pZ0AjFWaZ"
      }
    },
    {
      "cell_type": "markdown",
      "source": [
        "Hicimos una partición del dataframe (con 100000 datos en total), con el fin de reducir los tiempos de procesado, ya que era virtualmente imposible realizar los entrenamientos de modelos y grillas con un dataset tan grande (aproximadamente 2 millones de datos luego del oversampling aplicado debajo con la función smoteTOMEK). Para ser consistentes en todo el trabajo, realizamos el eda con el dataset sampleado, teniendo en cuenta que los porcentajes de participación en cada 'STATUS' prácticamente no han variado luego del sampleo, como se muestra más abajo"
      ],
      "metadata": {
        "collapsed": false,
        "id": "jTcDSxZ9B4YY"
      }
    },
    {
      "cell_type": "code",
      "execution_count": null,
      "outputs": [
        {
          "output_type": "execute_result",
          "data": {
            "text/plain": [
              "             ID  MONTHS_BALANCE  STATUS  CODE_GENDER  FLAG_OWN_CAR  \\\n",
              "0       5008804               0       1            1             1   \n",
              "1       5008804              -1       1            1             1   \n",
              "2       5008804              -2       1            1             1   \n",
              "3       5008804              -3       1            1             1   \n",
              "4       5008804              -4       1            1             1   \n",
              "...         ...             ...     ...          ...           ...   \n",
              "777710  5150487             -25       1            1             1   \n",
              "777711  5150487             -26       1            1             1   \n",
              "777712  5150487             -27       1            1             1   \n",
              "777713  5150487             -28       1            1             1   \n",
              "777714  5150487             -29       1            1             1   \n",
              "\n",
              "        FLAG_OWN_REALTY  CNT_CHILDREN  AMT_INCOME_TOTAL NAME_INCOME_TYPE  \\\n",
              "0                     1             0          427500.0          Working   \n",
              "1                     1             0          427500.0          Working   \n",
              "2                     1             0          427500.0          Working   \n",
              "3                     1             0          427500.0          Working   \n",
              "4                     1             0          427500.0          Working   \n",
              "...                 ...           ...               ...              ...   \n",
              "777710                1             0          202500.0          Working   \n",
              "777711                1             0          202500.0          Working   \n",
              "777712                1             0          202500.0          Working   \n",
              "777713                1             0          202500.0          Working   \n",
              "777714                1             0          202500.0          Working   \n",
              "\n",
              "                  NAME_EDUCATION_TYPE NAME_FAMILY_STATUS  NAME_HOUSING_TYPE  \\\n",
              "0                    Higher education     Civil marriage   Rented apartment   \n",
              "1                    Higher education     Civil marriage   Rented apartment   \n",
              "2                    Higher education     Civil marriage   Rented apartment   \n",
              "3                    Higher education     Civil marriage   Rented apartment   \n",
              "4                    Higher education     Civil marriage   Rented apartment   \n",
              "...                               ...                ...                ...   \n",
              "777710  Secondary / secondary special            Married  House / apartment   \n",
              "777711  Secondary / secondary special            Married  House / apartment   \n",
              "777712  Secondary / secondary special            Married  House / apartment   \n",
              "777713  Secondary / secondary special            Married  House / apartment   \n",
              "777714  Secondary / secondary special            Married  House / apartment   \n",
              "\n",
              "        FLAG_MOBIL  FLAG_WORK_PHONE  FLAG_PHONE  FLAG_EMAIL OCCUPATION_TYPE  \\\n",
              "0                1                1           0           0               0   \n",
              "1                1                1           0           0               0   \n",
              "2                1                1           0           0               0   \n",
              "3                1                1           0           0               0   \n",
              "4                1                1           0           0               0   \n",
              "...            ...              ...         ...         ...             ...   \n",
              "777710           1                0           0           0         Drivers   \n",
              "777711           1                0           0           0         Drivers   \n",
              "777712           1                0           0           0         Drivers   \n",
              "777713           1                0           0           0         Drivers   \n",
              "777714           1                0           0           0         Drivers   \n",
              "\n",
              "        CNT_FAM_MEMBERS        AGE  YEARS_EMPLOYED  \n",
              "0                   2.0  32.890411       12.443836  \n",
              "1                   2.0  32.890411       12.443836  \n",
              "2                   2.0  32.890411       12.443836  \n",
              "3                   2.0  32.890411       12.443836  \n",
              "4                   2.0  32.890411       12.443836  \n",
              "...                 ...        ...             ...  \n",
              "777710              2.0  53.145205        5.934247  \n",
              "777711              2.0  53.145205        5.934247  \n",
              "777712              2.0  53.145205        5.934247  \n",
              "777713              2.0  53.145205        5.934247  \n",
              "777714              2.0  53.145205        5.934247  \n",
              "\n",
              "[777715 rows x 20 columns]"
            ],
            "text/html": [
              "\n",
              "  <div id=\"df-d2962a33-85cd-452c-ac55-fd056bc05e9d\">\n",
              "    <div class=\"colab-df-container\">\n",
              "      <div>\n",
              "<style scoped>\n",
              "    .dataframe tbody tr th:only-of-type {\n",
              "        vertical-align: middle;\n",
              "    }\n",
              "\n",
              "    .dataframe tbody tr th {\n",
              "        vertical-align: top;\n",
              "    }\n",
              "\n",
              "    .dataframe thead th {\n",
              "        text-align: right;\n",
              "    }\n",
              "</style>\n",
              "<table border=\"1\" class=\"dataframe\">\n",
              "  <thead>\n",
              "    <tr style=\"text-align: right;\">\n",
              "      <th></th>\n",
              "      <th>ID</th>\n",
              "      <th>MONTHS_BALANCE</th>\n",
              "      <th>STATUS</th>\n",
              "      <th>CODE_GENDER</th>\n",
              "      <th>FLAG_OWN_CAR</th>\n",
              "      <th>FLAG_OWN_REALTY</th>\n",
              "      <th>CNT_CHILDREN</th>\n",
              "      <th>AMT_INCOME_TOTAL</th>\n",
              "      <th>NAME_INCOME_TYPE</th>\n",
              "      <th>NAME_EDUCATION_TYPE</th>\n",
              "      <th>NAME_FAMILY_STATUS</th>\n",
              "      <th>NAME_HOUSING_TYPE</th>\n",
              "      <th>FLAG_MOBIL</th>\n",
              "      <th>FLAG_WORK_PHONE</th>\n",
              "      <th>FLAG_PHONE</th>\n",
              "      <th>FLAG_EMAIL</th>\n",
              "      <th>OCCUPATION_TYPE</th>\n",
              "      <th>CNT_FAM_MEMBERS</th>\n",
              "      <th>AGE</th>\n",
              "      <th>YEARS_EMPLOYED</th>\n",
              "    </tr>\n",
              "  </thead>\n",
              "  <tbody>\n",
              "    <tr>\n",
              "      <th>0</th>\n",
              "      <td>5008804</td>\n",
              "      <td>0</td>\n",
              "      <td>1</td>\n",
              "      <td>1</td>\n",
              "      <td>1</td>\n",
              "      <td>1</td>\n",
              "      <td>0</td>\n",
              "      <td>427500.0</td>\n",
              "      <td>Working</td>\n",
              "      <td>Higher education</td>\n",
              "      <td>Civil marriage</td>\n",
              "      <td>Rented apartment</td>\n",
              "      <td>1</td>\n",
              "      <td>1</td>\n",
              "      <td>0</td>\n",
              "      <td>0</td>\n",
              "      <td>0</td>\n",
              "      <td>2.0</td>\n",
              "      <td>32.890411</td>\n",
              "      <td>12.443836</td>\n",
              "    </tr>\n",
              "    <tr>\n",
              "      <th>1</th>\n",
              "      <td>5008804</td>\n",
              "      <td>-1</td>\n",
              "      <td>1</td>\n",
              "      <td>1</td>\n",
              "      <td>1</td>\n",
              "      <td>1</td>\n",
              "      <td>0</td>\n",
              "      <td>427500.0</td>\n",
              "      <td>Working</td>\n",
              "      <td>Higher education</td>\n",
              "      <td>Civil marriage</td>\n",
              "      <td>Rented apartment</td>\n",
              "      <td>1</td>\n",
              "      <td>1</td>\n",
              "      <td>0</td>\n",
              "      <td>0</td>\n",
              "      <td>0</td>\n",
              "      <td>2.0</td>\n",
              "      <td>32.890411</td>\n",
              "      <td>12.443836</td>\n",
              "    </tr>\n",
              "    <tr>\n",
              "      <th>2</th>\n",
              "      <td>5008804</td>\n",
              "      <td>-2</td>\n",
              "      <td>1</td>\n",
              "      <td>1</td>\n",
              "      <td>1</td>\n",
              "      <td>1</td>\n",
              "      <td>0</td>\n",
              "      <td>427500.0</td>\n",
              "      <td>Working</td>\n",
              "      <td>Higher education</td>\n",
              "      <td>Civil marriage</td>\n",
              "      <td>Rented apartment</td>\n",
              "      <td>1</td>\n",
              "      <td>1</td>\n",
              "      <td>0</td>\n",
              "      <td>0</td>\n",
              "      <td>0</td>\n",
              "      <td>2.0</td>\n",
              "      <td>32.890411</td>\n",
              "      <td>12.443836</td>\n",
              "    </tr>\n",
              "    <tr>\n",
              "      <th>3</th>\n",
              "      <td>5008804</td>\n",
              "      <td>-3</td>\n",
              "      <td>1</td>\n",
              "      <td>1</td>\n",
              "      <td>1</td>\n",
              "      <td>1</td>\n",
              "      <td>0</td>\n",
              "      <td>427500.0</td>\n",
              "      <td>Working</td>\n",
              "      <td>Higher education</td>\n",
              "      <td>Civil marriage</td>\n",
              "      <td>Rented apartment</td>\n",
              "      <td>1</td>\n",
              "      <td>1</td>\n",
              "      <td>0</td>\n",
              "      <td>0</td>\n",
              "      <td>0</td>\n",
              "      <td>2.0</td>\n",
              "      <td>32.890411</td>\n",
              "      <td>12.443836</td>\n",
              "    </tr>\n",
              "    <tr>\n",
              "      <th>4</th>\n",
              "      <td>5008804</td>\n",
              "      <td>-4</td>\n",
              "      <td>1</td>\n",
              "      <td>1</td>\n",
              "      <td>1</td>\n",
              "      <td>1</td>\n",
              "      <td>0</td>\n",
              "      <td>427500.0</td>\n",
              "      <td>Working</td>\n",
              "      <td>Higher education</td>\n",
              "      <td>Civil marriage</td>\n",
              "      <td>Rented apartment</td>\n",
              "      <td>1</td>\n",
              "      <td>1</td>\n",
              "      <td>0</td>\n",
              "      <td>0</td>\n",
              "      <td>0</td>\n",
              "      <td>2.0</td>\n",
              "      <td>32.890411</td>\n",
              "      <td>12.443836</td>\n",
              "    </tr>\n",
              "    <tr>\n",
              "      <th>...</th>\n",
              "      <td>...</td>\n",
              "      <td>...</td>\n",
              "      <td>...</td>\n",
              "      <td>...</td>\n",
              "      <td>...</td>\n",
              "      <td>...</td>\n",
              "      <td>...</td>\n",
              "      <td>...</td>\n",
              "      <td>...</td>\n",
              "      <td>...</td>\n",
              "      <td>...</td>\n",
              "      <td>...</td>\n",
              "      <td>...</td>\n",
              "      <td>...</td>\n",
              "      <td>...</td>\n",
              "      <td>...</td>\n",
              "      <td>...</td>\n",
              "      <td>...</td>\n",
              "      <td>...</td>\n",
              "      <td>...</td>\n",
              "    </tr>\n",
              "    <tr>\n",
              "      <th>777710</th>\n",
              "      <td>5150487</td>\n",
              "      <td>-25</td>\n",
              "      <td>1</td>\n",
              "      <td>1</td>\n",
              "      <td>1</td>\n",
              "      <td>1</td>\n",
              "      <td>0</td>\n",
              "      <td>202500.0</td>\n",
              "      <td>Working</td>\n",
              "      <td>Secondary / secondary special</td>\n",
              "      <td>Married</td>\n",
              "      <td>House / apartment</td>\n",
              "      <td>1</td>\n",
              "      <td>0</td>\n",
              "      <td>0</td>\n",
              "      <td>0</td>\n",
              "      <td>Drivers</td>\n",
              "      <td>2.0</td>\n",
              "      <td>53.145205</td>\n",
              "      <td>5.934247</td>\n",
              "    </tr>\n",
              "    <tr>\n",
              "      <th>777711</th>\n",
              "      <td>5150487</td>\n",
              "      <td>-26</td>\n",
              "      <td>1</td>\n",
              "      <td>1</td>\n",
              "      <td>1</td>\n",
              "      <td>1</td>\n",
              "      <td>0</td>\n",
              "      <td>202500.0</td>\n",
              "      <td>Working</td>\n",
              "      <td>Secondary / secondary special</td>\n",
              "      <td>Married</td>\n",
              "      <td>House / apartment</td>\n",
              "      <td>1</td>\n",
              "      <td>0</td>\n",
              "      <td>0</td>\n",
              "      <td>0</td>\n",
              "      <td>Drivers</td>\n",
              "      <td>2.0</td>\n",
              "      <td>53.145205</td>\n",
              "      <td>5.934247</td>\n",
              "    </tr>\n",
              "    <tr>\n",
              "      <th>777712</th>\n",
              "      <td>5150487</td>\n",
              "      <td>-27</td>\n",
              "      <td>1</td>\n",
              "      <td>1</td>\n",
              "      <td>1</td>\n",
              "      <td>1</td>\n",
              "      <td>0</td>\n",
              "      <td>202500.0</td>\n",
              "      <td>Working</td>\n",
              "      <td>Secondary / secondary special</td>\n",
              "      <td>Married</td>\n",
              "      <td>House / apartment</td>\n",
              "      <td>1</td>\n",
              "      <td>0</td>\n",
              "      <td>0</td>\n",
              "      <td>0</td>\n",
              "      <td>Drivers</td>\n",
              "      <td>2.0</td>\n",
              "      <td>53.145205</td>\n",
              "      <td>5.934247</td>\n",
              "    </tr>\n",
              "    <tr>\n",
              "      <th>777713</th>\n",
              "      <td>5150487</td>\n",
              "      <td>-28</td>\n",
              "      <td>1</td>\n",
              "      <td>1</td>\n",
              "      <td>1</td>\n",
              "      <td>1</td>\n",
              "      <td>0</td>\n",
              "      <td>202500.0</td>\n",
              "      <td>Working</td>\n",
              "      <td>Secondary / secondary special</td>\n",
              "      <td>Married</td>\n",
              "      <td>House / apartment</td>\n",
              "      <td>1</td>\n",
              "      <td>0</td>\n",
              "      <td>0</td>\n",
              "      <td>0</td>\n",
              "      <td>Drivers</td>\n",
              "      <td>2.0</td>\n",
              "      <td>53.145205</td>\n",
              "      <td>5.934247</td>\n",
              "    </tr>\n",
              "    <tr>\n",
              "      <th>777714</th>\n",
              "      <td>5150487</td>\n",
              "      <td>-29</td>\n",
              "      <td>1</td>\n",
              "      <td>1</td>\n",
              "      <td>1</td>\n",
              "      <td>1</td>\n",
              "      <td>0</td>\n",
              "      <td>202500.0</td>\n",
              "      <td>Working</td>\n",
              "      <td>Secondary / secondary special</td>\n",
              "      <td>Married</td>\n",
              "      <td>House / apartment</td>\n",
              "      <td>1</td>\n",
              "      <td>0</td>\n",
              "      <td>0</td>\n",
              "      <td>0</td>\n",
              "      <td>Drivers</td>\n",
              "      <td>2.0</td>\n",
              "      <td>53.145205</td>\n",
              "      <td>5.934247</td>\n",
              "    </tr>\n",
              "  </tbody>\n",
              "</table>\n",
              "<p>777715 rows × 20 columns</p>\n",
              "</div>\n",
              "      <button class=\"colab-df-convert\" onclick=\"convertToInteractive('df-d2962a33-85cd-452c-ac55-fd056bc05e9d')\"\n",
              "              title=\"Convert this dataframe to an interactive table.\"\n",
              "              style=\"display:none;\">\n",
              "        \n",
              "  <svg xmlns=\"http://www.w3.org/2000/svg\" height=\"24px\"viewBox=\"0 0 24 24\"\n",
              "       width=\"24px\">\n",
              "    <path d=\"M0 0h24v24H0V0z\" fill=\"none\"/>\n",
              "    <path d=\"M18.56 5.44l.94 2.06.94-2.06 2.06-.94-2.06-.94-.94-2.06-.94 2.06-2.06.94zm-11 1L8.5 8.5l.94-2.06 2.06-.94-2.06-.94L8.5 2.5l-.94 2.06-2.06.94zm10 10l.94 2.06.94-2.06 2.06-.94-2.06-.94-.94-2.06-.94 2.06-2.06.94z\"/><path d=\"M17.41 7.96l-1.37-1.37c-.4-.4-.92-.59-1.43-.59-.52 0-1.04.2-1.43.59L10.3 9.45l-7.72 7.72c-.78.78-.78 2.05 0 2.83L4 21.41c.39.39.9.59 1.41.59.51 0 1.02-.2 1.41-.59l7.78-7.78 2.81-2.81c.8-.78.8-2.07 0-2.86zM5.41 20L4 18.59l7.72-7.72 1.47 1.35L5.41 20z\"/>\n",
              "  </svg>\n",
              "      </button>\n",
              "      \n",
              "  <style>\n",
              "    .colab-df-container {\n",
              "      display:flex;\n",
              "      flex-wrap:wrap;\n",
              "      gap: 12px;\n",
              "    }\n",
              "\n",
              "    .colab-df-convert {\n",
              "      background-color: #E8F0FE;\n",
              "      border: none;\n",
              "      border-radius: 50%;\n",
              "      cursor: pointer;\n",
              "      display: none;\n",
              "      fill: #1967D2;\n",
              "      height: 32px;\n",
              "      padding: 0 0 0 0;\n",
              "      width: 32px;\n",
              "    }\n",
              "\n",
              "    .colab-df-convert:hover {\n",
              "      background-color: #E2EBFA;\n",
              "      box-shadow: 0px 1px 2px rgba(60, 64, 67, 0.3), 0px 1px 3px 1px rgba(60, 64, 67, 0.15);\n",
              "      fill: #174EA6;\n",
              "    }\n",
              "\n",
              "    [theme=dark] .colab-df-convert {\n",
              "      background-color: #3B4455;\n",
              "      fill: #D2E3FC;\n",
              "    }\n",
              "\n",
              "    [theme=dark] .colab-df-convert:hover {\n",
              "      background-color: #434B5C;\n",
              "      box-shadow: 0px 1px 3px 1px rgba(0, 0, 0, 0.15);\n",
              "      filter: drop-shadow(0px 1px 2px rgba(0, 0, 0, 0.3));\n",
              "      fill: #FFFFFF;\n",
              "    }\n",
              "  </style>\n",
              "\n",
              "      <script>\n",
              "        const buttonEl =\n",
              "          document.querySelector('#df-d2962a33-85cd-452c-ac55-fd056bc05e9d button.colab-df-convert');\n",
              "        buttonEl.style.display =\n",
              "          google.colab.kernel.accessAllowed ? 'block' : 'none';\n",
              "\n",
              "        async function convertToInteractive(key) {\n",
              "          const element = document.querySelector('#df-d2962a33-85cd-452c-ac55-fd056bc05e9d');\n",
              "          const dataTable =\n",
              "            await google.colab.kernel.invokeFunction('convertToInteractive',\n",
              "                                                     [key], {});\n",
              "          if (!dataTable) return;\n",
              "\n",
              "          const docLinkHtml = 'Like what you see? Visit the ' +\n",
              "            '<a target=\"_blank\" href=https://colab.research.google.com/notebooks/data_table.ipynb>data table notebook</a>'\n",
              "            + ' to learn more about interactive tables.';\n",
              "          element.innerHTML = '';\n",
              "          dataTable['output_type'] = 'display_data';\n",
              "          await google.colab.output.renderOutput(dataTable, element);\n",
              "          const docLink = document.createElement('div');\n",
              "          docLink.innerHTML = docLinkHtml;\n",
              "          element.appendChild(docLink);\n",
              "        }\n",
              "      </script>\n",
              "    </div>\n",
              "  </div>\n",
              "  "
            ]
          },
          "metadata": {},
          "execution_count": 29
        }
      ],
      "source": [
        "df = df3.copy()\n",
        "df"
      ],
      "metadata": {
        "id": "96lyy3a2FWaa",
        "colab": {
          "base_uri": "https://localhost:8080/",
          "height": 574
        },
        "outputId": "afb1600e-21c2-4a9b-bee6-ffd69436f84d"
      }
    },
    {
      "cell_type": "code",
      "execution_count": null,
      "outputs": [
        {
          "output_type": "stream",
          "name": "stdout",
          "text": [
            "1    81039\n",
            "0    18608\n",
            "2      353\n",
            "Name: STATUS, dtype: int64\n",
            "──────────────────────────────\n",
            "Porcentajes de cada status en el dataset original:\n",
            "\n",
            "Status 0: 18.766514725831442\n",
            "Status 1: 80.8698559240853\n",
            "Status 2: 0.3636293500832567\n",
            "──────────────────────────────\n",
            "Porcentajes de cada status en el dataset sampleado:\n",
            "\n",
            "Status 0 sample: 18.608\n",
            "Status 1 sample: 81.039\n",
            "Status 2 sample: 0.353\n"
          ]
        }
      ],
      "source": [
        "df = df.sample(random_state=42,\n",
        "               n= 100000)\n",
        "print(df['STATUS'].value_counts())\n",
        "\n",
        "print('─' * 30)\n",
        "print('Porcentajes de cada status en el dataset original:\\n')\n",
        "print('Status 0:', len(df3[df3['STATUS']== 0]) * 100 / len(df3))\n",
        "print('Status 1:', len(df3[df3['STATUS']== 1]) * 100 / len(df3))\n",
        "print('Status 2:', len(df3[df3['STATUS']== 2]) * 100 / len(df3))\n",
        "print('─' * 30)\n",
        "print('Porcentajes de cada status en el dataset sampleado:\\n')\n",
        "print('Status 0 sample:', len(df[df['STATUS']== 0]) * 100 / len(df))\n",
        "print('Status 1 sample:', len(df[df['STATUS']== 1]) * 100 / len(df))\n",
        "print('Status 2 sample:', len(df[df['STATUS']== 2]) * 100 / len(df))"
      ],
      "metadata": {
        "id": "5613qcPFFWaa",
        "colab": {
          "base_uri": "https://localhost:8080/"
        },
        "outputId": "ee07f7f0-d80b-491e-a348-fc5e2fc3ab06"
      }
    },
    {
      "cell_type": "markdown",
      "metadata": {
        "id": "EleT6imTDphP",
        "tags": []
      },
      "source": [
        "# Análisis Exploratorio de los Datos (EDA)"
      ]
    },
    {
      "cell_type": "code",
      "execution_count": null,
      "metadata": {
        "ExecuteTime": {
          "end_time": "2022-11-22T00:32:15.621011Z",
          "start_time": "2022-11-22T00:32:15.442117Z"
        },
        "execution": {
          "iopub.execute_input": "2022-11-07T23:52:40.176563Z",
          "iopub.status.busy": "2022-11-07T23:52:40.175564Z",
          "iopub.status.idle": "2022-11-07T23:52:40.298656Z",
          "shell.execute_reply": "2022-11-07T23:52:40.298656Z",
          "shell.execute_reply.started": "2022-11-07T23:52:40.176563Z"
        },
        "id": "JLVE_pVDBawm",
        "colab": {
          "base_uri": "https://localhost:8080/",
          "height": 364
        },
        "outputId": "b3a17f91-5d85-472d-e3ab-b1c89c1c630b"
      },
      "outputs": [
        {
          "output_type": "execute_result",
          "data": {
            "text/plain": [
              "                 ID  MONTHS_BALANCE         STATUS    CODE_GENDER  \\\n",
              "count  1.000000e+05   100000.000000  100000.000000  100000.000000   \n",
              "mean   5.078811e+06      -19.323200       0.817450       0.332850   \n",
              "std    4.170369e+04       14.045219       0.395332       0.471236   \n",
              "min    5.008804e+06      -60.000000       0.000000       0.000000   \n",
              "25%    5.044855e+06      -29.000000       1.000000       0.000000   \n",
              "50%    5.074747e+06      -17.000000       1.000000       0.000000   \n",
              "75%    5.115519e+06       -8.000000       1.000000       1.000000   \n",
              "max    5.150487e+06        0.000000       2.000000       1.000000   \n",
              "\n",
              "        FLAG_OWN_CAR  FLAG_OWN_REALTY   CNT_CHILDREN  AMT_INCOME_TOTAL  \\\n",
              "count  100000.000000    100000.000000  100000.000000      1.000000e+05   \n",
              "mean        0.391130         0.391130       0.431820      1.889206e+05   \n",
              "std         0.488006         0.488006       0.747835      1.024059e+05   \n",
              "min         0.000000         0.000000       0.000000      2.700000e+04   \n",
              "25%         0.000000         0.000000       0.000000      1.224000e+05   \n",
              "50%         0.000000         0.000000       0.000000      1.620000e+05   \n",
              "75%         1.000000         1.000000       1.000000      2.250000e+05   \n",
              "max         1.000000         1.000000      14.000000      1.575000e+06   \n",
              "\n",
              "       FLAG_MOBIL  FLAG_WORK_PHONE     FLAG_PHONE     FLAG_EMAIL  \\\n",
              "count    100000.0    100000.000000  100000.000000  100000.000000   \n",
              "mean          1.0         0.232830       0.299590       0.090530   \n",
              "std           0.0         0.422637       0.458081       0.286941   \n",
              "min           1.0         0.000000       0.000000       0.000000   \n",
              "25%           1.0         0.000000       0.000000       0.000000   \n",
              "50%           1.0         0.000000       0.000000       0.000000   \n",
              "75%           1.0         0.000000       1.000000       0.000000   \n",
              "max           1.0         1.000000       1.000000       1.000000   \n",
              "\n",
              "       CNT_FAM_MEMBERS            AGE  YEARS_EMPLOYED  \n",
              "count    100000.000000  100000.000000   100000.000000  \n",
              "mean          2.212910      44.118798        6.376006  \n",
              "std           0.909707      11.246953        6.699677  \n",
              "min           1.000000      21.109589        0.000000  \n",
              "25%           2.000000      34.769863        1.178082  \n",
              "50%           2.000000      43.079452        4.624658  \n",
              "75%           3.000000      53.257534        9.030137  \n",
              "max          15.000000      68.909589       43.049315  "
            ],
            "text/html": [
              "\n",
              "  <div id=\"df-434780ca-0212-42ed-97f9-747cca54e42c\">\n",
              "    <div class=\"colab-df-container\">\n",
              "      <div>\n",
              "<style scoped>\n",
              "    .dataframe tbody tr th:only-of-type {\n",
              "        vertical-align: middle;\n",
              "    }\n",
              "\n",
              "    .dataframe tbody tr th {\n",
              "        vertical-align: top;\n",
              "    }\n",
              "\n",
              "    .dataframe thead th {\n",
              "        text-align: right;\n",
              "    }\n",
              "</style>\n",
              "<table border=\"1\" class=\"dataframe\">\n",
              "  <thead>\n",
              "    <tr style=\"text-align: right;\">\n",
              "      <th></th>\n",
              "      <th>ID</th>\n",
              "      <th>MONTHS_BALANCE</th>\n",
              "      <th>STATUS</th>\n",
              "      <th>CODE_GENDER</th>\n",
              "      <th>FLAG_OWN_CAR</th>\n",
              "      <th>FLAG_OWN_REALTY</th>\n",
              "      <th>CNT_CHILDREN</th>\n",
              "      <th>AMT_INCOME_TOTAL</th>\n",
              "      <th>FLAG_MOBIL</th>\n",
              "      <th>FLAG_WORK_PHONE</th>\n",
              "      <th>FLAG_PHONE</th>\n",
              "      <th>FLAG_EMAIL</th>\n",
              "      <th>CNT_FAM_MEMBERS</th>\n",
              "      <th>AGE</th>\n",
              "      <th>YEARS_EMPLOYED</th>\n",
              "    </tr>\n",
              "  </thead>\n",
              "  <tbody>\n",
              "    <tr>\n",
              "      <th>count</th>\n",
              "      <td>1.000000e+05</td>\n",
              "      <td>100000.000000</td>\n",
              "      <td>100000.000000</td>\n",
              "      <td>100000.000000</td>\n",
              "      <td>100000.000000</td>\n",
              "      <td>100000.000000</td>\n",
              "      <td>100000.000000</td>\n",
              "      <td>1.000000e+05</td>\n",
              "      <td>100000.0</td>\n",
              "      <td>100000.000000</td>\n",
              "      <td>100000.000000</td>\n",
              "      <td>100000.000000</td>\n",
              "      <td>100000.000000</td>\n",
              "      <td>100000.000000</td>\n",
              "      <td>100000.000000</td>\n",
              "    </tr>\n",
              "    <tr>\n",
              "      <th>mean</th>\n",
              "      <td>5.078811e+06</td>\n",
              "      <td>-19.323200</td>\n",
              "      <td>0.817450</td>\n",
              "      <td>0.332850</td>\n",
              "      <td>0.391130</td>\n",
              "      <td>0.391130</td>\n",
              "      <td>0.431820</td>\n",
              "      <td>1.889206e+05</td>\n",
              "      <td>1.0</td>\n",
              "      <td>0.232830</td>\n",
              "      <td>0.299590</td>\n",
              "      <td>0.090530</td>\n",
              "      <td>2.212910</td>\n",
              "      <td>44.118798</td>\n",
              "      <td>6.376006</td>\n",
              "    </tr>\n",
              "    <tr>\n",
              "      <th>std</th>\n",
              "      <td>4.170369e+04</td>\n",
              "      <td>14.045219</td>\n",
              "      <td>0.395332</td>\n",
              "      <td>0.471236</td>\n",
              "      <td>0.488006</td>\n",
              "      <td>0.488006</td>\n",
              "      <td>0.747835</td>\n",
              "      <td>1.024059e+05</td>\n",
              "      <td>0.0</td>\n",
              "      <td>0.422637</td>\n",
              "      <td>0.458081</td>\n",
              "      <td>0.286941</td>\n",
              "      <td>0.909707</td>\n",
              "      <td>11.246953</td>\n",
              "      <td>6.699677</td>\n",
              "    </tr>\n",
              "    <tr>\n",
              "      <th>min</th>\n",
              "      <td>5.008804e+06</td>\n",
              "      <td>-60.000000</td>\n",
              "      <td>0.000000</td>\n",
              "      <td>0.000000</td>\n",
              "      <td>0.000000</td>\n",
              "      <td>0.000000</td>\n",
              "      <td>0.000000</td>\n",
              "      <td>2.700000e+04</td>\n",
              "      <td>1.0</td>\n",
              "      <td>0.000000</td>\n",
              "      <td>0.000000</td>\n",
              "      <td>0.000000</td>\n",
              "      <td>1.000000</td>\n",
              "      <td>21.109589</td>\n",
              "      <td>0.000000</td>\n",
              "    </tr>\n",
              "    <tr>\n",
              "      <th>25%</th>\n",
              "      <td>5.044855e+06</td>\n",
              "      <td>-29.000000</td>\n",
              "      <td>1.000000</td>\n",
              "      <td>0.000000</td>\n",
              "      <td>0.000000</td>\n",
              "      <td>0.000000</td>\n",
              "      <td>0.000000</td>\n",
              "      <td>1.224000e+05</td>\n",
              "      <td>1.0</td>\n",
              "      <td>0.000000</td>\n",
              "      <td>0.000000</td>\n",
              "      <td>0.000000</td>\n",
              "      <td>2.000000</td>\n",
              "      <td>34.769863</td>\n",
              "      <td>1.178082</td>\n",
              "    </tr>\n",
              "    <tr>\n",
              "      <th>50%</th>\n",
              "      <td>5.074747e+06</td>\n",
              "      <td>-17.000000</td>\n",
              "      <td>1.000000</td>\n",
              "      <td>0.000000</td>\n",
              "      <td>0.000000</td>\n",
              "      <td>0.000000</td>\n",
              "      <td>0.000000</td>\n",
              "      <td>1.620000e+05</td>\n",
              "      <td>1.0</td>\n",
              "      <td>0.000000</td>\n",
              "      <td>0.000000</td>\n",
              "      <td>0.000000</td>\n",
              "      <td>2.000000</td>\n",
              "      <td>43.079452</td>\n",
              "      <td>4.624658</td>\n",
              "    </tr>\n",
              "    <tr>\n",
              "      <th>75%</th>\n",
              "      <td>5.115519e+06</td>\n",
              "      <td>-8.000000</td>\n",
              "      <td>1.000000</td>\n",
              "      <td>1.000000</td>\n",
              "      <td>1.000000</td>\n",
              "      <td>1.000000</td>\n",
              "      <td>1.000000</td>\n",
              "      <td>2.250000e+05</td>\n",
              "      <td>1.0</td>\n",
              "      <td>0.000000</td>\n",
              "      <td>1.000000</td>\n",
              "      <td>0.000000</td>\n",
              "      <td>3.000000</td>\n",
              "      <td>53.257534</td>\n",
              "      <td>9.030137</td>\n",
              "    </tr>\n",
              "    <tr>\n",
              "      <th>max</th>\n",
              "      <td>5.150487e+06</td>\n",
              "      <td>0.000000</td>\n",
              "      <td>2.000000</td>\n",
              "      <td>1.000000</td>\n",
              "      <td>1.000000</td>\n",
              "      <td>1.000000</td>\n",
              "      <td>14.000000</td>\n",
              "      <td>1.575000e+06</td>\n",
              "      <td>1.0</td>\n",
              "      <td>1.000000</td>\n",
              "      <td>1.000000</td>\n",
              "      <td>1.000000</td>\n",
              "      <td>15.000000</td>\n",
              "      <td>68.909589</td>\n",
              "      <td>43.049315</td>\n",
              "    </tr>\n",
              "  </tbody>\n",
              "</table>\n",
              "</div>\n",
              "      <button class=\"colab-df-convert\" onclick=\"convertToInteractive('df-434780ca-0212-42ed-97f9-747cca54e42c')\"\n",
              "              title=\"Convert this dataframe to an interactive table.\"\n",
              "              style=\"display:none;\">\n",
              "        \n",
              "  <svg xmlns=\"http://www.w3.org/2000/svg\" height=\"24px\"viewBox=\"0 0 24 24\"\n",
              "       width=\"24px\">\n",
              "    <path d=\"M0 0h24v24H0V0z\" fill=\"none\"/>\n",
              "    <path d=\"M18.56 5.44l.94 2.06.94-2.06 2.06-.94-2.06-.94-.94-2.06-.94 2.06-2.06.94zm-11 1L8.5 8.5l.94-2.06 2.06-.94-2.06-.94L8.5 2.5l-.94 2.06-2.06.94zm10 10l.94 2.06.94-2.06 2.06-.94-2.06-.94-.94-2.06-.94 2.06-2.06.94z\"/><path d=\"M17.41 7.96l-1.37-1.37c-.4-.4-.92-.59-1.43-.59-.52 0-1.04.2-1.43.59L10.3 9.45l-7.72 7.72c-.78.78-.78 2.05 0 2.83L4 21.41c.39.39.9.59 1.41.59.51 0 1.02-.2 1.41-.59l7.78-7.78 2.81-2.81c.8-.78.8-2.07 0-2.86zM5.41 20L4 18.59l7.72-7.72 1.47 1.35L5.41 20z\"/>\n",
              "  </svg>\n",
              "      </button>\n",
              "      \n",
              "  <style>\n",
              "    .colab-df-container {\n",
              "      display:flex;\n",
              "      flex-wrap:wrap;\n",
              "      gap: 12px;\n",
              "    }\n",
              "\n",
              "    .colab-df-convert {\n",
              "      background-color: #E8F0FE;\n",
              "      border: none;\n",
              "      border-radius: 50%;\n",
              "      cursor: pointer;\n",
              "      display: none;\n",
              "      fill: #1967D2;\n",
              "      height: 32px;\n",
              "      padding: 0 0 0 0;\n",
              "      width: 32px;\n",
              "    }\n",
              "\n",
              "    .colab-df-convert:hover {\n",
              "      background-color: #E2EBFA;\n",
              "      box-shadow: 0px 1px 2px rgba(60, 64, 67, 0.3), 0px 1px 3px 1px rgba(60, 64, 67, 0.15);\n",
              "      fill: #174EA6;\n",
              "    }\n",
              "\n",
              "    [theme=dark] .colab-df-convert {\n",
              "      background-color: #3B4455;\n",
              "      fill: #D2E3FC;\n",
              "    }\n",
              "\n",
              "    [theme=dark] .colab-df-convert:hover {\n",
              "      background-color: #434B5C;\n",
              "      box-shadow: 0px 1px 3px 1px rgba(0, 0, 0, 0.15);\n",
              "      filter: drop-shadow(0px 1px 2px rgba(0, 0, 0, 0.3));\n",
              "      fill: #FFFFFF;\n",
              "    }\n",
              "  </style>\n",
              "\n",
              "      <script>\n",
              "        const buttonEl =\n",
              "          document.querySelector('#df-434780ca-0212-42ed-97f9-747cca54e42c button.colab-df-convert');\n",
              "        buttonEl.style.display =\n",
              "          google.colab.kernel.accessAllowed ? 'block' : 'none';\n",
              "\n",
              "        async function convertToInteractive(key) {\n",
              "          const element = document.querySelector('#df-434780ca-0212-42ed-97f9-747cca54e42c');\n",
              "          const dataTable =\n",
              "            await google.colab.kernel.invokeFunction('convertToInteractive',\n",
              "                                                     [key], {});\n",
              "          if (!dataTable) return;\n",
              "\n",
              "          const docLinkHtml = 'Like what you see? Visit the ' +\n",
              "            '<a target=\"_blank\" href=https://colab.research.google.com/notebooks/data_table.ipynb>data table notebook</a>'\n",
              "            + ' to learn more about interactive tables.';\n",
              "          element.innerHTML = '';\n",
              "          dataTable['output_type'] = 'display_data';\n",
              "          await google.colab.output.renderOutput(dataTable, element);\n",
              "          const docLink = document.createElement('div');\n",
              "          docLink.innerHTML = docLinkHtml;\n",
              "          element.appendChild(docLink);\n",
              "        }\n",
              "      </script>\n",
              "    </div>\n",
              "  </div>\n",
              "  "
            ]
          },
          "metadata": {},
          "execution_count": 31
        }
      ],
      "source": [
        "df.describe()"
      ]
    },
    {
      "cell_type": "markdown",
      "source": [
        "Al realizar un análisis descriptivo de nuestras variables, notamos que en el campo 'STATUS', la mayoría de los clientes se encuentran en el estado 1. Al evaluar los cuartiles, podemos ver que el valor 1 es el más frecuente en el primer, segundo y tercer cuartil."
      ],
      "metadata": {
        "collapsed": false,
        "id": "mzpKMv7WB4YZ"
      }
    },
    {
      "cell_type": "code",
      "execution_count": null,
      "metadata": {
        "ExecuteTime": {
          "end_time": "2022-11-22T00:32:16.813033Z",
          "start_time": "2022-11-22T00:32:15.621011Z"
        },
        "execution": {
          "iopub.execute_input": "2022-11-07T23:52:40.298656Z",
          "iopub.status.busy": "2022-11-07T23:52:40.298656Z",
          "iopub.status.idle": "2022-11-07T23:52:40.996462Z",
          "shell.execute_reply": "2022-11-07T23:52:40.996462Z",
          "shell.execute_reply.started": "2022-11-07T23:52:40.298656Z"
        },
        "id": "3JG8BBOBBnx_",
        "colab": {
          "base_uri": "https://localhost:8080/",
          "height": 54
        },
        "outputId": "694c7ce6-eea9-4bd6-d3ae-bd21fb9c71a6"
      },
      "outputs": [
        {
          "output_type": "display_data",
          "data": {
            "text/plain": [
              "<Figure size 1440x648 with 2 Axes>"
            ],
            "image/png": "[encoded data removed]"
          },
          "metadata": {
            "needs_background": "light"
          }
        }
      ],
      "source": [
        "plt.figure(figsize=(20,9))\n",
        "sns.heatmap(data=df.corr(), annot=True);"
      ]
    },
    {
      "cell_type": "markdown",
      "source": [
        "Realizamos un análisis de correlación entre la variable 'STATUS' y las demás para evaluar la relación entre ellas. Al observar la matriz, se puede concluir que las correlaciones entre las variables son suaves, por lo que seguiremos investigando con otros métodos para obtener conclusiones más precisas."
      ],
      "metadata": {
        "collapsed": false,
        "id": "mF7zolUyB4Ya"
      }
    },
    {
      "cell_type": "code",
      "execution_count": null,
      "metadata": {
        "ExecuteTime": {
          "end_time": "2022-11-22T00:32:17.877192Z",
          "start_time": "2022-11-22T00:32:17.186956Z"
        },
        "execution": {
          "iopub.execute_input": "2022-11-07T23:52:41.243735Z",
          "iopub.status.busy": "2022-11-07T23:52:41.243735Z",
          "iopub.status.idle": "2022-11-07T23:52:41.753716Z",
          "shell.execute_reply": "2022-11-07T23:52:41.753716Z",
          "shell.execute_reply.started": "2022-11-07T23:52:41.243735Z"
        },
        "id": "ev5G1SuqSOl-",
        "colab": {
          "base_uri": "https://localhost:8080/",
          "height": 54
        },
        "outputId": "f0aa0c84-a56e-4e00-ce25-e24b9ea8391e"
      },
      "outputs": [
        {
          "output_type": "display_data",
          "data": {
            "text/plain": [
              "<Figure size 1080x1008 with 5 Axes>"
            ],
            "image/png": "[encoded data removed]"
          },
          "metadata": {
            "needs_background": "light"
          }
        }
      ],
      "source": [
        "#Boxplot de las variables numéricas para ver outliers\n",
        "plt.figure(figsize=(15,14))\n",
        "for i,j in zip(range(5),df[['CNT_CHILDREN','AMT_INCOME_TOTAL','CNT_FAM_MEMBERS','AGE','YEARS_EMPLOYED']].columns): \n",
        "  plt.subplot(4,2, i+1) \n",
        "  sns.boxplot(x=df[['CNT_CHILDREN','AMT_INCOME_TOTAL','CNT_FAM_MEMBERS','AGE','YEARS_EMPLOYED']][j]) \n",
        "  plt.title(j)\n",
        "  plt.xlabel('')"
      ]
    },
    {
      "cell_type": "markdown",
      "metadata": {
        "id": "hVmhrqBWUBtj"
      },
      "source": [
        "Observamos que la variable AGE tiene una distribución simétrica y no tiene outliers (lo cual es lógico, ya que el banco otorga préstamos solo hasta cierta edad).\n",
        "\n",
        "El resto de las variables presentan una distribución asimétrica derecha con outliers a la derecha."
      ]
    },
    {
      "cell_type": "code",
      "execution_count": null,
      "metadata": {
        "ExecuteTime": {
          "end_time": "2022-11-22T00:32:27.709892Z",
          "start_time": "2022-11-22T00:32:17.881191Z"
        },
        "execution": {
          "iopub.execute_input": "2022-11-07T23:52:41.755716Z",
          "iopub.status.busy": "2022-11-07T23:52:41.755716Z",
          "iopub.status.idle": "2022-11-07T23:52:48.224718Z",
          "shell.execute_reply": "2022-11-07T23:52:48.224718Z",
          "shell.execute_reply.started": "2022-11-07T23:52:41.755716Z"
        },
        "id": "8yuKpmFw-Axf",
        "colab": {
          "base_uri": "https://localhost:8080/",
          "height": 54
        },
        "outputId": "3d56a9e8-f92c-4b8b-93bd-5042051f78d8"
      },
      "outputs": [
        {
          "output_type": "display_data",
          "data": {
            "text/plain": [
              "<Figure size 432x288 with 1 Axes>"
            ],
            "image/png": "[encoded data removed]"
          },
          "metadata": {
            "needs_background": "light"
          }
        }
      ],
      "source": [
        "#bar-plot\n",
        "ax = sns.barplot(data=df, x='STATUS', y='AMT_INCOME_TOTAL')"
      ]
    },
    {
      "cell_type": "markdown",
      "metadata": {
        "id": "UG8dpIk4Iz1K"
      },
      "source": [
        "Graficamos el salario promedio para cada categoria de status de pago.\n",
        "Observamos que no hay una relación inversa entre la demora en el pago y el monto de ingresos anuales, lo cual era una hipótesis que teníamos."
      ]
    },
    {
      "cell_type": "code",
      "execution_count": null,
      "metadata": {
        "ExecuteTime": {
          "end_time": "2022-11-22T00:32:32.493924Z",
          "start_time": "2022-11-22T00:32:27.710892Z"
        },
        "execution": {
          "iopub.execute_input": "2022-11-07T23:52:48.225720Z",
          "iopub.status.busy": "2022-11-07T23:52:48.224718Z",
          "iopub.status.idle": "2022-11-07T23:52:51.269470Z",
          "shell.execute_reply": "2022-11-07T23:52:51.269470Z",
          "shell.execute_reply.started": "2022-11-07T23:52:48.225720Z"
        },
        "id": "p9xcTl4-6PqF",
        "tags": [],
        "colab": {
          "base_uri": "https://localhost:8080/",
          "height": 54
        },
        "outputId": "cf0c48f0-d8ac-417a-c184-36d570752dd2"
      },
      "outputs": [
        {
          "output_type": "display_data",
          "data": {
            "text/plain": [
              "<Figure size 444x360 with 1 Axes>"
            ],
            "image/png": "[encoded data removed]"
          },
          "metadata": {
            "needs_background": "light"
          }
        }
      ],
      "source": [
        "#Grafico de densidad\n",
        "ax = sns.displot(data=df, x='AMT_INCOME_TOTAL', kind='kde', hue='CODE_GENDER', fill=True)\n",
        "ax.set(title = 'Distribución del ingreso según genero');"
      ]
    },
    {
      "cell_type": "markdown",
      "metadata": {
        "id": "yu9e3-9uJBxP"
      },
      "source": [
        "Graficamos la distribución del ingreso segregando por hombres y mujeres y observamos que la misma es asimétrica derecha, es decir que la mayoría de las personas ganan salarios bajos"
      ]
    },
    {
      "cell_type": "code",
      "execution_count": null,
      "metadata": {
        "ExecuteTime": {
          "end_time": "2022-11-22T00:32:32.611070Z",
          "start_time": "2022-11-22T00:32:32.494924Z"
        },
        "execution": {
          "iopub.execute_input": "2022-11-07T23:52:51.269470Z",
          "iopub.status.busy": "2022-11-07T23:52:51.269470Z",
          "iopub.status.idle": "2022-11-07T23:52:51.358442Z",
          "shell.execute_reply": "2022-11-07T23:52:51.358442Z",
          "shell.execute_reply.started": "2022-11-07T23:52:51.269470Z"
        },
        "id": "n-SbK6tTAZWn",
        "colab": {
          "base_uri": "https://localhost:8080/",
          "height": 54
        },
        "outputId": "b9220a35-eadb-4e1b-a4e6-ebc29a50ff19"
      },
      "outputs": [
        {
          "output_type": "display_data",
          "data": {
            "text/plain": [
              "<Figure size 432x288 with 1 Axes>"
            ],
            "image/png": "[encoded data removed]"
          },
          "metadata": {
            "needs_background": "light"
          }
        }
      ],
      "source": [
        "#Box-plot\n",
        "sns.boxplot(data=df, x=\"STATUS\", y=\"AGE\");"
      ]
    },
    {
      "cell_type": "markdown",
      "metadata": {
        "id": "YJ9t0X4AJO1x"
      },
      "source": [
        "Graficamos la distribución de probabilidad de la edad para cada categoría de status.\n",
        "Observamos que la mayoría de las personas en cada grupo de status tienen edades similares (lo cual tiene sentido ya que la mayoría se encuentra entre 30 y 55 años, que se\n",
        "condice con la edad laboral activa)"
      ]
    },
    {
      "cell_type": "code",
      "execution_count": null,
      "metadata": {
        "ExecuteTime": {
          "end_time": "2022-11-22T00:32:32.658120Z",
          "start_time": "2022-11-22T00:32:32.612070Z"
        },
        "execution": {
          "iopub.execute_input": "2022-11-07T23:52:51.359442Z",
          "iopub.status.busy": "2022-11-07T23:52:51.358442Z",
          "iopub.status.idle": "2022-11-07T23:52:51.394384Z",
          "shell.execute_reply": "2022-11-07T23:52:51.394384Z",
          "shell.execute_reply.started": "2022-11-07T23:52:51.359442Z"
        },
        "id": "EX0yanGeNPmx",
        "tags": [],
        "colab": {
          "base_uri": "https://localhost:8080/",
          "height": 175
        },
        "outputId": "79e93df4-7426-44c1-82a9-4e3ecf3232c2"
      },
      "outputs": [
        {
          "output_type": "execute_result",
          "data": {
            "text/plain": [
              "           ID\n",
              "STATUS       \n",
              "0       18608\n",
              "1       81039\n",
              "2         353"
            ],
            "text/html": [
              "\n",
              "  <div id=\"df-b8860540-e7e3-4ce6-8918-9f2baa42eba4\">\n",
              "    <div class=\"colab-df-container\">\n",
              "      <div>\n",
              "<style scoped>\n",
              "    .dataframe tbody tr th:only-of-type {\n",
              "        vertical-align: middle;\n",
              "    }\n",
              "\n",
              "    .dataframe tbody tr th {\n",
              "        vertical-align: top;\n",
              "    }\n",
              "\n",
              "    .dataframe thead th {\n",
              "        text-align: right;\n",
              "    }\n",
              "</style>\n",
              "<table border=\"1\" class=\"dataframe\">\n",
              "  <thead>\n",
              "    <tr style=\"text-align: right;\">\n",
              "      <th></th>\n",
              "      <th>ID</th>\n",
              "    </tr>\n",
              "    <tr>\n",
              "      <th>STATUS</th>\n",
              "      <th></th>\n",
              "    </tr>\n",
              "  </thead>\n",
              "  <tbody>\n",
              "    <tr>\n",
              "      <th>0</th>\n",
              "      <td>18608</td>\n",
              "    </tr>\n",
              "    <tr>\n",
              "      <th>1</th>\n",
              "      <td>81039</td>\n",
              "    </tr>\n",
              "    <tr>\n",
              "      <th>2</th>\n",
              "      <td>353</td>\n",
              "    </tr>\n",
              "  </tbody>\n",
              "</table>\n",
              "</div>\n",
              "      <button class=\"colab-df-convert\" onclick=\"convertToInteractive('df-b8860540-e7e3-4ce6-8918-9f2baa42eba4')\"\n",
              "              title=\"Convert this dataframe to an interactive table.\"\n",
              "              style=\"display:none;\">\n",
              "        \n",
              "  <svg xmlns=\"http://www.w3.org/2000/svg\" height=\"24px\"viewBox=\"0 0 24 24\"\n",
              "       width=\"24px\">\n",
              "    <path d=\"M0 0h24v24H0V0z\" fill=\"none\"/>\n",
              "    <path d=\"M18.56 5.44l.94 2.06.94-2.06 2.06-.94-2.06-.94-.94-2.06-.94 2.06-2.06.94zm-11 1L8.5 8.5l.94-2.06 2.06-.94-2.06-.94L8.5 2.5l-.94 2.06-2.06.94zm10 10l.94 2.06.94-2.06 2.06-.94-2.06-.94-.94-2.06-.94 2.06-2.06.94z\"/><path d=\"M17.41 7.96l-1.37-1.37c-.4-.4-.92-.59-1.43-.59-.52 0-1.04.2-1.43.59L10.3 9.45l-7.72 7.72c-.78.78-.78 2.05 0 2.83L4 21.41c.39.39.9.59 1.41.59.51 0 1.02-.2 1.41-.59l7.78-7.78 2.81-2.81c.8-.78.8-2.07 0-2.86zM5.41 20L4 18.59l7.72-7.72 1.47 1.35L5.41 20z\"/>\n",
              "  </svg>\n",
              "      </button>\n",
              "      \n",
              "  <style>\n",
              "    .colab-df-container {\n",
              "      display:flex;\n",
              "      flex-wrap:wrap;\n",
              "      gap: 12px;\n",
              "    }\n",
              "\n",
              "    .colab-df-convert {\n",
              "      background-color: #E8F0FE;\n",
              "      border: none;\n",
              "      border-radius: 50%;\n",
              "      cursor: pointer;\n",
              "      display: none;\n",
              "      fill: #1967D2;\n",
              "      height: 32px;\n",
              "      padding: 0 0 0 0;\n",
              "      width: 32px;\n",
              "    }\n",
              "\n",
              "    .colab-df-convert:hover {\n",
              "      background-color: #E2EBFA;\n",
              "      box-shadow: 0px 1px 2px rgba(60, 64, 67, 0.3), 0px 1px 3px 1px rgba(60, 64, 67, 0.15);\n",
              "      fill: #174EA6;\n",
              "    }\n",
              "\n",
              "    [theme=dark] .colab-df-convert {\n",
              "      background-color: #3B4455;\n",
              "      fill: #D2E3FC;\n",
              "    }\n",
              "\n",
              "    [theme=dark] .colab-df-convert:hover {\n",
              "      background-color: #434B5C;\n",
              "      box-shadow: 0px 1px 3px 1px rgba(0, 0, 0, 0.15);\n",
              "      filter: drop-shadow(0px 1px 2px rgba(0, 0, 0, 0.3));\n",
              "      fill: #FFFFFF;\n",
              "    }\n",
              "  </style>\n",
              "\n",
              "      <script>\n",
              "        const buttonEl =\n",
              "          document.querySelector('#df-b8860540-e7e3-4ce6-8918-9f2baa42eba4 button.colab-df-convert');\n",
              "        buttonEl.style.display =\n",
              "          google.colab.kernel.accessAllowed ? 'block' : 'none';\n",
              "\n",
              "        async function convertToInteractive(key) {\n",
              "          const element = document.querySelector('#df-b8860540-e7e3-4ce6-8918-9f2baa42eba4');\n",
              "          const dataTable =\n",
              "            await google.colab.kernel.invokeFunction('convertToInteractive',\n",
              "                                                     [key], {});\n",
              "          if (!dataTable) return;\n",
              "\n",
              "          const docLinkHtml = 'Like what you see? Visit the ' +\n",
              "            '<a target=\"_blank\" href=https://colab.research.google.com/notebooks/data_table.ipynb>data table notebook</a>'\n",
              "            + ' to learn more about interactive tables.';\n",
              "          element.innerHTML = '';\n",
              "          dataTable['output_type'] = 'display_data';\n",
              "          await google.colab.output.renderOutput(dataTable, element);\n",
              "          const docLink = document.createElement('div');\n",
              "          docLink.innerHTML = docLinkHtml;\n",
              "          element.appendChild(docLink);\n",
              "        }\n",
              "      </script>\n",
              "    </div>\n",
              "  </div>\n",
              "  "
            ]
          },
          "metadata": {},
          "execution_count": 37
        }
      ],
      "source": [
        "IDS_y_status = df[['ID','STATUS']]\n",
        "IDS_agrupados = IDS_y_status.groupby(by = 'STATUS').count()\n",
        "IDS_agrupados"
      ]
    },
    {
      "cell_type": "code",
      "execution_count": null,
      "metadata": {
        "ExecuteTime": {
          "end_time": "2022-11-22T00:32:32.903178Z",
          "start_time": "2022-11-22T00:32:32.658120Z"
        },
        "execution": {
          "iopub.execute_input": "2022-11-07T23:52:51.394384Z",
          "iopub.status.busy": "2022-11-07T23:52:51.394384Z",
          "iopub.status.idle": "2022-11-07T23:52:51.564528Z",
          "shell.execute_reply": "2022-11-07T23:52:51.564528Z",
          "shell.execute_reply.started": "2022-11-07T23:52:51.394384Z"
        },
        "id": "80GS95JBEoe5",
        "tags": [],
        "colab": {
          "base_uri": "https://localhost:8080/",
          "height": 542
        },
        "outputId": "24b3e6f3-ba14-4bc7-fb36-8be6afa1a247"
      },
      "outputs": [
        {
          "output_type": "display_data",
          "data": {
            "text/html": [
              "<html>\n",
              "<head><meta charset=\"utf-8\" /></head>\n",
              "<body>\n",
              "    <div>            <script src=\"https://cdnjs.cloudflare.com/ajax/libs/mathjax/2.7.5/MathJax.js?config=TeX-AMS-MML_SVG\"></script><script type=\"text/javascript\">if (window.MathJax) {MathJax.Hub.Config({SVG: {font: \"STIX-Web\"}});}</script>                <script type=\"text/javascript\">window.PlotlyConfig = {MathJaxConfig: 'local'};</script>\n",
              "        <script src=\"https://cdn.plot.ly/plotly-2.8.3.min.js\"></script>                <div id=\"a783b532-f5a3-480c-bd2d-14464391e2ea\" class=\"plotly-graph-div\" style=\"height:525px; width:100%;\"></div>            <script type=\"text/javascript\">                                    window.PLOTLYENV=window.PLOTLYENV || {};                                    if (document.getElementById(\"a783b532-f5a3-480c-bd2d-14464391e2ea\")) {                    Plotly.newPlot(                        \"a783b532-f5a3-480c-bd2d-14464391e2ea\",                        [{\"labels\":[0,1,2],\"values\":[18608,81039,353],\"type\":\"pie\",\"domain\":{\"x\":[0.0,1.0],\"y\":[0.0,1.0]},\"marker\":{\"colors\":[\"#4F6272\",\"#B7C3F3\",\"#DD7596\",\"#8EB897\",\"#F3FF00\"]}}],                        {\"template\":{\"data\":{\"bar\":[{\"error_x\":{\"color\":\"#2a3f5f\"},\"error_y\":{\"color\":\"#2a3f5f\"},\"marker\":{\"line\":{\"color\":\"#E5ECF6\",\"width\":0.5},\"pattern\":{\"fillmode\":\"overlay\",\"size\":10,\"solidity\":0.2}},\"type\":\"bar\"}],\"barpolar\":[{\"marker\":{\"line\":{\"color\":\"#E5ECF6\",\"width\":0.5},\"pattern\":{\"fillmode\":\"overlay\",\"size\":10,\"solidity\":0.2}},\"type\":\"barpolar\"}],\"carpet\":[{\"aaxis\":{\"endlinecolor\":\"#2a3f5f\",\"gridcolor\":\"white\",\"linecolor\":\"white\",\"minorgridcolor\":\"white\",\"startlinecolor\":\"#2a3f5f\"},\"baxis\":{\"endlinecolor\":\"#2a3f5f\",\"gridcolor\":\"white\",\"linecolor\":\"white\",\"minorgridcolor\":\"white\",\"startlinecolor\":\"#2a3f5f\"},\"type\":\"carpet\"}],\"choropleth\":[{\"colorbar\":{\"outlinewidth\":0,\"ticks\":\"\"},\"type\":\"choropleth\"}],\"contour\":[{\"colorbar\":{\"outlinewidth\":0,\"ticks\":\"\"},\"colorscale\":[[0.0,\"#0d0887\"],[0.1111111111111111,\"#46039f\"],[0.2222222222222222,\"#7201a8\"],[0.3333333333333333,\"#9c179e\"],[0.4444444444444444,\"#bd3786\"],[0.5555555555555556,\"#d8576b\"],[0.6666666666666666,\"#ed7953\"],[0.7777777777777778,\"#fb9f3a\"],[0.8888888888888888,\"#fdca26\"],[1.0,\"#f0f921\"]],\"type\":\"contour\"}],\"contourcarpet\":[{\"colorbar\":{\"outlinewidth\":0,\"ticks\":\"\"},\"type\":\"contourcarpet\"}],\"heatmap\":[{\"colorbar\":{\"outlinewidth\":0,\"ticks\":\"\"},\"colorscale\":[[0.0,\"#0d0887\"],[0.1111111111111111,\"#46039f\"],[0.2222222222222222,\"#7201a8\"],[0.3333333333333333,\"#9c179e\"],[0.4444444444444444,\"#bd3786\"],[0.5555555555555556,\"#d8576b\"],[0.6666666666666666,\"#ed7953\"],[0.7777777777777778,\"#fb9f3a\"],[0.8888888888888888,\"#fdca26\"],[1.0,\"#f0f921\"]],\"type\":\"heatmap\"}],\"heatmapgl\":[{\"colorbar\":{\"outlinewidth\":0,\"ticks\":\"\"},\"colorscale\":[[0.0,\"#0d0887\"],[0.1111111111111111,\"#46039f\"],[0.2222222222222222,\"#7201a8\"],[0.3333333333333333,\"#9c179e\"],[0.4444444444444444,\"#bd3786\"],[0.5555555555555556,\"#d8576b\"],[0.6666666666666666,\"#ed7953\"],[0.7777777777777778,\"#fb9f3a\"],[0.8888888888888888,\"#fdca26\"],[1.0,\"#f0f921\"]],\"type\":\"heatmapgl\"}],\"histogram\":[{\"marker\":{\"pattern\":{\"fillmode\":\"overlay\",\"size\":10,\"solidity\":0.2}},\"type\":\"histogram\"}],\"histogram2d\":[{\"colorbar\":{\"outlinewidth\":0,\"ticks\":\"\"},\"colorscale\":[[0.0,\"#0d0887\"],[0.1111111111111111,\"#46039f\"],[0.2222222222222222,\"#7201a8\"],[0.3333333333333333,\"#9c179e\"],[0.4444444444444444,\"#bd3786\"],[0.5555555555555556,\"#d8576b\"],[0.6666666666666666,\"#ed7953\"],[0.7777777777777778,\"#fb9f3a\"],[0.8888888888888888,\"#fdca26\"],[1.0,\"#f0f921\"]],\"type\":\"histogram2d\"}],\"histogram2dcontour\":[{\"colorbar\":{\"outlinewidth\":0,\"ticks\":\"\"},\"colorscale\":[[0.0,\"#0d0887\"],[0.1111111111111111,\"#46039f\"],[0.2222222222222222,\"#7201a8\"],[0.3333333333333333,\"#9c179e\"],[0.4444444444444444,\"#bd3786\"],[0.5555555555555556,\"#d8576b\"],[0.6666666666666666,\"#ed7953\"],[0.7777777777777778,\"#fb9f3a\"],[0.8888888888888888,\"#fdca26\"],[1.0,\"#f0f921\"]],\"type\":\"histogram2dcontour\"}],\"mesh3d\":[{\"colorbar\":{\"outlinewidth\":0,\"ticks\":\"\"},\"type\":\"mesh3d\"}],\"parcoords\":[{\"line\":{\"colorbar\":{\"outlinewidth\":0,\"ticks\":\"\"}},\"type\":\"parcoords\"}],\"pie\":[{\"automargin\":true,\"type\":\"pie\"}],\"scatter\":[{\"marker\":{\"colorbar\":{\"outlinewidth\":0,\"ticks\":\"\"}},\"type\":\"scatter\"}],\"scatter3d\":[{\"line\":{\"colorbar\":{\"outlinewidth\":0,\"ticks\":\"\"}},\"marker\":{\"colorbar\":{\"outlinewidth\":0,\"ticks\":\"\"}},\"type\":\"scatter3d\"}],\"scattercarpet\":[{\"marker\":{\"colorbar\":{\"outlinewidth\":0,\"ticks\":\"\"}},\"type\":\"scattercarpet\"}],\"scattergeo\":[{\"marker\":{\"colorbar\":{\"outlinewidth\":0,\"ticks\":\"\"}},\"type\":\"scattergeo\"}],\"scattergl\":[{\"marker\":{\"colorbar\":{\"outlinewidth\":0,\"ticks\":\"\"}},\"type\":\"scattergl\"}],\"scattermapbox\":[{\"marker\":{\"colorbar\":{\"outlinewidth\":0,\"ticks\":\"\"}},\"type\":\"scattermapbox\"}],\"scatterpolar\":[{\"marker\":{\"colorbar\":{\"outlinewidth\":0,\"ticks\":\"\"}},\"type\":\"scatterpolar\"}],\"scatterpolargl\":[{\"marker\":{\"colorbar\":{\"outlinewidth\":0,\"ticks\":\"\"}},\"type\":\"scatterpolargl\"}],\"scatterternary\":[{\"marker\":{\"colorbar\":{\"outlinewidth\":0,\"ticks\":\"\"}},\"type\":\"scatterternary\"}],\"surface\":[{\"colorbar\":{\"outlinewidth\":0,\"ticks\":\"\"},\"colorscale\":[[0.0,\"#0d0887\"],[0.1111111111111111,\"#46039f\"],[0.2222222222222222,\"#7201a8\"],[0.3333333333333333,\"#9c179e\"],[0.4444444444444444,\"#bd3786\"],[0.5555555555555556,\"#d8576b\"],[0.6666666666666666,\"#ed7953\"],[0.7777777777777778,\"#fb9f3a\"],[0.8888888888888888,\"#fdca26\"],[1.0,\"#f0f921\"]],\"type\":\"surface\"}],\"table\":[{\"cells\":{\"fill\":{\"color\":\"#EBF0F8\"},\"line\":{\"color\":\"white\"}},\"header\":{\"fill\":{\"color\":\"#C8D4E3\"},\"line\":{\"color\":\"white\"}},\"type\":\"table\"}]},\"layout\":{\"annotationdefaults\":{\"arrowcolor\":\"#2a3f5f\",\"arrowhead\":0,\"arrowwidth\":1},\"autotypenumbers\":\"strict\",\"coloraxis\":{\"colorbar\":{\"outlinewidth\":0,\"ticks\":\"\"}},\"colorscale\":{\"diverging\":[[0,\"#8e0152\"],[0.1,\"#c51b7d\"],[0.2,\"#de77ae\"],[0.3,\"#f1b6da\"],[0.4,\"#fde0ef\"],[0.5,\"#f7f7f7\"],[0.6,\"#e6f5d0\"],[0.7,\"#b8e186\"],[0.8,\"#7fbc41\"],[0.9,\"#4d9221\"],[1,\"#276419\"]],\"sequential\":[[0.0,\"#0d0887\"],[0.1111111111111111,\"#46039f\"],[0.2222222222222222,\"#7201a8\"],[0.3333333333333333,\"#9c179e\"],[0.4444444444444444,\"#bd3786\"],[0.5555555555555556,\"#d8576b\"],[0.6666666666666666,\"#ed7953\"],[0.7777777777777778,\"#fb9f3a\"],[0.8888888888888888,\"#fdca26\"],[1.0,\"#f0f921\"]],\"sequentialminus\":[[0.0,\"#0d0887\"],[0.1111111111111111,\"#46039f\"],[0.2222222222222222,\"#7201a8\"],[0.3333333333333333,\"#9c179e\"],[0.4444444444444444,\"#bd3786\"],[0.5555555555555556,\"#d8576b\"],[0.6666666666666666,\"#ed7953\"],[0.7777777777777778,\"#fb9f3a\"],[0.8888888888888888,\"#fdca26\"],[1.0,\"#f0f921\"]]},\"colorway\":[\"#636efa\",\"#EF553B\",\"#00cc96\",\"#ab63fa\",\"#FFA15A\",\"#19d3f3\",\"#FF6692\",\"#B6E880\",\"#FF97FF\",\"#FECB52\"],\"font\":{\"color\":\"#2a3f5f\"},\"geo\":{\"bgcolor\":\"white\",\"lakecolor\":\"white\",\"landcolor\":\"#E5ECF6\",\"showlakes\":true,\"showland\":true,\"subunitcolor\":\"white\"},\"hoverlabel\":{\"align\":\"left\"},\"hovermode\":\"closest\",\"mapbox\":{\"style\":\"light\"},\"paper_bgcolor\":\"white\",\"plot_bgcolor\":\"#E5ECF6\",\"polar\":{\"angularaxis\":{\"gridcolor\":\"white\",\"linecolor\":\"white\",\"ticks\":\"\"},\"bgcolor\":\"#E5ECF6\",\"radialaxis\":{\"gridcolor\":\"white\",\"linecolor\":\"white\",\"ticks\":\"\"}},\"scene\":{\"xaxis\":{\"backgroundcolor\":\"#E5ECF6\",\"gridcolor\":\"white\",\"gridwidth\":2,\"linecolor\":\"white\",\"showbackground\":true,\"ticks\":\"\",\"zerolinecolor\":\"white\"},\"yaxis\":{\"backgroundcolor\":\"#E5ECF6\",\"gridcolor\":\"white\",\"gridwidth\":2,\"linecolor\":\"white\",\"showbackground\":true,\"ticks\":\"\",\"zerolinecolor\":\"white\"},\"zaxis\":{\"backgroundcolor\":\"#E5ECF6\",\"gridcolor\":\"white\",\"gridwidth\":2,\"linecolor\":\"white\",\"showbackground\":true,\"ticks\":\"\",\"zerolinecolor\":\"white\"}},\"shapedefaults\":{\"line\":{\"color\":\"#2a3f5f\"}},\"ternary\":{\"aaxis\":{\"gridcolor\":\"white\",\"linecolor\":\"white\",\"ticks\":\"\"},\"baxis\":{\"gridcolor\":\"white\",\"linecolor\":\"white\",\"ticks\":\"\"},\"bgcolor\":\"#E5ECF6\",\"caxis\":{\"gridcolor\":\"white\",\"linecolor\":\"white\",\"ticks\":\"\"}},\"title\":{\"x\":0.05},\"xaxis\":{\"automargin\":true,\"gridcolor\":\"white\",\"linecolor\":\"white\",\"ticks\":\"\",\"title\":{\"standoff\":15},\"zerolinecolor\":\"white\",\"zerolinewidth\":2},\"yaxis\":{\"automargin\":true,\"gridcolor\":\"white\",\"linecolor\":\"white\",\"ticks\":\"\",\"title\":{\"standoff\":15},\"zerolinecolor\":\"white\",\"zerolinewidth\":2}}},\"annotations\":[{\"font\":{\"size\":16},\"showarrow\":false,\"text\":\" Cantidad de clientes en cada STATUS <br><sup> Total:100000</sup>\",\"x\":0.5,\"xanchor\":\"center\",\"xref\":\"paper\",\"y\":1.0,\"yanchor\":\"bottom\",\"yref\":\"paper\"}]},                        {\"responsive\": true}                    ).then(function(){\n",
              "                            \n",
              "var gd = document.getElementById('a783b532-f5a3-480c-bd2d-14464391e2ea');\n",
              "var x = new MutationObserver(function (mutations, observer) {{\n",
              "        var display = window.getComputedStyle(gd).display;\n",
              "        if (!display || display === 'none') {{\n",
              "            console.log([gd, 'removed!']);\n",
              "            Plotly.purge(gd);\n",
              "            observer.disconnect();\n",
              "        }}\n",
              "}});\n",
              "\n",
              "// Listen for the removal of the full notebook cells\n",
              "var notebookContainer = gd.closest('#notebook-container');\n",
              "if (notebookContainer) {{\n",
              "    x.observe(notebookContainer, {childList: true});\n",
              "}}\n",
              "\n",
              "// Listen for the clearing of the current output cell\n",
              "var outputEl = gd.closest('.output');\n",
              "if (outputEl) {{\n",
              "    x.observe(outputEl, {childList: true});\n",
              "}}\n",
              "\n",
              "                        })                };                            </script>        </div>\n",
              "</body>\n",
              "</html>"
            ]
          },
          "metadata": {}
        }
      ],
      "source": [
        "#Gráfico de torta\n",
        "fig = make_subplots(rows=1, cols=1, specs=[[{'type':'domain'}]], \n",
        "                    subplot_titles=[F\" Cantidad de clientes en cada STATUS <br><sup> Total:{df[['ID','STATUS']].shape[0]}</sup>\"])\n",
        "\n",
        "fig.add_trace(go.Pie(labels=IDS_agrupados.index, values=IDS_agrupados['ID']), row=1, col=1)\n",
        "\n",
        "fig.update_traces(marker=dict(colors=['#4F6272', '#B7C3F3', '#DD7596', '#8EB897', '#F3FF00']))\n",
        "fig.show()"
      ]
    },
    {
      "cell_type": "markdown",
      "metadata": {
        "id": "W98pgywiJm-T"
      },
      "source": [
        "Hicimos una torta para ver en que grupo de status se encuentra la mayoría de los usuarios\n",
        "Observamos que la mayoría son buenos pagadores\n",
        "También hay una proporción alta que no pidió préstamo y otra que pagó a tiempo"
      ]
    },
    {
      "cell_type": "code",
      "execution_count": null,
      "metadata": {
        "ExecuteTime": {
          "end_time": "2022-11-22T00:32:33.031144Z",
          "start_time": "2022-11-22T00:32:32.904673Z"
        },
        "execution": {
          "iopub.execute_input": "2022-11-07T23:52:51.565528Z",
          "iopub.status.busy": "2022-11-07T23:52:51.564528Z",
          "iopub.status.idle": "2022-11-07T23:52:51.637734Z",
          "shell.execute_reply": "2022-11-07T23:52:51.637734Z",
          "shell.execute_reply.started": "2022-11-07T23:52:51.565528Z"
        },
        "id": "sTzzAVHQE2C1",
        "colab": {
          "base_uri": "https://localhost:8080/",
          "height": 295
        },
        "outputId": "36b45124-4580-4baa-97fa-6a227d4d9d61"
      },
      "outputs": [
        {
          "output_type": "display_data",
          "data": {
            "text/plain": [
              "<Figure size 576x288 with 1 Axes>"
            ],
            "image/png": "[encoded data removed]"
          },
          "metadata": {
            "needs_background": "light"
          }
        }
      ],
      "source": [
        "#Histograma\n",
        "fig, ax = plt.subplots(figsize = (8, 4))\n",
        "ax.hist(df['AGE'], bins=10)\n",
        "ax.set_title('Histograma de Edad')\n",
        "ax.set_xlabel('Edad')\n",
        "ax.set_ylabel('Frecuencia absoluta');"
      ]
    },
    {
      "cell_type": "markdown",
      "metadata": {
        "id": "sXNyx70NKDGc"
      },
      "source": [
        "Graficamos la distribución de probabilidad de la edad de los clientes del banco cada mes\n",
        "Observamos una distribución simétrica, ubicándose la mayoria de las personas entre los 30 y 60 años"
      ]
    },
    {
      "cell_type": "code",
      "execution_count": null,
      "metadata": {
        "ExecuteTime": {
          "end_time": "2022-11-22T00:32:34.051126Z",
          "start_time": "2022-11-22T00:32:33.032155Z"
        },
        "execution": {
          "iopub.execute_input": "2022-11-07T23:52:51.638757Z",
          "iopub.status.busy": "2022-11-07T23:52:51.638757Z",
          "iopub.status.idle": "2022-11-07T23:52:52.399918Z",
          "shell.execute_reply": "2022-11-07T23:52:52.399918Z",
          "shell.execute_reply.started": "2022-11-07T23:52:51.638757Z"
        },
        "id": "5ZbjmIvfI_EA",
        "tags": [],
        "colab": {
          "base_uri": "https://localhost:8080/",
          "height": 241
        },
        "outputId": "f1cc49c8-f45b-482b-eb4c-aaecdec9a929"
      },
      "outputs": [
        {
          "output_type": "display_data",
          "data": {
            "text/plain": [
              "<Figure size 648x216 with 1 Axes>"
            ],
            "image/png": "[encoded data removed]"
          },
          "metadata": {
            "needs_background": "light"
          }
        }
      ],
      "source": [
        "#Scatterplot\n",
        "fig, ax = plt.subplots(figsize=(9,3)) \n",
        "ax.scatter(df['AMT_INCOME_TOTAL'], df['CNT_CHILDREN'], alpha=1) \n",
        "ax.set_title('Ingreso anual vs. Cantidad de hijos')\n",
        "ax.set_xlabel('Cant. de hijos')\n",
        "ax.set_ylabel('Ingreso anual');"
      ]
    },
    {
      "cell_type": "markdown",
      "metadata": {
        "id": "LTyZGhJZKJ9W"
      },
      "source": [
        "Realizamos un scatterplot para intentar de ver si hay alguna relación entre el ingreso de las personas y su cantidad de hijos\n",
        "No se observa una relación clara"
      ]
    },
    {
      "cell_type": "markdown",
      "metadata": {
        "id": "Po97fUl-zwZ3"
      },
      "source": [
        "---\n",
        "Vamos a plantearnos algunas hipótesis sobre relaciones entre la variables 'status' (que es nuestra variable a predecir) y otras variables que puedan afectarla.\n"
      ]
    },
    {
      "cell_type": "markdown",
      "metadata": {
        "id": "oJ8BDqvC7qbV"
      },
      "source": [
        "## **Hipótesis 1:** \n",
        "Las personas con un cargo de commercial associate son las que demoran menos en pagar, mientras que los de cargo working/pensioner son los que mas demoran."
      ]
    },
    {
      "cell_type": "markdown",
      "metadata": {
        "execution": {
          "iopub.execute_input": "2022-10-25T00:42:42.037824Z",
          "iopub.status.busy": "2022-10-25T00:42:42.037824Z",
          "iopub.status.idle": "2022-10-25T00:42:42.041824Z",
          "shell.execute_reply": "2022-10-25T00:42:42.041824Z",
          "shell.execute_reply.started": "2022-10-25T00:42:42.037824Z"
        },
        "id": "77KYZYrcATBc",
        "tags": []
      },
      "source": [
        "Generamos 3 datasets haciendo una agrupacion por tipo de empleo para cada nivel de status."
      ]
    },
    {
      "cell_type": "code",
      "execution_count": null,
      "metadata": {
        "ExecuteTime": {
          "end_time": "2022-11-22T00:32:34.205844Z",
          "start_time": "2022-11-22T00:32:34.053128Z"
        },
        "execution": {
          "iopub.execute_input": "2022-11-07T23:52:52.399918Z",
          "iopub.status.busy": "2022-11-07T23:52:52.399918Z",
          "iopub.status.idle": "2022-11-07T23:52:52.506895Z",
          "shell.execute_reply": "2022-11-07T23:52:52.506895Z",
          "shell.execute_reply.started": "2022-11-07T23:52:52.399918Z"
        },
        "id": "AinTEiSD_wuM",
        "colab": {
          "base_uri": "https://localhost:8080/",
          "height": 237
        },
        "outputId": "6664db30-7174-45ce-b17f-fbc506ebc41b"
      },
      "outputs": [
        {
          "output_type": "execute_result",
          "data": {
            "text/plain": [
              "                         ID\n",
              "NAME_INCOME_TYPE           \n",
              "Commercial associate  19142\n",
              "Pensioner             13442\n",
              "State servant          6834\n",
              "Student                  34\n",
              "Working               41587"
            ],
            "text/html": [
              "\n",
              "  <div id=\"df-ebdc3ece-6b2a-4786-841a-806204442d56\">\n",
              "    <div class=\"colab-df-container\">\n",
              "      <div>\n",
              "<style scoped>\n",
              "    .dataframe tbody tr th:only-of-type {\n",
              "        vertical-align: middle;\n",
              "    }\n",
              "\n",
              "    .dataframe tbody tr th {\n",
              "        vertical-align: top;\n",
              "    }\n",
              "\n",
              "    .dataframe thead th {\n",
              "        text-align: right;\n",
              "    }\n",
              "</style>\n",
              "<table border=\"1\" class=\"dataframe\">\n",
              "  <thead>\n",
              "    <tr style=\"text-align: right;\">\n",
              "      <th></th>\n",
              "      <th>ID</th>\n",
              "    </tr>\n",
              "    <tr>\n",
              "      <th>NAME_INCOME_TYPE</th>\n",
              "      <th></th>\n",
              "    </tr>\n",
              "  </thead>\n",
              "  <tbody>\n",
              "    <tr>\n",
              "      <th>Commercial associate</th>\n",
              "      <td>19142</td>\n",
              "    </tr>\n",
              "    <tr>\n",
              "      <th>Pensioner</th>\n",
              "      <td>13442</td>\n",
              "    </tr>\n",
              "    <tr>\n",
              "      <th>State servant</th>\n",
              "      <td>6834</td>\n",
              "    </tr>\n",
              "    <tr>\n",
              "      <th>Student</th>\n",
              "      <td>34</td>\n",
              "    </tr>\n",
              "    <tr>\n",
              "      <th>Working</th>\n",
              "      <td>41587</td>\n",
              "    </tr>\n",
              "  </tbody>\n",
              "</table>\n",
              "</div>\n",
              "      <button class=\"colab-df-convert\" onclick=\"convertToInteractive('df-ebdc3ece-6b2a-4786-841a-806204442d56')\"\n",
              "              title=\"Convert this dataframe to an interactive table.\"\n",
              "              style=\"display:none;\">\n",
              "        \n",
              "  <svg xmlns=\"http://www.w3.org/2000/svg\" height=\"24px\"viewBox=\"0 0 24 24\"\n",
              "       width=\"24px\">\n",
              "    <path d=\"M0 0h24v24H0V0z\" fill=\"none\"/>\n",
              "    <path d=\"M18.56 5.44l.94 2.06.94-2.06 2.06-.94-2.06-.94-.94-2.06-.94 2.06-2.06.94zm-11 1L8.5 8.5l.94-2.06 2.06-.94-2.06-.94L8.5 2.5l-.94 2.06-2.06.94zm10 10l.94 2.06.94-2.06 2.06-.94-2.06-.94-.94-2.06-.94 2.06-2.06.94z\"/><path d=\"M17.41 7.96l-1.37-1.37c-.4-.4-.92-.59-1.43-.59-.52 0-1.04.2-1.43.59L10.3 9.45l-7.72 7.72c-.78.78-.78 2.05 0 2.83L4 21.41c.39.39.9.59 1.41.59.51 0 1.02-.2 1.41-.59l7.78-7.78 2.81-2.81c.8-.78.8-2.07 0-2.86zM5.41 20L4 18.59l7.72-7.72 1.47 1.35L5.41 20z\"/>\n",
              "  </svg>\n",
              "      </button>\n",
              "      \n",
              "  <style>\n",
              "    .colab-df-container {\n",
              "      display:flex;\n",
              "      flex-wrap:wrap;\n",
              "      gap: 12px;\n",
              "    }\n",
              "\n",
              "    .colab-df-convert {\n",
              "      background-color: #E8F0FE;\n",
              "      border: none;\n",
              "      border-radius: 50%;\n",
              "      cursor: pointer;\n",
              "      display: none;\n",
              "      fill: #1967D2;\n",
              "      height: 32px;\n",
              "      padding: 0 0 0 0;\n",
              "      width: 32px;\n",
              "    }\n",
              "\n",
              "    .colab-df-convert:hover {\n",
              "      background-color: #E2EBFA;\n",
              "      box-shadow: 0px 1px 2px rgba(60, 64, 67, 0.3), 0px 1px 3px 1px rgba(60, 64, 67, 0.15);\n",
              "      fill: #174EA6;\n",
              "    }\n",
              "\n",
              "    [theme=dark] .colab-df-convert {\n",
              "      background-color: #3B4455;\n",
              "      fill: #D2E3FC;\n",
              "    }\n",
              "\n",
              "    [theme=dark] .colab-df-convert:hover {\n",
              "      background-color: #434B5C;\n",
              "      box-shadow: 0px 1px 3px 1px rgba(0, 0, 0, 0.15);\n",
              "      filter: drop-shadow(0px 1px 2px rgba(0, 0, 0, 0.3));\n",
              "      fill: #FFFFFF;\n",
              "    }\n",
              "  </style>\n",
              "\n",
              "      <script>\n",
              "        const buttonEl =\n",
              "          document.querySelector('#df-ebdc3ece-6b2a-4786-841a-806204442d56 button.colab-df-convert');\n",
              "        buttonEl.style.display =\n",
              "          google.colab.kernel.accessAllowed ? 'block' : 'none';\n",
              "\n",
              "        async function convertToInteractive(key) {\n",
              "          const element = document.querySelector('#df-ebdc3ece-6b2a-4786-841a-806204442d56');\n",
              "          const dataTable =\n",
              "            await google.colab.kernel.invokeFunction('convertToInteractive',\n",
              "                                                     [key], {});\n",
              "          if (!dataTable) return;\n",
              "\n",
              "          const docLinkHtml = 'Like what you see? Visit the ' +\n",
              "            '<a target=\"_blank\" href=https://colab.research.google.com/notebooks/data_table.ipynb>data table notebook</a>'\n",
              "            + ' to learn more about interactive tables.';\n",
              "          element.innerHTML = '';\n",
              "          dataTable['output_type'] = 'display_data';\n",
              "          await google.colab.output.renderOutput(dataTable, element);\n",
              "          const docLink = document.createElement('div');\n",
              "          docLink.innerHTML = docLinkHtml;\n",
              "          element.appendChild(docLink);\n",
              "        }\n",
              "      </script>\n",
              "    </div>\n",
              "  </div>\n",
              "  "
            ]
          },
          "metadata": {},
          "execution_count": 41
        }
      ],
      "source": [
        "Empleos_status0 = df[df['STATUS']==0][['NAME_INCOME_TYPE','ID']].groupby(by='NAME_INCOME_TYPE').count()\n",
        "Empleos_status1 = df[df['STATUS']==1][['NAME_INCOME_TYPE','ID']].groupby(by='NAME_INCOME_TYPE').count()\n",
        "Empleos_status2 = df[df['STATUS']==2][['NAME_INCOME_TYPE','ID']].groupby(by='NAME_INCOME_TYPE').count()\n",
        "Empleos_status1"
      ]
    },
    {
      "cell_type": "markdown",
      "metadata": {
        "id": "7tiWsNeoATBc"
      },
      "source": [
        "A continuación se realizará un histograma para cada tipo de empleo acerca de la participacion de cada STATUS en el mismo.\n",
        "<br>\n",
        "La idea es ver si para algun tipo de empleo, se observa un mayor peso del _STATUS 2_"
      ]
    },
    {
      "cell_type": "code",
      "execution_count": null,
      "metadata": {
        "ExecuteTime": {
          "end_time": "2022-11-22T00:32:36.240858Z",
          "start_time": "2022-11-22T00:32:34.206844Z"
        },
        "execution": {
          "iopub.execute_input": "2022-11-07T23:52:52.506895Z",
          "iopub.status.busy": "2022-11-07T23:52:52.506895Z",
          "iopub.status.idle": "2022-11-07T23:52:53.912882Z",
          "shell.execute_reply": "2022-11-07T23:52:53.912882Z",
          "shell.execute_reply.started": "2022-11-07T23:52:52.506895Z"
        },
        "id": "krGjnVjQGvhF",
        "colab": {
          "base_uri": "https://localhost:8080/",
          "height": 729
        },
        "outputId": "ab9f4b4f-0324-4d13-9bd7-5669b5e6d3c4"
      },
      "outputs": [
        {
          "output_type": "display_data",
          "data": {
            "text/plain": [
              "<Figure size 1225.75x720 with 5 Axes>"
            ],
            "image/png": "[encoded data removed]"
          },
          "metadata": {
            "needs_background": "light"
          }
        }
      ],
      "source": [
        "sns.displot(data=df, x=df[\"STATUS\"].astype(object), hue=\"NAME_INCOME_TYPE\", \n",
        "            multiple=\"stack\", col=\"NAME_INCOME_TYPE\", col_wrap=3, bins=3);"
      ]
    },
    {
      "cell_type": "code",
      "execution_count": null,
      "metadata": {
        "ExecuteTime": {
          "end_time": "2022-11-22T00:32:43.975295Z",
          "start_time": "2022-11-22T00:32:36.241858Z"
        },
        "execution": {
          "iopub.execute_input": "2022-11-07T23:52:53.912882Z",
          "iopub.status.busy": "2022-11-07T23:52:53.912882Z",
          "iopub.status.idle": "2022-11-07T23:52:59.390206Z",
          "shell.execute_reply": "2022-11-07T23:52:59.390206Z",
          "shell.execute_reply.started": "2022-11-07T23:52:53.912882Z"
        },
        "id": "TcoWwUGcQo84",
        "colab": {
          "base_uri": "https://localhost:8080/",
          "height": 54
        },
        "outputId": "c76fa29e-eaca-41c6-efb7-25c414d3b5c3"
      },
      "outputs": [
        {
          "output_type": "display_data",
          "data": {
            "text/plain": [
              "<Figure size 432x288 with 1 Axes>"
            ],
            "image/png": "[encoded data removed]"
          },
          "metadata": {
            "needs_background": "light"
          }
        }
      ],
      "source": [
        "sns.barplot(data=df, x=df[\"STATUS\"].astype(object), y='AMT_INCOME_TOTAL', hue=\"NAME_INCOME_TYPE\");"
      ]
    },
    {
      "cell_type": "markdown",
      "metadata": {
        "id": "j8RvU_PVATBc",
        "tags": []
      },
      "source": [
        "A continuacion se realizaran graficos de torta correspondientes a la segmentacion por empleo de la variable _STATUS_.\n",
        "<br>\n",
        "Nuestra intencion es mostrar que porcentaje representa cada segmentacion de empleo para cada uno de los _STATUS_.\n",
        "<br>\n",
        "Si observamos que aumenta la participación de _Working_ y _Pensioner_ se comprobaría nuestra hipótesis 1."
      ]
    },
    {
      "cell_type": "code",
      "execution_count": null,
      "metadata": {
        "ExecuteTime": {
          "end_time": "2022-11-22T00:32:44.098461Z",
          "start_time": "2022-11-22T00:32:43.975295Z"
        },
        "execution": {
          "iopub.execute_input": "2022-11-07T23:52:59.391205Z",
          "iopub.status.busy": "2022-11-07T23:52:59.390206Z",
          "iopub.status.idle": "2022-11-07T23:52:59.466057Z",
          "shell.execute_reply": "2022-11-07T23:52:59.466057Z",
          "shell.execute_reply.started": "2022-11-07T23:52:59.391205Z"
        },
        "id": "ULW0mjMwATBc",
        "tags": [],
        "colab": {
          "base_uri": "https://localhost:8080/",
          "height": 542
        },
        "outputId": "f73edb6b-3f7b-4364-8a64-cf700501dee0"
      },
      "outputs": [
        {
          "output_type": "display_data",
          "data": {
            "text/html": [
              "<html>\n",
              "<head><meta charset=\"utf-8\" /></head>\n",
              "<body>\n",
              "    <div>            <script src=\"https://cdnjs.cloudflare.com/ajax/libs/mathjax/2.7.5/MathJax.js?config=TeX-AMS-MML_SVG\"></script><script type=\"text/javascript\">if (window.MathJax) {MathJax.Hub.Config({SVG: {font: \"STIX-Web\"}});}</script>                <script type=\"text/javascript\">window.PlotlyConfig = {MathJaxConfig: 'local'};</script>\n",
              "        <script src=\"https://cdn.plot.ly/plotly-2.8.3.min.js\"></script>                <div id=\"3612a722-f452-4fcb-9d83-f2e2c6d4bc67\" class=\"plotly-graph-div\" style=\"height:525px; width:100%;\"></div>            <script type=\"text/javascript\">                                    window.PLOTLYENV=window.PLOTLYENV || {};                                    if (document.getElementById(\"3612a722-f452-4fcb-9d83-f2e2c6d4bc67\")) {                    Plotly.newPlot(                        \"3612a722-f452-4fcb-9d83-f2e2c6d4bc67\",                        [{\"labels\":[\"Commercial associate\",\"Pensioner\",\"State servant\",\"Student\",\"Working\"],\"values\":[4356,3002,1639,3,9608],\"type\":\"pie\",\"domain\":{\"x\":[0.0,0.2888888888888889],\"y\":[0.0,1.0]},\"marker\":{\"colors\":[\"#4F6272\",\"#B7C3F3\",\"#DD7596\",\"#8EB897\",\"#F3FF00\"]}},{\"labels\":[\"Commercial associate\",\"Pensioner\",\"State servant\",\"Student\",\"Working\"],\"values\":[19142,13442,6834,34,41587],\"type\":\"pie\",\"domain\":{\"x\":[0.35555555555555557,0.6444444444444445],\"y\":[0.0,1.0]},\"marker\":{\"colors\":[\"#4F6272\",\"#B7C3F3\",\"#DD7596\",\"#8EB897\",\"#F3FF00\"]}},{\"labels\":[\"Commercial associate\",\"Pensioner\",\"State servant\",\"Working\"],\"values\":[114,79,18,142],\"type\":\"pie\",\"domain\":{\"x\":[0.7111111111111111,1.0],\"y\":[0.0,1.0]},\"marker\":{\"colors\":[\"#4F6272\",\"#B7C3F3\",\"#DD7596\",\"#8EB897\",\"#F3FF00\"]}}],                        {\"template\":{\"data\":{\"bar\":[{\"error_x\":{\"color\":\"#2a3f5f\"},\"error_y\":{\"color\":\"#2a3f5f\"},\"marker\":{\"line\":{\"color\":\"#E5ECF6\",\"width\":0.5},\"pattern\":{\"fillmode\":\"overlay\",\"size\":10,\"solidity\":0.2}},\"type\":\"bar\"}],\"barpolar\":[{\"marker\":{\"line\":{\"color\":\"#E5ECF6\",\"width\":0.5},\"pattern\":{\"fillmode\":\"overlay\",\"size\":10,\"solidity\":0.2}},\"type\":\"barpolar\"}],\"carpet\":[{\"aaxis\":{\"endlinecolor\":\"#2a3f5f\",\"gridcolor\":\"white\",\"linecolor\":\"white\",\"minorgridcolor\":\"white\",\"startlinecolor\":\"#2a3f5f\"},\"baxis\":{\"endlinecolor\":\"#2a3f5f\",\"gridcolor\":\"white\",\"linecolor\":\"white\",\"minorgridcolor\":\"white\",\"startlinecolor\":\"#2a3f5f\"},\"type\":\"carpet\"}],\"choropleth\":[{\"colorbar\":{\"outlinewidth\":0,\"ticks\":\"\"},\"type\":\"choropleth\"}],\"contour\":[{\"colorbar\":{\"outlinewidth\":0,\"ticks\":\"\"},\"colorscale\":[[0.0,\"#0d0887\"],[0.1111111111111111,\"#46039f\"],[0.2222222222222222,\"#7201a8\"],[0.3333333333333333,\"#9c179e\"],[0.4444444444444444,\"#bd3786\"],[0.5555555555555556,\"#d8576b\"],[0.6666666666666666,\"#ed7953\"],[0.7777777777777778,\"#fb9f3a\"],[0.8888888888888888,\"#fdca26\"],[1.0,\"#f0f921\"]],\"type\":\"contour\"}],\"contourcarpet\":[{\"colorbar\":{\"outlinewidth\":0,\"ticks\":\"\"},\"type\":\"contourcarpet\"}],\"heatmap\":[{\"colorbar\":{\"outlinewidth\":0,\"ticks\":\"\"},\"colorscale\":[[0.0,\"#0d0887\"],[0.1111111111111111,\"#46039f\"],[0.2222222222222222,\"#7201a8\"],[0.3333333333333333,\"#9c179e\"],[0.4444444444444444,\"#bd3786\"],[0.5555555555555556,\"#d8576b\"],[0.6666666666666666,\"#ed7953\"],[0.7777777777777778,\"#fb9f3a\"],[0.8888888888888888,\"#fdca26\"],[1.0,\"#f0f921\"]],\"type\":\"heatmap\"}],\"heatmapgl\":[{\"colorbar\":{\"outlinewidth\":0,\"ticks\":\"\"},\"colorscale\":[[0.0,\"#0d0887\"],[0.1111111111111111,\"#46039f\"],[0.2222222222222222,\"#7201a8\"],[0.3333333333333333,\"#9c179e\"],[0.4444444444444444,\"#bd3786\"],[0.5555555555555556,\"#d8576b\"],[0.6666666666666666,\"#ed7953\"],[0.7777777777777778,\"#fb9f3a\"],[0.8888888888888888,\"#fdca26\"],[1.0,\"#f0f921\"]],\"type\":\"heatmapgl\"}],\"histogram\":[{\"marker\":{\"pattern\":{\"fillmode\":\"overlay\",\"size\":10,\"solidity\":0.2}},\"type\":\"histogram\"}],\"histogram2d\":[{\"colorbar\":{\"outlinewidth\":0,\"ticks\":\"\"},\"colorscale\":[[0.0,\"#0d0887\"],[0.1111111111111111,\"#46039f\"],[0.2222222222222222,\"#7201a8\"],[0.3333333333333333,\"#9c179e\"],[0.4444444444444444,\"#bd3786\"],[0.5555555555555556,\"#d8576b\"],[0.6666666666666666,\"#ed7953\"],[0.7777777777777778,\"#fb9f3a\"],[0.8888888888888888,\"#fdca26\"],[1.0,\"#f0f921\"]],\"type\":\"histogram2d\"}],\"histogram2dcontour\":[{\"colorbar\":{\"outlinewidth\":0,\"ticks\":\"\"},\"colorscale\":[[0.0,\"#0d0887\"],[0.1111111111111111,\"#46039f\"],[0.2222222222222222,\"#7201a8\"],[0.3333333333333333,\"#9c179e\"],[0.4444444444444444,\"#bd3786\"],[0.5555555555555556,\"#d8576b\"],[0.6666666666666666,\"#ed7953\"],[0.7777777777777778,\"#fb9f3a\"],[0.8888888888888888,\"#fdca26\"],[1.0,\"#f0f921\"]],\"type\":\"histogram2dcontour\"}],\"mesh3d\":[{\"colorbar\":{\"outlinewidth\":0,\"ticks\":\"\"},\"type\":\"mesh3d\"}],\"parcoords\":[{\"line\":{\"colorbar\":{\"outlinewidth\":0,\"ticks\":\"\"}},\"type\":\"parcoords\"}],\"pie\":[{\"automargin\":true,\"type\":\"pie\"}],\"scatter\":[{\"marker\":{\"colorbar\":{\"outlinewidth\":0,\"ticks\":\"\"}},\"type\":\"scatter\"}],\"scatter3d\":[{\"line\":{\"colorbar\":{\"outlinewidth\":0,\"ticks\":\"\"}},\"marker\":{\"colorbar\":{\"outlinewidth\":0,\"ticks\":\"\"}},\"type\":\"scatter3d\"}],\"scattercarpet\":[{\"marker\":{\"colorbar\":{\"outlinewidth\":0,\"ticks\":\"\"}},\"type\":\"scattercarpet\"}],\"scattergeo\":[{\"marker\":{\"colorbar\":{\"outlinewidth\":0,\"ticks\":\"\"}},\"type\":\"scattergeo\"}],\"scattergl\":[{\"marker\":{\"colorbar\":{\"outlinewidth\":0,\"ticks\":\"\"}},\"type\":\"scattergl\"}],\"scattermapbox\":[{\"marker\":{\"colorbar\":{\"outlinewidth\":0,\"ticks\":\"\"}},\"type\":\"scattermapbox\"}],\"scatterpolar\":[{\"marker\":{\"colorbar\":{\"outlinewidth\":0,\"ticks\":\"\"}},\"type\":\"scatterpolar\"}],\"scatterpolargl\":[{\"marker\":{\"colorbar\":{\"outlinewidth\":0,\"ticks\":\"\"}},\"type\":\"scatterpolargl\"}],\"scatterternary\":[{\"marker\":{\"colorbar\":{\"outlinewidth\":0,\"ticks\":\"\"}},\"type\":\"scatterternary\"}],\"surface\":[{\"colorbar\":{\"outlinewidth\":0,\"ticks\":\"\"},\"colorscale\":[[0.0,\"#0d0887\"],[0.1111111111111111,\"#46039f\"],[0.2222222222222222,\"#7201a8\"],[0.3333333333333333,\"#9c179e\"],[0.4444444444444444,\"#bd3786\"],[0.5555555555555556,\"#d8576b\"],[0.6666666666666666,\"#ed7953\"],[0.7777777777777778,\"#fb9f3a\"],[0.8888888888888888,\"#fdca26\"],[1.0,\"#f0f921\"]],\"type\":\"surface\"}],\"table\":[{\"cells\":{\"fill\":{\"color\":\"#EBF0F8\"},\"line\":{\"color\":\"white\"}},\"header\":{\"fill\":{\"color\":\"#C8D4E3\"},\"line\":{\"color\":\"white\"}},\"type\":\"table\"}]},\"layout\":{\"annotationdefaults\":{\"arrowcolor\":\"#2a3f5f\",\"arrowhead\":0,\"arrowwidth\":1},\"autotypenumbers\":\"strict\",\"coloraxis\":{\"colorbar\":{\"outlinewidth\":0,\"ticks\":\"\"}},\"colorscale\":{\"diverging\":[[0,\"#8e0152\"],[0.1,\"#c51b7d\"],[0.2,\"#de77ae\"],[0.3,\"#f1b6da\"],[0.4,\"#fde0ef\"],[0.5,\"#f7f7f7\"],[0.6,\"#e6f5d0\"],[0.7,\"#b8e186\"],[0.8,\"#7fbc41\"],[0.9,\"#4d9221\"],[1,\"#276419\"]],\"sequential\":[[0.0,\"#0d0887\"],[0.1111111111111111,\"#46039f\"],[0.2222222222222222,\"#7201a8\"],[0.3333333333333333,\"#9c179e\"],[0.4444444444444444,\"#bd3786\"],[0.5555555555555556,\"#d8576b\"],[0.6666666666666666,\"#ed7953\"],[0.7777777777777778,\"#fb9f3a\"],[0.8888888888888888,\"#fdca26\"],[1.0,\"#f0f921\"]],\"sequentialminus\":[[0.0,\"#0d0887\"],[0.1111111111111111,\"#46039f\"],[0.2222222222222222,\"#7201a8\"],[0.3333333333333333,\"#9c179e\"],[0.4444444444444444,\"#bd3786\"],[0.5555555555555556,\"#d8576b\"],[0.6666666666666666,\"#ed7953\"],[0.7777777777777778,\"#fb9f3a\"],[0.8888888888888888,\"#fdca26\"],[1.0,\"#f0f921\"]]},\"colorway\":[\"#636efa\",\"#EF553B\",\"#00cc96\",\"#ab63fa\",\"#FFA15A\",\"#19d3f3\",\"#FF6692\",\"#B6E880\",\"#FF97FF\",\"#FECB52\"],\"font\":{\"color\":\"#2a3f5f\"},\"geo\":{\"bgcolor\":\"white\",\"lakecolor\":\"white\",\"landcolor\":\"#E5ECF6\",\"showlakes\":true,\"showland\":true,\"subunitcolor\":\"white\"},\"hoverlabel\":{\"align\":\"left\"},\"hovermode\":\"closest\",\"mapbox\":{\"style\":\"light\"},\"paper_bgcolor\":\"white\",\"plot_bgcolor\":\"#E5ECF6\",\"polar\":{\"angularaxis\":{\"gridcolor\":\"white\",\"linecolor\":\"white\",\"ticks\":\"\"},\"bgcolor\":\"#E5ECF6\",\"radialaxis\":{\"gridcolor\":\"white\",\"linecolor\":\"white\",\"ticks\":\"\"}},\"scene\":{\"xaxis\":{\"backgroundcolor\":\"#E5ECF6\",\"gridcolor\":\"white\",\"gridwidth\":2,\"linecolor\":\"white\",\"showbackground\":true,\"ticks\":\"\",\"zerolinecolor\":\"white\"},\"yaxis\":{\"backgroundcolor\":\"#E5ECF6\",\"gridcolor\":\"white\",\"gridwidth\":2,\"linecolor\":\"white\",\"showbackground\":true,\"ticks\":\"\",\"zerolinecolor\":\"white\"},\"zaxis\":{\"backgroundcolor\":\"#E5ECF6\",\"gridcolor\":\"white\",\"gridwidth\":2,\"linecolor\":\"white\",\"showbackground\":true,\"ticks\":\"\",\"zerolinecolor\":\"white\"}},\"shapedefaults\":{\"line\":{\"color\":\"#2a3f5f\"}},\"ternary\":{\"aaxis\":{\"gridcolor\":\"white\",\"linecolor\":\"white\",\"ticks\":\"\"},\"baxis\":{\"gridcolor\":\"white\",\"linecolor\":\"white\",\"ticks\":\"\"},\"bgcolor\":\"#E5ECF6\",\"caxis\":{\"gridcolor\":\"white\",\"linecolor\":\"white\",\"ticks\":\"\"}},\"title\":{\"x\":0.05},\"xaxis\":{\"automargin\":true,\"gridcolor\":\"white\",\"linecolor\":\"white\",\"ticks\":\"\",\"title\":{\"standoff\":15},\"zerolinecolor\":\"white\",\"zerolinewidth\":2},\"yaxis\":{\"automargin\":true,\"gridcolor\":\"white\",\"linecolor\":\"white\",\"ticks\":\"\",\"title\":{\"standoff\":15},\"zerolinecolor\":\"white\",\"zerolinewidth\":2}}},\"annotations\":[{\"font\":{\"size\":16},\"showarrow\":false,\"text\":\" Status 0: No tom\\u00f3 pr\\u00e9stamo <br><sup> Total:18608</sup>\",\"x\":0.14444444444444446,\"xanchor\":\"center\",\"xref\":\"paper\",\"y\":1.0,\"yanchor\":\"bottom\",\"yref\":\"paper\"},{\"font\":{\"size\":16},\"showarrow\":false,\"text\":\" Status 1: Buenos pagadores <br><sup> Total:81039</sup>\",\"x\":0.5,\"xanchor\":\"center\",\"xref\":\"paper\",\"y\":1.0,\"yanchor\":\"bottom\",\"yref\":\"paper\"},{\"font\":{\"size\":16},\"showarrow\":false,\"text\":\" Status 2: Malos pagadores <br><sup> Total:353</sup>\",\"x\":0.8555555555555556,\"xanchor\":\"center\",\"xref\":\"paper\",\"y\":1.0,\"yanchor\":\"bottom\",\"yref\":\"paper\"}]},                        {\"responsive\": true}                    ).then(function(){\n",
              "                            \n",
              "var gd = document.getElementById('3612a722-f452-4fcb-9d83-f2e2c6d4bc67');\n",
              "var x = new MutationObserver(function (mutations, observer) {{\n",
              "        var display = window.getComputedStyle(gd).display;\n",
              "        if (!display || display === 'none') {{\n",
              "            console.log([gd, 'removed!']);\n",
              "            Plotly.purge(gd);\n",
              "            observer.disconnect();\n",
              "        }}\n",
              "}});\n",
              "\n",
              "// Listen for the removal of the full notebook cells\n",
              "var notebookContainer = gd.closest('#notebook-container');\n",
              "if (notebookContainer) {{\n",
              "    x.observe(notebookContainer, {childList: true});\n",
              "}}\n",
              "\n",
              "// Listen for the clearing of the current output cell\n",
              "var outputEl = gd.closest('.output');\n",
              "if (outputEl) {{\n",
              "    x.observe(outputEl, {childList: true});\n",
              "}}\n",
              "\n",
              "                        })                };                            </script>        </div>\n",
              "</body>\n",
              "</html>"
            ]
          },
          "metadata": {}
        }
      ],
      "source": [
        "fig = make_subplots(rows=1, cols=3, specs=[[{'type':'domain'}, {'type':'domain'}, {'type':'domain'}]], \n",
        "                    subplot_titles=[F\" Status 0: No tomó préstamo <br><sup> Total:{df[df['STATUS'] == 0].shape[0]}</sup>\", \n",
        "                                    F\" Status 1: Buenos pagadores <br><sup> Total:{df[df['STATUS'] == 1].shape[0]}</sup>\", \n",
        "                                    F\" Status 2: Malos pagadores <br><sup> Total:{df[df['STATUS'] == 2].shape[0]}</sup>\"])\n",
        "\n",
        "fig.add_trace(go.Pie(labels=Empleos_status0.index, values = Empleos_status0['ID']), row=1, col=1)\n",
        "fig.add_trace(go.Pie(labels=Empleos_status1.index, values = Empleos_status1['ID']), row=1, col=2)\n",
        "fig.add_trace(go.Pie(labels=Empleos_status2.index, values = Empleos_status2['ID']), row=1, col=3)\n",
        "fig.update_traces(marker=dict(colors=['#4F6272', '#B7C3F3', '#DD7596', '#8EB897', '#F3FF00']))\n",
        "fig.show()"
      ]
    },
    {
      "cell_type": "code",
      "execution_count": null,
      "metadata": {
        "ExecuteTime": {
          "end_time": "2022-11-22T00:32:44.324939Z",
          "start_time": "2022-11-22T00:32:44.099460Z"
        },
        "execution": {
          "iopub.execute_input": "2022-11-07T23:52:59.466057Z",
          "iopub.status.busy": "2022-11-07T23:52:59.466057Z",
          "iopub.status.idle": "2022-11-07T23:52:59.641556Z",
          "shell.execute_reply": "2022-11-07T23:52:59.641556Z",
          "shell.execute_reply.started": "2022-11-07T23:52:59.466057Z"
        },
        "id": "foVOFYy5ATBd",
        "tags": [],
        "colab": {
          "base_uri": "https://localhost:8080/"
        },
        "outputId": "953fa4bb-6e51-47a1-df62-007e52fa59ad"
      },
      "outputs": [
        {
          "output_type": "stream",
          "name": "stdout",
          "text": [
            "Working: 0.0027660361922200363 %\n",
            "Student: 0.0 %\n",
            "State servant: 0.002119891649982334 %\n",
            "Pensioner: 0.004781214065242389 %\n",
            "Commercial associate: 0.004828053532102321 %\n"
          ]
        }
      ],
      "source": [
        "print('Working:',df.query('NAME_INCOME_TYPE==\"Working\" & STATUS==2').shape[0] / df.query('NAME_INCOME_TYPE==\"Working\"').shape[0], '%')\n",
        "print('Student:',df.query('NAME_INCOME_TYPE==\"Student\" & STATUS==2').shape[0] / df.query('NAME_INCOME_TYPE==\"Student\"').shape[0], '%')\n",
        "print('State servant:',df.query('NAME_INCOME_TYPE==\"State servant\" & STATUS==2').shape[0] / df.query('NAME_INCOME_TYPE==\"State servant\"').shape[0], '%')\n",
        "print('Pensioner:',df.query('NAME_INCOME_TYPE==\"Pensioner\" & STATUS==2').shape[0] / df.query('NAME_INCOME_TYPE==\"Pensioner\"').shape[0], '%')\n",
        "print('Commercial associate:',df.query('NAME_INCOME_TYPE==\"Commercial associate\" & STATUS==2').shape[0] / df.query('NAME_INCOME_TYPE==\"Commercial associate\"').shape[0], '%')"
      ]
    },
    {
      "cell_type": "markdown",
      "metadata": {
        "id": "PUQmpESwNj9x"
      },
      "source": [
        "## Insights obtenidos:\n",
        "\n",
        "* A medida que la categoria de status va creciendo se observa que los **commercial associate** van aumentando su participación dentro de la categoría de status. Es decir, que a medida que hay mayor demora en los pagos, mayor es la participación de los commercial associate (Aunque el aumento no es muy grande).\n",
        "\n",
        "* Mientras que observamos que los **state servants** y **working**, van disminuyendo su participación al aumentar la categoría de status\n",
        "\n",
        "\n",
        "* **Pensioner** : observamos que los pensioner tienen una mayor ponderación en las categoría 2.\n",
        "\n",
        "**Conclusión:** rechazamos nuestra hipótesis inicial. Se observa que hay una mayor cantidad de commercial associate en la categoria malos pagadores.\n",
        "Podemos observar tambien que, las personas pensionadas y los commercial associates representan una mayoria proporcional de malos pagadores; esta inferencia no esta relacionada con el ingreso como podemos observar, ya que los commercial associate son los que mayor ingreso tienen y aun asi, representan una proporcion mayoritaria entre los malos pagadores."
      ]
    },
    {
      "cell_type": "markdown",
      "metadata": {
        "id": "gXd2Rk6h9Uwa"
      },
      "source": [
        "---\n",
        "## **Hipótesis 2:**\n",
        "Las personas con menor grado de educación alcanzado son aquellas que mas demoran en pagar."
      ]
    },
    {
      "cell_type": "code",
      "execution_count": null,
      "metadata": {
        "ExecuteTime": {
          "end_time": "2022-11-22T00:32:44.375037Z",
          "start_time": "2022-11-22T00:32:44.324939Z"
        },
        "execution": {
          "iopub.execute_input": "2022-11-07T23:52:59.642558Z",
          "iopub.status.busy": "2022-11-07T23:52:59.641556Z",
          "iopub.status.idle": "2022-11-07T23:52:59.681846Z",
          "shell.execute_reply": "2022-11-07T23:52:59.681846Z",
          "shell.execute_reply.started": "2022-11-07T23:52:59.642558Z"
        },
        "id": "-JqYpTiy8pa1",
        "tags": [],
        "colab": {
          "base_uri": "https://localhost:8080/"
        },
        "outputId": "31a2ac72-179b-46b7-d61d-214b5f0f1d75"
      },
      "outputs": [
        {
          "output_type": "stream",
          "name": "stdout",
          "text": [
            "['Higher education' 'Secondary / secondary special' 'Incomplete higher'\n",
            " 'Lower secondary' 'Academic degree']\n"
          ]
        }
      ],
      "source": [
        "print(df['NAME_EDUCATION_TYPE'].unique())"
      ]
    },
    {
      "cell_type": "markdown",
      "metadata": {
        "id": "aFrr2EHMATBe"
      },
      "source": [
        "Generamos 3 datasets haciendo una agrupacion por nivel de educacion para cada nivel de status."
      ]
    },
    {
      "cell_type": "code",
      "execution_count": null,
      "metadata": {
        "ExecuteTime": {
          "end_time": "2022-11-22T00:32:44.557087Z",
          "start_time": "2022-11-22T00:32:44.376037Z"
        },
        "execution": {
          "iopub.execute_input": "2022-11-07T23:52:59.682846Z",
          "iopub.status.busy": "2022-11-07T23:52:59.681846Z",
          "iopub.status.idle": "2022-11-07T23:52:59.800574Z",
          "shell.execute_reply": "2022-11-07T23:52:59.800574Z",
          "shell.execute_reply.started": "2022-11-07T23:52:59.682846Z"
        },
        "id": "9azsG9MY9BME",
        "colab": {
          "base_uri": "https://localhost:8080/",
          "height": 237
        },
        "outputId": "b8f28ec1-9ee9-4d74-96b1-1bfdae364604"
      },
      "outputs": [
        {
          "output_type": "execute_result",
          "data": {
            "text/plain": [
              "                                  ID\n",
              "NAME_EDUCATION_TYPE                 \n",
              "Academic degree                   13\n",
              "Higher education                5484\n",
              "Incomplete higher                668\n",
              "Lower secondary                  184\n",
              "Secondary / secondary special  12259"
            ],
            "text/html": [
              "\n",
              "  <div id=\"df-5ffd9b0c-e4ca-4206-9e69-720b377ea8be\">\n",
              "    <div class=\"colab-df-container\">\n",
              "      <div>\n",
              "<style scoped>\n",
              "    .dataframe tbody tr th:only-of-type {\n",
              "        vertical-align: middle;\n",
              "    }\n",
              "\n",
              "    .dataframe tbody tr th {\n",
              "        vertical-align: top;\n",
              "    }\n",
              "\n",
              "    .dataframe thead th {\n",
              "        text-align: right;\n",
              "    }\n",
              "</style>\n",
              "<table border=\"1\" class=\"dataframe\">\n",
              "  <thead>\n",
              "    <tr style=\"text-align: right;\">\n",
              "      <th></th>\n",
              "      <th>ID</th>\n",
              "    </tr>\n",
              "    <tr>\n",
              "      <th>NAME_EDUCATION_TYPE</th>\n",
              "      <th></th>\n",
              "    </tr>\n",
              "  </thead>\n",
              "  <tbody>\n",
              "    <tr>\n",
              "      <th>Academic degree</th>\n",
              "      <td>13</td>\n",
              "    </tr>\n",
              "    <tr>\n",
              "      <th>Higher education</th>\n",
              "      <td>5484</td>\n",
              "    </tr>\n",
              "    <tr>\n",
              "      <th>Incomplete higher</th>\n",
              "      <td>668</td>\n",
              "    </tr>\n",
              "    <tr>\n",
              "      <th>Lower secondary</th>\n",
              "      <td>184</td>\n",
              "    </tr>\n",
              "    <tr>\n",
              "      <th>Secondary / secondary special</th>\n",
              "      <td>12259</td>\n",
              "    </tr>\n",
              "  </tbody>\n",
              "</table>\n",
              "</div>\n",
              "      <button class=\"colab-df-convert\" onclick=\"convertToInteractive('df-5ffd9b0c-e4ca-4206-9e69-720b377ea8be')\"\n",
              "              title=\"Convert this dataframe to an interactive table.\"\n",
              "              style=\"display:none;\">\n",
              "        \n",
              "  <svg xmlns=\"http://www.w3.org/2000/svg\" height=\"24px\"viewBox=\"0 0 24 24\"\n",
              "       width=\"24px\">\n",
              "    <path d=\"M0 0h24v24H0V0z\" fill=\"none\"/>\n",
              "    <path d=\"M18.56 5.44l.94 2.06.94-2.06 2.06-.94-2.06-.94-.94-2.06-.94 2.06-2.06.94zm-11 1L8.5 8.5l.94-2.06 2.06-.94-2.06-.94L8.5 2.5l-.94 2.06-2.06.94zm10 10l.94 2.06.94-2.06 2.06-.94-2.06-.94-.94-2.06-.94 2.06-2.06.94z\"/><path d=\"M17.41 7.96l-1.37-1.37c-.4-.4-.92-.59-1.43-.59-.52 0-1.04.2-1.43.59L10.3 9.45l-7.72 7.72c-.78.78-.78 2.05 0 2.83L4 21.41c.39.39.9.59 1.41.59.51 0 1.02-.2 1.41-.59l7.78-7.78 2.81-2.81c.8-.78.8-2.07 0-2.86zM5.41 20L4 18.59l7.72-7.72 1.47 1.35L5.41 20z\"/>\n",
              "  </svg>\n",
              "      </button>\n",
              "      \n",
              "  <style>\n",
              "    .colab-df-container {\n",
              "      display:flex;\n",
              "      flex-wrap:wrap;\n",
              "      gap: 12px;\n",
              "    }\n",
              "\n",
              "    .colab-df-convert {\n",
              "      background-color: #E8F0FE;\n",
              "      border: none;\n",
              "      border-radius: 50%;\n",
              "      cursor: pointer;\n",
              "      display: none;\n",
              "      fill: #1967D2;\n",
              "      height: 32px;\n",
              "      padding: 0 0 0 0;\n",
              "      width: 32px;\n",
              "    }\n",
              "\n",
              "    .colab-df-convert:hover {\n",
              "      background-color: #E2EBFA;\n",
              "      box-shadow: 0px 1px 2px rgba(60, 64, 67, 0.3), 0px 1px 3px 1px rgba(60, 64, 67, 0.15);\n",
              "      fill: #174EA6;\n",
              "    }\n",
              "\n",
              "    [theme=dark] .colab-df-convert {\n",
              "      background-color: #3B4455;\n",
              "      fill: #D2E3FC;\n",
              "    }\n",
              "\n",
              "    [theme=dark] .colab-df-convert:hover {\n",
              "      background-color: #434B5C;\n",
              "      box-shadow: 0px 1px 3px 1px rgba(0, 0, 0, 0.15);\n",
              "      filter: drop-shadow(0px 1px 2px rgba(0, 0, 0, 0.3));\n",
              "      fill: #FFFFFF;\n",
              "    }\n",
              "  </style>\n",
              "\n",
              "      <script>\n",
              "        const buttonEl =\n",
              "          document.querySelector('#df-5ffd9b0c-e4ca-4206-9e69-720b377ea8be button.colab-df-convert');\n",
              "        buttonEl.style.display =\n",
              "          google.colab.kernel.accessAllowed ? 'block' : 'none';\n",
              "\n",
              "        async function convertToInteractive(key) {\n",
              "          const element = document.querySelector('#df-5ffd9b0c-e4ca-4206-9e69-720b377ea8be');\n",
              "          const dataTable =\n",
              "            await google.colab.kernel.invokeFunction('convertToInteractive',\n",
              "                                                     [key], {});\n",
              "          if (!dataTable) return;\n",
              "\n",
              "          const docLinkHtml = 'Like what you see? Visit the ' +\n",
              "            '<a target=\"_blank\" href=https://colab.research.google.com/notebooks/data_table.ipynb>data table notebook</a>'\n",
              "            + ' to learn more about interactive tables.';\n",
              "          element.innerHTML = '';\n",
              "          dataTable['output_type'] = 'display_data';\n",
              "          await google.colab.output.renderOutput(dataTable, element);\n",
              "          const docLink = document.createElement('div');\n",
              "          docLink.innerHTML = docLinkHtml;\n",
              "          element.appendChild(docLink);\n",
              "        }\n",
              "      </script>\n",
              "    </div>\n",
              "  </div>\n",
              "  "
            ]
          },
          "metadata": {},
          "execution_count": 47
        }
      ],
      "source": [
        "Educación_status0 = df[df['STATUS']==0][['NAME_EDUCATION_TYPE','ID']].groupby(by='NAME_EDUCATION_TYPE').count()\n",
        "Educación_status1 = df[df['STATUS']==1][['NAME_EDUCATION_TYPE','ID']].groupby(by='NAME_EDUCATION_TYPE').count()\n",
        "Educación_status2 = df[df['STATUS']==2][['NAME_EDUCATION_TYPE','ID']].groupby(by='NAME_EDUCATION_TYPE').count()\n",
        "Educación_status0"
      ]
    },
    {
      "cell_type": "markdown",
      "metadata": {
        "id": "WFK2ZgGNATBe"
      },
      "source": [
        "Vamos a realizar gráficos de torta con la intencion de mostrar que porcentaje representa cada nivel educacional para cada uno de los 'STATUS'.\n",
        "\n",
        "Si observamos que en el paso de status 1 a 2 crecen en porcentaje las categorias _secondary / secondary special_ y _lower secondary_, se cumpliria nuestra hipótesis"
      ]
    },
    {
      "cell_type": "code",
      "execution_count": null,
      "metadata": {
        "ExecuteTime": {
          "end_time": "2022-11-22T00:32:44.686134Z",
          "start_time": "2022-11-22T00:32:44.560073Z"
        },
        "execution": {
          "iopub.execute_input": "2022-11-07T23:52:59.800574Z",
          "iopub.status.busy": "2022-11-07T23:52:59.800574Z",
          "iopub.status.idle": "2022-11-07T23:52:59.874686Z",
          "shell.execute_reply": "2022-11-07T23:52:59.874686Z",
          "shell.execute_reply.started": "2022-11-07T23:52:59.800574Z"
        },
        "id": "ByeFJJL5ATBe",
        "tags": [],
        "colab": {
          "base_uri": "https://localhost:8080/",
          "height": 542
        },
        "outputId": "48696324-a111-496f-b7fb-27d14a8cded8"
      },
      "outputs": [
        {
          "output_type": "display_data",
          "data": {
            "text/html": [
              "<html>\n",
              "<head><meta charset=\"utf-8\" /></head>\n",
              "<body>\n",
              "    <div>            <script src=\"https://cdnjs.cloudflare.com/ajax/libs/mathjax/2.7.5/MathJax.js?config=TeX-AMS-MML_SVG\"></script><script type=\"text/javascript\">if (window.MathJax) {MathJax.Hub.Config({SVG: {font: \"STIX-Web\"}});}</script>                <script type=\"text/javascript\">window.PlotlyConfig = {MathJaxConfig: 'local'};</script>\n",
              "        <script src=\"https://cdn.plot.ly/plotly-2.8.3.min.js\"></script>                <div id=\"18691b60-0fb1-494e-a8cc-5bc7432153a4\" class=\"plotly-graph-div\" style=\"height:525px; width:100%;\"></div>            <script type=\"text/javascript\">                                    window.PLOTLYENV=window.PLOTLYENV || {};                                    if (document.getElementById(\"18691b60-0fb1-494e-a8cc-5bc7432153a4\")) {                    Plotly.newPlot(                        \"18691b60-0fb1-494e-a8cc-5bc7432153a4\",                        [{\"labels\":[\"Academic degree\",\"Higher education\",\"Incomplete higher\",\"Lower secondary\",\"Secondary / secondary special\"],\"values\":[13,5484,668,184,12259],\"type\":\"pie\",\"domain\":{\"x\":[0.0,0.2888888888888889],\"y\":[0.0,1.0]},\"marker\":{\"colors\":[\"#4F6272\",\"#B7C3F3\",\"#DD7596\",\"#8EB897\",\"#F3FF00\"]}},{\"labels\":[\"Academic degree\",\"Higher education\",\"Incomplete higher\",\"Lower secondary\",\"Secondary / secondary special\"],\"values\":[80,21782,3259,885,55033],\"type\":\"pie\",\"domain\":{\"x\":[0.35555555555555557,0.6444444444444445],\"y\":[0.0,1.0]},\"marker\":{\"colors\":[\"#4F6272\",\"#B7C3F3\",\"#DD7596\",\"#8EB897\",\"#F3FF00\"]}},{\"labels\":[\"Higher education\",\"Incomplete higher\",\"Lower secondary\",\"Secondary / secondary special\"],\"values\":[132,14,11,196],\"type\":\"pie\",\"domain\":{\"x\":[0.7111111111111111,1.0],\"y\":[0.0,1.0]},\"marker\":{\"colors\":[\"#4F6272\",\"#B7C3F3\",\"#DD7596\",\"#8EB897\",\"#F3FF00\"]}}],                        {\"template\":{\"data\":{\"bar\":[{\"error_x\":{\"color\":\"#2a3f5f\"},\"error_y\":{\"color\":\"#2a3f5f\"},\"marker\":{\"line\":{\"color\":\"#E5ECF6\",\"width\":0.5},\"pattern\":{\"fillmode\":\"overlay\",\"size\":10,\"solidity\":0.2}},\"type\":\"bar\"}],\"barpolar\":[{\"marker\":{\"line\":{\"color\":\"#E5ECF6\",\"width\":0.5},\"pattern\":{\"fillmode\":\"overlay\",\"size\":10,\"solidity\":0.2}},\"type\":\"barpolar\"}],\"carpet\":[{\"aaxis\":{\"endlinecolor\":\"#2a3f5f\",\"gridcolor\":\"white\",\"linecolor\":\"white\",\"minorgridcolor\":\"white\",\"startlinecolor\":\"#2a3f5f\"},\"baxis\":{\"endlinecolor\":\"#2a3f5f\",\"gridcolor\":\"white\",\"linecolor\":\"white\",\"minorgridcolor\":\"white\",\"startlinecolor\":\"#2a3f5f\"},\"type\":\"carpet\"}],\"choropleth\":[{\"colorbar\":{\"outlinewidth\":0,\"ticks\":\"\"},\"type\":\"choropleth\"}],\"contour\":[{\"colorbar\":{\"outlinewidth\":0,\"ticks\":\"\"},\"colorscale\":[[0.0,\"#0d0887\"],[0.1111111111111111,\"#46039f\"],[0.2222222222222222,\"#7201a8\"],[0.3333333333333333,\"#9c179e\"],[0.4444444444444444,\"#bd3786\"],[0.5555555555555556,\"#d8576b\"],[0.6666666666666666,\"#ed7953\"],[0.7777777777777778,\"#fb9f3a\"],[0.8888888888888888,\"#fdca26\"],[1.0,\"#f0f921\"]],\"type\":\"contour\"}],\"contourcarpet\":[{\"colorbar\":{\"outlinewidth\":0,\"ticks\":\"\"},\"type\":\"contourcarpet\"}],\"heatmap\":[{\"colorbar\":{\"outlinewidth\":0,\"ticks\":\"\"},\"colorscale\":[[0.0,\"#0d0887\"],[0.1111111111111111,\"#46039f\"],[0.2222222222222222,\"#7201a8\"],[0.3333333333333333,\"#9c179e\"],[0.4444444444444444,\"#bd3786\"],[0.5555555555555556,\"#d8576b\"],[0.6666666666666666,\"#ed7953\"],[0.7777777777777778,\"#fb9f3a\"],[0.8888888888888888,\"#fdca26\"],[1.0,\"#f0f921\"]],\"type\":\"heatmap\"}],\"heatmapgl\":[{\"colorbar\":{\"outlinewidth\":0,\"ticks\":\"\"},\"colorscale\":[[0.0,\"#0d0887\"],[0.1111111111111111,\"#46039f\"],[0.2222222222222222,\"#7201a8\"],[0.3333333333333333,\"#9c179e\"],[0.4444444444444444,\"#bd3786\"],[0.5555555555555556,\"#d8576b\"],[0.6666666666666666,\"#ed7953\"],[0.7777777777777778,\"#fb9f3a\"],[0.8888888888888888,\"#fdca26\"],[1.0,\"#f0f921\"]],\"type\":\"heatmapgl\"}],\"histogram\":[{\"marker\":{\"pattern\":{\"fillmode\":\"overlay\",\"size\":10,\"solidity\":0.2}},\"type\":\"histogram\"}],\"histogram2d\":[{\"colorbar\":{\"outlinewidth\":0,\"ticks\":\"\"},\"colorscale\":[[0.0,\"#0d0887\"],[0.1111111111111111,\"#46039f\"],[0.2222222222222222,\"#7201a8\"],[0.3333333333333333,\"#9c179e\"],[0.4444444444444444,\"#bd3786\"],[0.5555555555555556,\"#d8576b\"],[0.6666666666666666,\"#ed7953\"],[0.7777777777777778,\"#fb9f3a\"],[0.8888888888888888,\"#fdca26\"],[1.0,\"#f0f921\"]],\"type\":\"histogram2d\"}],\"histogram2dcontour\":[{\"colorbar\":{\"outlinewidth\":0,\"ticks\":\"\"},\"colorscale\":[[0.0,\"#0d0887\"],[0.1111111111111111,\"#46039f\"],[0.2222222222222222,\"#7201a8\"],[0.3333333333333333,\"#9c179e\"],[0.4444444444444444,\"#bd3786\"],[0.5555555555555556,\"#d8576b\"],[0.6666666666666666,\"#ed7953\"],[0.7777777777777778,\"#fb9f3a\"],[0.8888888888888888,\"#fdca26\"],[1.0,\"#f0f921\"]],\"type\":\"histogram2dcontour\"}],\"mesh3d\":[{\"colorbar\":{\"outlinewidth\":0,\"ticks\":\"\"},\"type\":\"mesh3d\"}],\"parcoords\":[{\"line\":{\"colorbar\":{\"outlinewidth\":0,\"ticks\":\"\"}},\"type\":\"parcoords\"}],\"pie\":[{\"automargin\":true,\"type\":\"pie\"}],\"scatter\":[{\"marker\":{\"colorbar\":{\"outlinewidth\":0,\"ticks\":\"\"}},\"type\":\"scatter\"}],\"scatter3d\":[{\"line\":{\"colorbar\":{\"outlinewidth\":0,\"ticks\":\"\"}},\"marker\":{\"colorbar\":{\"outlinewidth\":0,\"ticks\":\"\"}},\"type\":\"scatter3d\"}],\"scattercarpet\":[{\"marker\":{\"colorbar\":{\"outlinewidth\":0,\"ticks\":\"\"}},\"type\":\"scattercarpet\"}],\"scattergeo\":[{\"marker\":{\"colorbar\":{\"outlinewidth\":0,\"ticks\":\"\"}},\"type\":\"scattergeo\"}],\"scattergl\":[{\"marker\":{\"colorbar\":{\"outlinewidth\":0,\"ticks\":\"\"}},\"type\":\"scattergl\"}],\"scattermapbox\":[{\"marker\":{\"colorbar\":{\"outlinewidth\":0,\"ticks\":\"\"}},\"type\":\"scattermapbox\"}],\"scatterpolar\":[{\"marker\":{\"colorbar\":{\"outlinewidth\":0,\"ticks\":\"\"}},\"type\":\"scatterpolar\"}],\"scatterpolargl\":[{\"marker\":{\"colorbar\":{\"outlinewidth\":0,\"ticks\":\"\"}},\"type\":\"scatterpolargl\"}],\"scatterternary\":[{\"marker\":{\"colorbar\":{\"outlinewidth\":0,\"ticks\":\"\"}},\"type\":\"scatterternary\"}],\"surface\":[{\"colorbar\":{\"outlinewidth\":0,\"ticks\":\"\"},\"colorscale\":[[0.0,\"#0d0887\"],[0.1111111111111111,\"#46039f\"],[0.2222222222222222,\"#7201a8\"],[0.3333333333333333,\"#9c179e\"],[0.4444444444444444,\"#bd3786\"],[0.5555555555555556,\"#d8576b\"],[0.6666666666666666,\"#ed7953\"],[0.7777777777777778,\"#fb9f3a\"],[0.8888888888888888,\"#fdca26\"],[1.0,\"#f0f921\"]],\"type\":\"surface\"}],\"table\":[{\"cells\":{\"fill\":{\"color\":\"#EBF0F8\"},\"line\":{\"color\":\"white\"}},\"header\":{\"fill\":{\"color\":\"#C8D4E3\"},\"line\":{\"color\":\"white\"}},\"type\":\"table\"}]},\"layout\":{\"annotationdefaults\":{\"arrowcolor\":\"#2a3f5f\",\"arrowhead\":0,\"arrowwidth\":1},\"autotypenumbers\":\"strict\",\"coloraxis\":{\"colorbar\":{\"outlinewidth\":0,\"ticks\":\"\"}},\"colorscale\":{\"diverging\":[[0,\"#8e0152\"],[0.1,\"#c51b7d\"],[0.2,\"#de77ae\"],[0.3,\"#f1b6da\"],[0.4,\"#fde0ef\"],[0.5,\"#f7f7f7\"],[0.6,\"#e6f5d0\"],[0.7,\"#b8e186\"],[0.8,\"#7fbc41\"],[0.9,\"#4d9221\"],[1,\"#276419\"]],\"sequential\":[[0.0,\"#0d0887\"],[0.1111111111111111,\"#46039f\"],[0.2222222222222222,\"#7201a8\"],[0.3333333333333333,\"#9c179e\"],[0.4444444444444444,\"#bd3786\"],[0.5555555555555556,\"#d8576b\"],[0.6666666666666666,\"#ed7953\"],[0.7777777777777778,\"#fb9f3a\"],[0.8888888888888888,\"#fdca26\"],[1.0,\"#f0f921\"]],\"sequentialminus\":[[0.0,\"#0d0887\"],[0.1111111111111111,\"#46039f\"],[0.2222222222222222,\"#7201a8\"],[0.3333333333333333,\"#9c179e\"],[0.4444444444444444,\"#bd3786\"],[0.5555555555555556,\"#d8576b\"],[0.6666666666666666,\"#ed7953\"],[0.7777777777777778,\"#fb9f3a\"],[0.8888888888888888,\"#fdca26\"],[1.0,\"#f0f921\"]]},\"colorway\":[\"#636efa\",\"#EF553B\",\"#00cc96\",\"#ab63fa\",\"#FFA15A\",\"#19d3f3\",\"#FF6692\",\"#B6E880\",\"#FF97FF\",\"#FECB52\"],\"font\":{\"color\":\"#2a3f5f\"},\"geo\":{\"bgcolor\":\"white\",\"lakecolor\":\"white\",\"landcolor\":\"#E5ECF6\",\"showlakes\":true,\"showland\":true,\"subunitcolor\":\"white\"},\"hoverlabel\":{\"align\":\"left\"},\"hovermode\":\"closest\",\"mapbox\":{\"style\":\"light\"},\"paper_bgcolor\":\"white\",\"plot_bgcolor\":\"#E5ECF6\",\"polar\":{\"angularaxis\":{\"gridcolor\":\"white\",\"linecolor\":\"white\",\"ticks\":\"\"},\"bgcolor\":\"#E5ECF6\",\"radialaxis\":{\"gridcolor\":\"white\",\"linecolor\":\"white\",\"ticks\":\"\"}},\"scene\":{\"xaxis\":{\"backgroundcolor\":\"#E5ECF6\",\"gridcolor\":\"white\",\"gridwidth\":2,\"linecolor\":\"white\",\"showbackground\":true,\"ticks\":\"\",\"zerolinecolor\":\"white\"},\"yaxis\":{\"backgroundcolor\":\"#E5ECF6\",\"gridcolor\":\"white\",\"gridwidth\":2,\"linecolor\":\"white\",\"showbackground\":true,\"ticks\":\"\",\"zerolinecolor\":\"white\"},\"zaxis\":{\"backgroundcolor\":\"#E5ECF6\",\"gridcolor\":\"white\",\"gridwidth\":2,\"linecolor\":\"white\",\"showbackground\":true,\"ticks\":\"\",\"zerolinecolor\":\"white\"}},\"shapedefaults\":{\"line\":{\"color\":\"#2a3f5f\"}},\"ternary\":{\"aaxis\":{\"gridcolor\":\"white\",\"linecolor\":\"white\",\"ticks\":\"\"},\"baxis\":{\"gridcolor\":\"white\",\"linecolor\":\"white\",\"ticks\":\"\"},\"bgcolor\":\"#E5ECF6\",\"caxis\":{\"gridcolor\":\"white\",\"linecolor\":\"white\",\"ticks\":\"\"}},\"title\":{\"x\":0.05},\"xaxis\":{\"automargin\":true,\"gridcolor\":\"white\",\"linecolor\":\"white\",\"ticks\":\"\",\"title\":{\"standoff\":15},\"zerolinecolor\":\"white\",\"zerolinewidth\":2},\"yaxis\":{\"automargin\":true,\"gridcolor\":\"white\",\"linecolor\":\"white\",\"ticks\":\"\",\"title\":{\"standoff\":15},\"zerolinecolor\":\"white\",\"zerolinewidth\":2}}},\"annotations\":[{\"font\":{\"size\":16},\"showarrow\":false,\"text\":\" Status 0: No tom\\u00f3 pr\\u00e9stamo <br><sup> Total:18608</sup>\",\"x\":0.14444444444444446,\"xanchor\":\"center\",\"xref\":\"paper\",\"y\":1.0,\"yanchor\":\"bottom\",\"yref\":\"paper\"},{\"font\":{\"size\":16},\"showarrow\":false,\"text\":\" Status 1: Buenos pagadores <br><sup> Total:81039</sup>\",\"x\":0.5,\"xanchor\":\"center\",\"xref\":\"paper\",\"y\":1.0,\"yanchor\":\"bottom\",\"yref\":\"paper\"},{\"font\":{\"size\":16},\"showarrow\":false,\"text\":\" Status 2: Malos pagadores <br><sup> Total:353</sup>\",\"x\":0.8555555555555556,\"xanchor\":\"center\",\"xref\":\"paper\",\"y\":1.0,\"yanchor\":\"bottom\",\"yref\":\"paper\"}]},                        {\"responsive\": true}                    ).then(function(){\n",
              "                            \n",
              "var gd = document.getElementById('18691b60-0fb1-494e-a8cc-5bc7432153a4');\n",
              "var x = new MutationObserver(function (mutations, observer) {{\n",
              "        var display = window.getComputedStyle(gd).display;\n",
              "        if (!display || display === 'none') {{\n",
              "            console.log([gd, 'removed!']);\n",
              "            Plotly.purge(gd);\n",
              "            observer.disconnect();\n",
              "        }}\n",
              "}});\n",
              "\n",
              "// Listen for the removal of the full notebook cells\n",
              "var notebookContainer = gd.closest('#notebook-container');\n",
              "if (notebookContainer) {{\n",
              "    x.observe(notebookContainer, {childList: true});\n",
              "}}\n",
              "\n",
              "// Listen for the clearing of the current output cell\n",
              "var outputEl = gd.closest('.output');\n",
              "if (outputEl) {{\n",
              "    x.observe(outputEl, {childList: true});\n",
              "}}\n",
              "\n",
              "                        })                };                            </script>        </div>\n",
              "</body>\n",
              "</html>"
            ]
          },
          "metadata": {}
        }
      ],
      "source": [
        "fig = make_subplots(rows=1, cols=3, specs=[[{'type':'domain'}, {'type':'domain'}, {'type':'domain'}]],\n",
        "                    subplot_titles=[F\" Status 0: No tomó préstamo <br><sup> Total:{df[df['STATUS'] == 0].shape[0]}</sup>\", \n",
        "                                    F\" Status 1: Buenos pagadores <br><sup> Total:{df[df['STATUS'] == 1].shape[0]}</sup>\", \n",
        "                                    F\" Status 2: Malos pagadores <br><sup> Total:{df[df['STATUS'] == 2].shape[0]}</sup>\"])\n",
        "\n",
        "fig.add_trace(go.Pie(labels=Educación_status0.index, values = Educación_status0['ID']), row=1, col=1)              \n",
        "fig.add_trace(go.Pie(labels=Educación_status1.index, values = Educación_status1['ID']), row=1, col=2)\n",
        "fig.add_trace(go.Pie(labels=Educación_status2.index, values = Educación_status2['ID']), row=1, col=3)\n",
        "\n",
        "fig.update_traces(marker=dict(colors=['#4F6272', '#B7C3F3', '#DD7596', '#8EB897', '#F3FF00']))\n",
        "\n",
        "\n",
        "fig.show()"
      ]
    },
    {
      "cell_type": "markdown",
      "metadata": {
        "execution": {
          "iopub.execute_input": "2022-10-25T00:19:56.660996Z",
          "iopub.status.busy": "2022-10-25T00:19:56.660996Z",
          "iopub.status.idle": "2022-10-25T00:19:56.664997Z",
          "shell.execute_reply": "2022-10-25T00:19:56.664997Z",
          "shell.execute_reply.started": "2022-10-25T00:19:56.660996Z"
        },
        "id": "VssikwsdATBe",
        "tags": []
      },
      "source": [
        "A continuación se realizará un histograma para cada nivel de educación acerca de la participacion de cada STATUS en el mismo."
      ]
    },
    {
      "cell_type": "code",
      "execution_count": null,
      "metadata": {
        "ExecuteTime": {
          "end_time": "2022-11-22T00:32:46.631913Z",
          "start_time": "2022-11-22T00:32:44.687135Z"
        },
        "execution": {
          "iopub.execute_input": "2022-11-07T23:52:59.874686Z",
          "iopub.status.busy": "2022-11-07T23:52:59.874686Z",
          "iopub.status.idle": "2022-11-07T23:53:01.249391Z",
          "shell.execute_reply": "2022-11-07T23:53:01.249391Z",
          "shell.execute_reply.started": "2022-11-07T23:52:59.874686Z"
        },
        "id": "I59AongsBL7x",
        "tags": [],
        "colab": {
          "base_uri": "https://localhost:8080/",
          "height": 729
        },
        "outputId": "5ed47e7c-995c-4d57-d4fe-e9206feb65f0"
      },
      "outputs": [
        {
          "output_type": "display_data",
          "data": {
            "text/plain": [
              "<Figure size 1268.25x720 with 5 Axes>"
            ],
            "image/png": "[encoded data removed]"
          },
          "metadata": {
            "needs_background": "light"
          }
        }
      ],
      "source": [
        "sns.displot(data=df, x=\"STATUS\", hue=\"NAME_EDUCATION_TYPE\", multiple=\"stack\", col=\"NAME_EDUCATION_TYPE\", col_wrap=3, bins=3);"
      ]
    },
    {
      "cell_type": "markdown",
      "metadata": {
        "execution": {
          "iopub.execute_input": "2022-10-25T00:22:55.904870Z",
          "iopub.status.busy": "2022-10-25T00:22:55.904870Z",
          "iopub.status.idle": "2022-10-25T00:22:55.908327Z",
          "shell.execute_reply": "2022-10-25T00:22:55.908327Z",
          "shell.execute_reply.started": "2022-10-25T00:22:55.904870Z"
        },
        "id": "uGtFlr-EATBf",
        "tags": []
      },
      "source": [
        "A continuación se calculará el ratio de _Malos pagadores_ para cada nivel de educación.\n",
        "<br>\n",
        "Esto nos permite ver con mas claridad lo ya visto en los histogramas.\n",
        "<br>\n",
        "En los histogramas se puede visualizar el poco peso que presenta el _STATUS 2_, por lo cual no se aprecia la participación de el en cada clase de educación. Mientras que con los ratios esta participación se puede apreciar mejor."
      ]
    },
    {
      "cell_type": "code",
      "execution_count": null,
      "metadata": {
        "ExecuteTime": {
          "end_time": "2022-11-22T00:32:46.856069Z",
          "start_time": "2022-11-22T00:32:46.631913Z"
        },
        "execution": {
          "iopub.execute_input": "2022-11-07T23:53:01.250391Z",
          "iopub.status.busy": "2022-11-07T23:53:01.249391Z",
          "iopub.status.idle": "2022-11-07T23:53:01.433733Z",
          "shell.execute_reply": "2022-11-07T23:53:01.433733Z",
          "shell.execute_reply.started": "2022-11-07T23:53:01.250391Z"
        },
        "id": "cydAlCdTATBf",
        "tags": [],
        "colab": {
          "base_uri": "https://localhost:8080/"
        },
        "outputId": "e903d86b-8cc7-4498-d4f9-a8f05a46185b"
      },
      "outputs": [
        {
          "output_type": "stream",
          "name": "stdout",
          "text": [
            "Higher education: 0.4817869917512227 %\n",
            "Secondary / secondary special: 0.2904220009483167 %\n",
            "Incomplete higher: 0.3552397868561279 %\n",
            "Lower secondary: 1.0185185185185186 %\n",
            "Academic degree: 0.0 %\n"
          ]
        }
      ],
      "source": [
        "print('Higher education:',df.query('NAME_EDUCATION_TYPE==\"Higher education\" & STATUS==2').shape[0] * 100 / df.query('NAME_EDUCATION_TYPE==\"Higher education\"').shape[0], '%')\n",
        "print('Secondary / secondary special:',df.query('NAME_EDUCATION_TYPE==\"Secondary / secondary special\" & STATUS==2').shape[0] * 100 / df.query('NAME_EDUCATION_TYPE==\"Secondary / secondary special\"').shape[0], '%')\n",
        "print('Incomplete higher:',df.query('NAME_EDUCATION_TYPE==\"Incomplete higher\" & STATUS==2').shape[0] * 100 / df.query('NAME_EDUCATION_TYPE==\"Incomplete higher\"').shape[0], '%')\n",
        "print('Lower secondary:',df.query('NAME_EDUCATION_TYPE==\"Lower secondary\" & STATUS==2').shape[0] * 100 / df.query('NAME_EDUCATION_TYPE==\"Lower secondary\"').shape[0], '%')\n",
        "print('Academic degree:',df.query('NAME_EDUCATION_TYPE==\"Academic degree\" & STATUS==2').shape[0] * 100 / df.query('NAME_EDUCATION_TYPE==\"Academic degree\"').shape[0], '%')"
      ]
    },
    {
      "cell_type": "markdown",
      "metadata": {
        "id": "bpBhoSVXFPR1"
      },
      "source": [
        "## Insights obtenidos:\n",
        "\n",
        "1. Observamos que para cada nivel de status, la distribución de las personas en función de su nivel educativo, es muy similar en todos los niveles. \n",
        "2. Se puede observar un incremento porcentual en categoria 'Higher education', y un decremento en la categoria 'Secondary / Secondary special'\n",
        "3. Además, observamos que porcentualmente, la categoria con mayor cantidad de malos pagadores es 'Lower secondary', aunque con resultados no contundentes\n",
        "4. En resúmen, si bien se observa un aumento porcentual de _lower secondary_ dentro de _Malos pagadores_, su participacion es pequeña. En contraposición se observa un aumento significativo de _Higher education_ dentro de _Malos pagadores_. \n",
        "\n",
        "**Conclusión:** Rechazamos la hipótesis 2"
      ]
    },
    {
      "cell_type": "markdown",
      "metadata": {
        "id": "IVbP7LoFITf_"
      },
      "source": [
        "## **Hipótesis 3**:\n",
        "Queremos demostrar que aquellas personas solas (viudos, separados, solteros), tienen una mejor conducta crediticia."
      ]
    },
    {
      "cell_type": "code",
      "execution_count": null,
      "metadata": {
        "ExecuteTime": {
          "end_time": "2022-11-22T00:32:46.893754Z",
          "start_time": "2022-11-22T00:32:46.858068Z"
        },
        "execution": {
          "iopub.execute_input": "2022-11-07T23:53:01.434732Z",
          "iopub.status.busy": "2022-11-07T23:53:01.434732Z",
          "iopub.status.idle": "2022-11-07T23:53:01.459166Z",
          "shell.execute_reply": "2022-11-07T23:53:01.459166Z",
          "shell.execute_reply.started": "2022-11-07T23:53:01.434732Z"
        },
        "id": "ErMWx3l9DnOy",
        "colab": {
          "base_uri": "https://localhost:8080/"
        },
        "outputId": "4949b1be-3bfe-4ccd-d762-ac2aa6e62e9b"
      },
      "outputs": [
        {
          "output_type": "execute_result",
          "data": {
            "text/plain": [
              "array(['Married', 'Single / not married', 'Widow', 'Separated',\n",
              "       'Civil marriage'], dtype=object)"
            ]
          },
          "metadata": {},
          "execution_count": 51
        }
      ],
      "source": [
        "df['NAME_FAMILY_STATUS'].unique()"
      ]
    },
    {
      "cell_type": "markdown",
      "metadata": {
        "id": "U1e7CdoiATBf"
      },
      "source": [
        "Generamos 3 datasets haciendo una agrupacion por estado civil para cada nivel de status."
      ]
    },
    {
      "cell_type": "code",
      "execution_count": null,
      "metadata": {
        "ExecuteTime": {
          "end_time": "2022-11-22T00:32:47.040474Z",
          "start_time": "2022-11-22T00:32:46.894755Z"
        },
        "execution": {
          "iopub.execute_input": "2022-11-07T23:53:01.460166Z",
          "iopub.status.busy": "2022-11-07T23:53:01.459166Z",
          "iopub.status.idle": "2022-11-07T23:53:01.561777Z",
          "shell.execute_reply": "2022-11-07T23:53:01.561777Z",
          "shell.execute_reply.started": "2022-11-07T23:53:01.460166Z"
        },
        "id": "i-xImb4HItXt"
      },
      "outputs": [],
      "source": [
        "Estadocivil_status0=df[df['STATUS']==0][['NAME_FAMILY_STATUS','ID']].groupby(by='NAME_FAMILY_STATUS').count()\n",
        "Estadocivil_status1=df[df['STATUS']==1][['NAME_FAMILY_STATUS','ID']].groupby(by='NAME_FAMILY_STATUS').count()\n",
        "Estadocivil_status2=df[df['STATUS']==2][['NAME_FAMILY_STATUS','ID']].groupby(by='NAME_FAMILY_STATUS').count()\n"
      ]
    },
    {
      "cell_type": "markdown",
      "metadata": {
        "id": "tTx1k90DATBg"
      },
      "source": [
        "A continuación se realizará un histograma para cada estado civil acerca de la participacion de cada STATUS en el mismo.\n",
        "<br>\n",
        "La idea es ver si para algun estado civil, se observa un mayor peso del STATUS 2.\n",
        "<br>\n",
        "Si vemos que dentro de _Widow_ y/o _Separated_ y/o _Single / not married_, el peso de _STATUS 2_ es proporcionalmente menor a la de los demás estados civiles, se comprobaria nuestra hipótesis 3."
      ]
    },
    {
      "cell_type": "code",
      "execution_count": null,
      "metadata": {
        "ExecuteTime": {
          "end_time": "2022-11-22T00:32:48.733863Z",
          "start_time": "2022-11-22T00:32:47.041475Z"
        },
        "execution": {
          "iopub.execute_input": "2022-11-07T23:53:01.561777Z",
          "iopub.status.busy": "2022-11-07T23:53:01.561777Z",
          "iopub.status.idle": "2022-11-07T23:53:02.697808Z",
          "shell.execute_reply": "2022-11-07T23:53:02.697808Z",
          "shell.execute_reply.started": "2022-11-07T23:53:01.561777Z"
        },
        "id": "alrx3ctDQag6",
        "colab": {
          "base_uri": "https://localhost:8080/",
          "height": 729
        },
        "outputId": "ba8e842e-c75e-4c83-b9b2-76c71ffa80a8"
      },
      "outputs": [
        {
          "output_type": "display_data",
          "data": {
            "text/plain": [
              "<Figure size 1215.12x720 with 5 Axes>"
            ],
            "image/png": "[encoded data removed]"
          },
          "metadata": {
            "needs_background": "light"
          }
        }
      ],
      "source": [
        "sns.displot(data=df, x=\"STATUS\", hue=\"NAME_FAMILY_STATUS\", multiple=\"stack\", col=\"NAME_FAMILY_STATUS\", col_wrap=3, bins=3);"
      ]
    },
    {
      "cell_type": "markdown",
      "metadata": {
        "id": "HSKS0CUMATBg"
      },
      "source": [
        "Vamos a realizar gráficos de torta con la intencion de mostrar que porcentaje representa cada estado civil para cada uno de los 'STATUS'.\n",
        "<br>\n",
        "Si observamos que en el paso de status 1 a 2 crecen en porcentaje las categorias Widow y/o Separated y/o Single / not married, se cumpliria nuestra hipótesis"
      ]
    },
    {
      "cell_type": "code",
      "execution_count": null,
      "metadata": {
        "ExecuteTime": {
          "end_time": "2022-11-22T00:32:48.834027Z",
          "start_time": "2022-11-22T00:32:48.734864Z"
        },
        "execution": {
          "iopub.execute_input": "2022-11-07T23:53:02.698314Z",
          "iopub.status.busy": "2022-11-07T23:53:02.698314Z",
          "iopub.status.idle": "2022-11-07T23:53:02.773187Z",
          "shell.execute_reply": "2022-11-07T23:53:02.773187Z",
          "shell.execute_reply.started": "2022-11-07T23:53:02.698314Z"
        },
        "id": "YMWNpqOfrQH4",
        "colab": {
          "base_uri": "https://localhost:8080/",
          "height": 542
        },
        "outputId": "880d296b-ab3f-46ac-b702-9f646697c986"
      },
      "outputs": [
        {
          "output_type": "display_data",
          "data": {
            "text/html": [
              "<html>\n",
              "<head><meta charset=\"utf-8\" /></head>\n",
              "<body>\n",
              "    <div>            <script src=\"https://cdnjs.cloudflare.com/ajax/libs/mathjax/2.7.5/MathJax.js?config=TeX-AMS-MML_SVG\"></script><script type=\"text/javascript\">if (window.MathJax) {MathJax.Hub.Config({SVG: {font: \"STIX-Web\"}});}</script>                <script type=\"text/javascript\">window.PlotlyConfig = {MathJaxConfig: 'local'};</script>\n",
              "        <script src=\"https://cdn.plot.ly/plotly-2.8.3.min.js\"></script>                <div id=\"6aba0ede-7204-4d28-9c64-79b76705ed69\" class=\"plotly-graph-div\" style=\"height:525px; width:100%;\"></div>            <script type=\"text/javascript\">                                    window.PLOTLYENV=window.PLOTLYENV || {};                                    if (document.getElementById(\"6aba0ede-7204-4d28-9c64-79b76705ed69\")) {                    Plotly.newPlot(                        \"6aba0ede-7204-4d28-9c64-79b76705ed69\",                        [{\"labels\":[\"Civil marriage\",\"Married\",\"Separated\",\"Single / not married\",\"Widow\"],\"values\":[1482,13081,1162,2095,788],\"type\":\"pie\",\"domain\":{\"x\":[0.0,0.2888888888888889],\"y\":[0.0,1.0]},\"marker\":{\"colors\":[\"#4F6272\",\"#B7C3F3\",\"#DD7596\",\"#8EB897\",\"#F3FF00\"]}},{\"labels\":[\"Civil marriage\",\"Married\",\"Separated\",\"Single / not married\",\"Widow\"],\"values\":[6176,57103,4505,10123,3132],\"type\":\"pie\",\"domain\":{\"x\":[0.35555555555555557,0.6444444444444445],\"y\":[0.0,1.0]},\"marker\":{\"colors\":[\"#4F6272\",\"#B7C3F3\",\"#DD7596\",\"#8EB897\",\"#F3FF00\"]}},{\"labels\":[\"Civil marriage\",\"Married\",\"Separated\",\"Single / not married\",\"Widow\"],\"values\":[12,241,25,57,18],\"type\":\"pie\",\"domain\":{\"x\":[0.7111111111111111,1.0],\"y\":[0.0,1.0]},\"marker\":{\"colors\":[\"#4F6272\",\"#B7C3F3\",\"#DD7596\",\"#8EB897\",\"#F3FF00\"]}}],                        {\"template\":{\"data\":{\"bar\":[{\"error_x\":{\"color\":\"#2a3f5f\"},\"error_y\":{\"color\":\"#2a3f5f\"},\"marker\":{\"line\":{\"color\":\"#E5ECF6\",\"width\":0.5},\"pattern\":{\"fillmode\":\"overlay\",\"size\":10,\"solidity\":0.2}},\"type\":\"bar\"}],\"barpolar\":[{\"marker\":{\"line\":{\"color\":\"#E5ECF6\",\"width\":0.5},\"pattern\":{\"fillmode\":\"overlay\",\"size\":10,\"solidity\":0.2}},\"type\":\"barpolar\"}],\"carpet\":[{\"aaxis\":{\"endlinecolor\":\"#2a3f5f\",\"gridcolor\":\"white\",\"linecolor\":\"white\",\"minorgridcolor\":\"white\",\"startlinecolor\":\"#2a3f5f\"},\"baxis\":{\"endlinecolor\":\"#2a3f5f\",\"gridcolor\":\"white\",\"linecolor\":\"white\",\"minorgridcolor\":\"white\",\"startlinecolor\":\"#2a3f5f\"},\"type\":\"carpet\"}],\"choropleth\":[{\"colorbar\":{\"outlinewidth\":0,\"ticks\":\"\"},\"type\":\"choropleth\"}],\"contour\":[{\"colorbar\":{\"outlinewidth\":0,\"ticks\":\"\"},\"colorscale\":[[0.0,\"#0d0887\"],[0.1111111111111111,\"#46039f\"],[0.2222222222222222,\"#7201a8\"],[0.3333333333333333,\"#9c179e\"],[0.4444444444444444,\"#bd3786\"],[0.5555555555555556,\"#d8576b\"],[0.6666666666666666,\"#ed7953\"],[0.7777777777777778,\"#fb9f3a\"],[0.8888888888888888,\"#fdca26\"],[1.0,\"#f0f921\"]],\"type\":\"contour\"}],\"contourcarpet\":[{\"colorbar\":{\"outlinewidth\":0,\"ticks\":\"\"},\"type\":\"contourcarpet\"}],\"heatmap\":[{\"colorbar\":{\"outlinewidth\":0,\"ticks\":\"\"},\"colorscale\":[[0.0,\"#0d0887\"],[0.1111111111111111,\"#46039f\"],[0.2222222222222222,\"#7201a8\"],[0.3333333333333333,\"#9c179e\"],[0.4444444444444444,\"#bd3786\"],[0.5555555555555556,\"#d8576b\"],[0.6666666666666666,\"#ed7953\"],[0.7777777777777778,\"#fb9f3a\"],[0.8888888888888888,\"#fdca26\"],[1.0,\"#f0f921\"]],\"type\":\"heatmap\"}],\"heatmapgl\":[{\"colorbar\":{\"outlinewidth\":0,\"ticks\":\"\"},\"colorscale\":[[0.0,\"#0d0887\"],[0.1111111111111111,\"#46039f\"],[0.2222222222222222,\"#7201a8\"],[0.3333333333333333,\"#9c179e\"],[0.4444444444444444,\"#bd3786\"],[0.5555555555555556,\"#d8576b\"],[0.6666666666666666,\"#ed7953\"],[0.7777777777777778,\"#fb9f3a\"],[0.8888888888888888,\"#fdca26\"],[1.0,\"#f0f921\"]],\"type\":\"heatmapgl\"}],\"histogram\":[{\"marker\":{\"pattern\":{\"fillmode\":\"overlay\",\"size\":10,\"solidity\":0.2}},\"type\":\"histogram\"}],\"histogram2d\":[{\"colorbar\":{\"outlinewidth\":0,\"ticks\":\"\"},\"colorscale\":[[0.0,\"#0d0887\"],[0.1111111111111111,\"#46039f\"],[0.2222222222222222,\"#7201a8\"],[0.3333333333333333,\"#9c179e\"],[0.4444444444444444,\"#bd3786\"],[0.5555555555555556,\"#d8576b\"],[0.6666666666666666,\"#ed7953\"],[0.7777777777777778,\"#fb9f3a\"],[0.8888888888888888,\"#fdca26\"],[1.0,\"#f0f921\"]],\"type\":\"histogram2d\"}],\"histogram2dcontour\":[{\"colorbar\":{\"outlinewidth\":0,\"ticks\":\"\"},\"colorscale\":[[0.0,\"#0d0887\"],[0.1111111111111111,\"#46039f\"],[0.2222222222222222,\"#7201a8\"],[0.3333333333333333,\"#9c179e\"],[0.4444444444444444,\"#bd3786\"],[0.5555555555555556,\"#d8576b\"],[0.6666666666666666,\"#ed7953\"],[0.7777777777777778,\"#fb9f3a\"],[0.8888888888888888,\"#fdca26\"],[1.0,\"#f0f921\"]],\"type\":\"histogram2dcontour\"}],\"mesh3d\":[{\"colorbar\":{\"outlinewidth\":0,\"ticks\":\"\"},\"type\":\"mesh3d\"}],\"parcoords\":[{\"line\":{\"colorbar\":{\"outlinewidth\":0,\"ticks\":\"\"}},\"type\":\"parcoords\"}],\"pie\":[{\"automargin\":true,\"type\":\"pie\"}],\"scatter\":[{\"marker\":{\"colorbar\":{\"outlinewidth\":0,\"ticks\":\"\"}},\"type\":\"scatter\"}],\"scatter3d\":[{\"line\":{\"colorbar\":{\"outlinewidth\":0,\"ticks\":\"\"}},\"marker\":{\"colorbar\":{\"outlinewidth\":0,\"ticks\":\"\"}},\"type\":\"scatter3d\"}],\"scattercarpet\":[{\"marker\":{\"colorbar\":{\"outlinewidth\":0,\"ticks\":\"\"}},\"type\":\"scattercarpet\"}],\"scattergeo\":[{\"marker\":{\"colorbar\":{\"outlinewidth\":0,\"ticks\":\"\"}},\"type\":\"scattergeo\"}],\"scattergl\":[{\"marker\":{\"colorbar\":{\"outlinewidth\":0,\"ticks\":\"\"}},\"type\":\"scattergl\"}],\"scattermapbox\":[{\"marker\":{\"colorbar\":{\"outlinewidth\":0,\"ticks\":\"\"}},\"type\":\"scattermapbox\"}],\"scatterpolar\":[{\"marker\":{\"colorbar\":{\"outlinewidth\":0,\"ticks\":\"\"}},\"type\":\"scatterpolar\"}],\"scatterpolargl\":[{\"marker\":{\"colorbar\":{\"outlinewidth\":0,\"ticks\":\"\"}},\"type\":\"scatterpolargl\"}],\"scatterternary\":[{\"marker\":{\"colorbar\":{\"outlinewidth\":0,\"ticks\":\"\"}},\"type\":\"scatterternary\"}],\"surface\":[{\"colorbar\":{\"outlinewidth\":0,\"ticks\":\"\"},\"colorscale\":[[0.0,\"#0d0887\"],[0.1111111111111111,\"#46039f\"],[0.2222222222222222,\"#7201a8\"],[0.3333333333333333,\"#9c179e\"],[0.4444444444444444,\"#bd3786\"],[0.5555555555555556,\"#d8576b\"],[0.6666666666666666,\"#ed7953\"],[0.7777777777777778,\"#fb9f3a\"],[0.8888888888888888,\"#fdca26\"],[1.0,\"#f0f921\"]],\"type\":\"surface\"}],\"table\":[{\"cells\":{\"fill\":{\"color\":\"#EBF0F8\"},\"line\":{\"color\":\"white\"}},\"header\":{\"fill\":{\"color\":\"#C8D4E3\"},\"line\":{\"color\":\"white\"}},\"type\":\"table\"}]},\"layout\":{\"annotationdefaults\":{\"arrowcolor\":\"#2a3f5f\",\"arrowhead\":0,\"arrowwidth\":1},\"autotypenumbers\":\"strict\",\"coloraxis\":{\"colorbar\":{\"outlinewidth\":0,\"ticks\":\"\"}},\"colorscale\":{\"diverging\":[[0,\"#8e0152\"],[0.1,\"#c51b7d\"],[0.2,\"#de77ae\"],[0.3,\"#f1b6da\"],[0.4,\"#fde0ef\"],[0.5,\"#f7f7f7\"],[0.6,\"#e6f5d0\"],[0.7,\"#b8e186\"],[0.8,\"#7fbc41\"],[0.9,\"#4d9221\"],[1,\"#276419\"]],\"sequential\":[[0.0,\"#0d0887\"],[0.1111111111111111,\"#46039f\"],[0.2222222222222222,\"#7201a8\"],[0.3333333333333333,\"#9c179e\"],[0.4444444444444444,\"#bd3786\"],[0.5555555555555556,\"#d8576b\"],[0.6666666666666666,\"#ed7953\"],[0.7777777777777778,\"#fb9f3a\"],[0.8888888888888888,\"#fdca26\"],[1.0,\"#f0f921\"]],\"sequentialminus\":[[0.0,\"#0d0887\"],[0.1111111111111111,\"#46039f\"],[0.2222222222222222,\"#7201a8\"],[0.3333333333333333,\"#9c179e\"],[0.4444444444444444,\"#bd3786\"],[0.5555555555555556,\"#d8576b\"],[0.6666666666666666,\"#ed7953\"],[0.7777777777777778,\"#fb9f3a\"],[0.8888888888888888,\"#fdca26\"],[1.0,\"#f0f921\"]]},\"colorway\":[\"#636efa\",\"#EF553B\",\"#00cc96\",\"#ab63fa\",\"#FFA15A\",\"#19d3f3\",\"#FF6692\",\"#B6E880\",\"#FF97FF\",\"#FECB52\"],\"font\":{\"color\":\"#2a3f5f\"},\"geo\":{\"bgcolor\":\"white\",\"lakecolor\":\"white\",\"landcolor\":\"#E5ECF6\",\"showlakes\":true,\"showland\":true,\"subunitcolor\":\"white\"},\"hoverlabel\":{\"align\":\"left\"},\"hovermode\":\"closest\",\"mapbox\":{\"style\":\"light\"},\"paper_bgcolor\":\"white\",\"plot_bgcolor\":\"#E5ECF6\",\"polar\":{\"angularaxis\":{\"gridcolor\":\"white\",\"linecolor\":\"white\",\"ticks\":\"\"},\"bgcolor\":\"#E5ECF6\",\"radialaxis\":{\"gridcolor\":\"white\",\"linecolor\":\"white\",\"ticks\":\"\"}},\"scene\":{\"xaxis\":{\"backgroundcolor\":\"#E5ECF6\",\"gridcolor\":\"white\",\"gridwidth\":2,\"linecolor\":\"white\",\"showbackground\":true,\"ticks\":\"\",\"zerolinecolor\":\"white\"},\"yaxis\":{\"backgroundcolor\":\"#E5ECF6\",\"gridcolor\":\"white\",\"gridwidth\":2,\"linecolor\":\"white\",\"showbackground\":true,\"ticks\":\"\",\"zerolinecolor\":\"white\"},\"zaxis\":{\"backgroundcolor\":\"#E5ECF6\",\"gridcolor\":\"white\",\"gridwidth\":2,\"linecolor\":\"white\",\"showbackground\":true,\"ticks\":\"\",\"zerolinecolor\":\"white\"}},\"shapedefaults\":{\"line\":{\"color\":\"#2a3f5f\"}},\"ternary\":{\"aaxis\":{\"gridcolor\":\"white\",\"linecolor\":\"white\",\"ticks\":\"\"},\"baxis\":{\"gridcolor\":\"white\",\"linecolor\":\"white\",\"ticks\":\"\"},\"bgcolor\":\"#E5ECF6\",\"caxis\":{\"gridcolor\":\"white\",\"linecolor\":\"white\",\"ticks\":\"\"}},\"title\":{\"x\":0.05},\"xaxis\":{\"automargin\":true,\"gridcolor\":\"white\",\"linecolor\":\"white\",\"ticks\":\"\",\"title\":{\"standoff\":15},\"zerolinecolor\":\"white\",\"zerolinewidth\":2},\"yaxis\":{\"automargin\":true,\"gridcolor\":\"white\",\"linecolor\":\"white\",\"ticks\":\"\",\"title\":{\"standoff\":15},\"zerolinecolor\":\"white\",\"zerolinewidth\":2}}},\"annotations\":[{\"font\":{\"size\":16},\"showarrow\":false,\"text\":\" Status 0: No tom\\u00f3 pr\\u00e9stamo <br><sup> Total:18608</sup>\",\"x\":0.14444444444444446,\"xanchor\":\"center\",\"xref\":\"paper\",\"y\":1.0,\"yanchor\":\"bottom\",\"yref\":\"paper\"},{\"font\":{\"size\":16},\"showarrow\":false,\"text\":\" Status 1: Buenos pagadores <br><sup> Total:81039</sup>\",\"x\":0.5,\"xanchor\":\"center\",\"xref\":\"paper\",\"y\":1.0,\"yanchor\":\"bottom\",\"yref\":\"paper\"},{\"font\":{\"size\":16},\"showarrow\":false,\"text\":\" Status 2: Malos pagadores <br><sup> Total:353</sup>\",\"x\":0.8555555555555556,\"xanchor\":\"center\",\"xref\":\"paper\",\"y\":1.0,\"yanchor\":\"bottom\",\"yref\":\"paper\"}]},                        {\"responsive\": true}                    ).then(function(){\n",
              "                            \n",
              "var gd = document.getElementById('6aba0ede-7204-4d28-9c64-79b76705ed69');\n",
              "var x = new MutationObserver(function (mutations, observer) {{\n",
              "        var display = window.getComputedStyle(gd).display;\n",
              "        if (!display || display === 'none') {{\n",
              "            console.log([gd, 'removed!']);\n",
              "            Plotly.purge(gd);\n",
              "            observer.disconnect();\n",
              "        }}\n",
              "}});\n",
              "\n",
              "// Listen for the removal of the full notebook cells\n",
              "var notebookContainer = gd.closest('#notebook-container');\n",
              "if (notebookContainer) {{\n",
              "    x.observe(notebookContainer, {childList: true});\n",
              "}}\n",
              "\n",
              "// Listen for the clearing of the current output cell\n",
              "var outputEl = gd.closest('.output');\n",
              "if (outputEl) {{\n",
              "    x.observe(outputEl, {childList: true});\n",
              "}}\n",
              "\n",
              "                        })                };                            </script>        </div>\n",
              "</body>\n",
              "</html>"
            ]
          },
          "metadata": {}
        }
      ],
      "source": [
        "fig = make_subplots(rows=1, cols=3, specs=[[{'type':'domain'}, {'type':'domain'}, {'type':'domain'}]],\n",
        "                    subplot_titles=[F\" Status 0: No tomó préstamo <br><sup> Total:{df[df['STATUS'] == 0].shape[0]}</sup>\", \n",
        "                                    F\" Status 1: Buenos pagadores <br><sup> Total:{df[df['STATUS'] == 1].shape[0]}</sup>\", \n",
        "                                    F\" Status 2: Malos pagadores <br><sup> Total:{df[df['STATUS'] == 2].shape[0]}</sup>\"])\n",
        "\n",
        "fig.add_trace(go.Pie(labels=Estadocivil_status0.index, values = Estadocivil_status0['ID']), row=1, col=1)              \n",
        "fig.add_trace(go.Pie(labels=Estadocivil_status1.index, values = Estadocivil_status1['ID']), row=1, col=2)\n",
        "fig.add_trace(go.Pie(labels=Estadocivil_status2.index, values = Estadocivil_status2['ID']), row=1, col=3)\n",
        "\n",
        "fig.update_traces(marker=dict(colors=['#4F6272', '#B7C3F3', '#DD7596', '#8EB897', '#F3FF00']))\n",
        "\n",
        "fig.show()"
      ]
    },
    {
      "cell_type": "code",
      "execution_count": null,
      "metadata": {
        "ExecuteTime": {
          "end_time": "2022-11-22T00:32:49.338064Z",
          "start_time": "2022-11-22T00:32:48.834027Z"
        },
        "execution": {
          "iopub.execute_input": "2022-11-07T23:53:02.773187Z",
          "iopub.status.busy": "2022-11-07T23:53:02.773187Z",
          "iopub.status.idle": "2022-11-07T23:53:02.943874Z",
          "shell.execute_reply": "2022-11-07T23:53:02.943874Z",
          "shell.execute_reply.started": "2022-11-07T23:53:02.773187Z"
        },
        "id": "LEx0f3nkATBg",
        "tags": [],
        "colab": {
          "base_uri": "https://localhost:8080/"
        },
        "outputId": "bd083279-7d26-40a5-9756-b0587407258b"
      },
      "outputs": [
        {
          "output_type": "stream",
          "name": "stdout",
          "text": [
            "Married: 0.3422080227192048 %\n",
            "Civil marriage: 0.15645371577574968 %\n",
            "Widow: 0.4570848146267141 %\n",
            "Single: 0.46435845213849286 %\n",
            "Separated: 0.4392129304286718 %\n"
          ]
        }
      ],
      "source": [
        "print('Married:',df.query('NAME_FAMILY_STATUS==\"Married\" & STATUS==2').shape[0] * 100 / df.query('NAME_FAMILY_STATUS==\"Married\"').shape[0], '%')\n",
        "print('Civil marriage:',df.query('NAME_FAMILY_STATUS==\"Civil marriage\" & STATUS==2').shape[0] * 100  / df.query('NAME_FAMILY_STATUS==\"Civil marriage\"').shape[0], '%')\n",
        "print('Widow:',df.query('NAME_FAMILY_STATUS==\"Widow\" & STATUS==2').shape[0] * 100  / df.query('NAME_FAMILY_STATUS==\"Widow\"').shape[0], '%')\n",
        "print('Single:',df.query('NAME_FAMILY_STATUS==\"Single / not married\" & STATUS==2').shape[0] * 100  / df.query('NAME_FAMILY_STATUS==\"Single / not married\"').shape[0], '%')\n",
        "print('Separated:',df.query('NAME_FAMILY_STATUS==\"Separated\" & STATUS==2').shape[0] * 100  / df.query('NAME_FAMILY_STATUS==\"Separated\"').shape[0], '%')"
      ]
    },
    {
      "cell_type": "markdown",
      "metadata": {
        "id": "AHj34VDyTJ8r"
      },
      "source": [
        "## Insights obtenidos:\n",
        "Observamos practicamente la misma distribución según estado civil dentro de cada categoría de status. Pero, **rechazamos nuestra hipótesis**, ya que se observa que en la categoría malos pagadores, hay un mayor porcentaje de personas no casadas (separados, solteros, viudos).\n",
        "También observamos que el estado civil en el cual hay un mayor porcentaje de malos pagadores es 'Widow' (pero el porcentaje es muy bajo: 0,48%)"
      ]
    },
    {
      "cell_type": "markdown",
      "metadata": {
        "id": "UL5VsD2B0di7"
      },
      "source": [
        "## **Hipótesis 4**\n",
        "Aquellos clientes del banco con menos años de experiencia laboral, son los más morosos."
      ]
    },
    {
      "cell_type": "code",
      "execution_count": null,
      "metadata": {
        "ExecuteTime": {
          "end_time": "2022-11-22T00:32:49.529951Z",
          "start_time": "2022-11-22T00:32:49.339064Z"
        },
        "execution": {
          "iopub.execute_input": "2022-11-07T23:53:02.943874Z",
          "iopub.status.busy": "2022-11-07T23:53:02.943874Z",
          "iopub.status.idle": "2022-11-07T23:53:03.117472Z",
          "shell.execute_reply": "2022-11-07T23:53:03.117472Z",
          "shell.execute_reply.started": "2022-11-07T23:53:02.943874Z"
        },
        "id": "7D1n1JGZDExD",
        "colab": {
          "base_uri": "https://localhost:8080/",
          "height": 661
        },
        "outputId": "13a8f813-5ceb-4d15-fcbe-388049d95e6f"
      },
      "outputs": [
        {
          "output_type": "execute_result",
          "data": {
            "text/plain": [
              "             ID  MONTHS_BALANCE  STATUS  CODE_GENDER  FLAG_OWN_CAR  \\\n",
              "489996  5096070             -27       1            0             1   \n",
              "293437  5061151             -20       0            1             1   \n",
              "544675  5111166             -23       0            1             1   \n",
              "688170  5137185              -1       1            0             1   \n",
              "582519  5115498               0       0            1             1   \n",
              "...         ...             ...     ...          ...           ...   \n",
              "671902  5135383             -15       1            0             0   \n",
              "407258  5087865              -5       1            0             1   \n",
              "414103  5088990             -29       1            0             0   \n",
              "567880  5113868             -41       1            0             0   \n",
              "532146  5105523             -43       1            1             1   \n",
              "\n",
              "        FLAG_OWN_REALTY  CNT_CHILDREN  AMT_INCOME_TOTAL      NAME_INCOME_TYPE  \\\n",
              "489996                1             0          180000.0               Working   \n",
              "293437                1             3          202500.0               Working   \n",
              "544675                1             0          202500.0               Working   \n",
              "688170                1             0           67500.0               Working   \n",
              "582519                1             2          225000.0  Commercial associate   \n",
              "...                 ...           ...               ...                   ...   \n",
              "671902                0             0          387000.0  Commercial associate   \n",
              "407258                1             0          112500.0             Pensioner   \n",
              "414103                0             2          171000.0               Working   \n",
              "567880                0             0           90000.0               Working   \n",
              "532146                1             0          135000.0               Working   \n",
              "\n",
              "                  NAME_EDUCATION_TYPE  ...  NAME_HOUSING_TYPE FLAG_MOBIL  \\\n",
              "489996               Higher education  ...  House / apartment          1   \n",
              "293437  Secondary / secondary special  ...  House / apartment          1   \n",
              "544675  Secondary / secondary special  ...  House / apartment          1   \n",
              "688170  Secondary / secondary special  ...  House / apartment          1   \n",
              "582519  Secondary / secondary special  ...  House / apartment          1   \n",
              "...                               ...  ...                ...        ...   \n",
              "671902  Secondary / secondary special  ...  House / apartment          1   \n",
              "407258  Secondary / secondary special  ...   Rented apartment          1   \n",
              "414103  Secondary / secondary special  ...  House / apartment          1   \n",
              "567880  Secondary / secondary special  ...  House / apartment          1   \n",
              "532146  Secondary / secondary special  ...  House / apartment          1   \n",
              "\n",
              "        FLAG_WORK_PHONE  FLAG_PHONE  FLAG_EMAIL  OCCUPATION_TYPE  \\\n",
              "489996                1           0           1       Core staff   \n",
              "293437                0           1           0                0   \n",
              "544675                0           1           1         Managers   \n",
              "688170                1           0           0                0   \n",
              "582519                0           0           0         Laborers   \n",
              "...                 ...         ...         ...              ...   \n",
              "671902                0           0           0      Sales staff   \n",
              "407258                0           0           0                0   \n",
              "414103                1           1           0       Core staff   \n",
              "567880                0           0           0      Sales staff   \n",
              "532146                0           0           0                0   \n",
              "\n",
              "       CNT_FAM_MEMBERS        AGE  YEARS_EMPLOYED      EXP_RANGOS  \n",
              "489996             2.0  40.939726        4.520548    0-5 años exp  \n",
              "293437             5.0  36.438356       10.049315  10-15 años exp  \n",
              "544675             1.0  36.830137        6.904110   5-10 años exp  \n",
              "688170             2.0  31.246575        5.298630   5-10 años exp  \n",
              "582519             4.0  44.065753        3.786301    0-5 años exp  \n",
              "...                ...        ...             ...             ...  \n",
              "671902             2.0  55.019178       13.641096  10-15 años exp  \n",
              "407258             2.0  66.627397        0.000000             NaN  \n",
              "414103             4.0  40.060274        3.178082    0-5 años exp  \n",
              "567880             2.0  44.150685        2.698630    0-5 años exp  \n",
              "532146             2.0  27.273973        5.578082   5-10 años exp  \n",
              "\n",
              "[100000 rows x 21 columns]"
            ],
            "text/html": [
              "\n",
              "  <div id=\"df-59fa46f5-0159-44d2-b449-fbbe40b2261f\">\n",
              "    <div class=\"colab-df-container\">\n",
              "      <div>\n",
              "<style scoped>\n",
              "    .dataframe tbody tr th:only-of-type {\n",
              "        vertical-align: middle;\n",
              "    }\n",
              "\n",
              "    .dataframe tbody tr th {\n",
              "        vertical-align: top;\n",
              "    }\n",
              "\n",
              "    .dataframe thead th {\n",
              "        text-align: right;\n",
              "    }\n",
              "</style>\n",
              "<table border=\"1\" class=\"dataframe\">\n",
              "  <thead>\n",
              "    <tr style=\"text-align: right;\">\n",
              "      <th></th>\n",
              "      <th>ID</th>\n",
              "      <th>MONTHS_BALANCE</th>\n",
              "      <th>STATUS</th>\n",
              "      <th>CODE_GENDER</th>\n",
              "      <th>FLAG_OWN_CAR</th>\n",
              "      <th>FLAG_OWN_REALTY</th>\n",
              "      <th>CNT_CHILDREN</th>\n",
              "      <th>AMT_INCOME_TOTAL</th>\n",
              "      <th>NAME_INCOME_TYPE</th>\n",
              "      <th>NAME_EDUCATION_TYPE</th>\n",
              "      <th>...</th>\n",
              "      <th>NAME_HOUSING_TYPE</th>\n",
              "      <th>FLAG_MOBIL</th>\n",
              "      <th>FLAG_WORK_PHONE</th>\n",
              "      <th>FLAG_PHONE</th>\n",
              "      <th>FLAG_EMAIL</th>\n",
              "      <th>OCCUPATION_TYPE</th>\n",
              "      <th>CNT_FAM_MEMBERS</th>\n",
              "      <th>AGE</th>\n",
              "      <th>YEARS_EMPLOYED</th>\n",
              "      <th>EXP_RANGOS</th>\n",
              "    </tr>\n",
              "  </thead>\n",
              "  <tbody>\n",
              "    <tr>\n",
              "      <th>489996</th>\n",
              "      <td>5096070</td>\n",
              "      <td>-27</td>\n",
              "      <td>1</td>\n",
              "      <td>0</td>\n",
              "      <td>1</td>\n",
              "      <td>1</td>\n",
              "      <td>0</td>\n",
              "      <td>180000.0</td>\n",
              "      <td>Working</td>\n",
              "      <td>Higher education</td>\n",
              "      <td>...</td>\n",
              "      <td>House / apartment</td>\n",
              "      <td>1</td>\n",
              "      <td>1</td>\n",
              "      <td>0</td>\n",
              "      <td>1</td>\n",
              "      <td>Core staff</td>\n",
              "      <td>2.0</td>\n",
              "      <td>40.939726</td>\n",
              "      <td>4.520548</td>\n",
              "      <td>0-5 años exp</td>\n",
              "    </tr>\n",
              "    <tr>\n",
              "      <th>293437</th>\n",
              "      <td>5061151</td>\n",
              "      <td>-20</td>\n",
              "      <td>0</td>\n",
              "      <td>1</td>\n",
              "      <td>1</td>\n",
              "      <td>1</td>\n",
              "      <td>3</td>\n",
              "      <td>202500.0</td>\n",
              "      <td>Working</td>\n",
              "      <td>Secondary / secondary special</td>\n",
              "      <td>...</td>\n",
              "      <td>House / apartment</td>\n",
              "      <td>1</td>\n",
              "      <td>0</td>\n",
              "      <td>1</td>\n",
              "      <td>0</td>\n",
              "      <td>0</td>\n",
              "      <td>5.0</td>\n",
              "      <td>36.438356</td>\n",
              "      <td>10.049315</td>\n",
              "      <td>10-15 años exp</td>\n",
              "    </tr>\n",
              "    <tr>\n",
              "      <th>544675</th>\n",
              "      <td>5111166</td>\n",
              "      <td>-23</td>\n",
              "      <td>0</td>\n",
              "      <td>1</td>\n",
              "      <td>1</td>\n",
              "      <td>1</td>\n",
              "      <td>0</td>\n",
              "      <td>202500.0</td>\n",
              "      <td>Working</td>\n",
              "      <td>Secondary / secondary special</td>\n",
              "      <td>...</td>\n",
              "      <td>House / apartment</td>\n",
              "      <td>1</td>\n",
              "      <td>0</td>\n",
              "      <td>1</td>\n",
              "      <td>1</td>\n",
              "      <td>Managers</td>\n",
              "      <td>1.0</td>\n",
              "      <td>36.830137</td>\n",
              "      <td>6.904110</td>\n",
              "      <td>5-10 años exp</td>\n",
              "    </tr>\n",
              "    <tr>\n",
              "      <th>688170</th>\n",
              "      <td>5137185</td>\n",
              "      <td>-1</td>\n",
              "      <td>1</td>\n",
              "      <td>0</td>\n",
              "      <td>1</td>\n",
              "      <td>1</td>\n",
              "      <td>0</td>\n",
              "      <td>67500.0</td>\n",
              "      <td>Working</td>\n",
              "      <td>Secondary / secondary special</td>\n",
              "      <td>...</td>\n",
              "      <td>House / apartment</td>\n",
              "      <td>1</td>\n",
              "      <td>1</td>\n",
              "      <td>0</td>\n",
              "      <td>0</td>\n",
              "      <td>0</td>\n",
              "      <td>2.0</td>\n",
              "      <td>31.246575</td>\n",
              "      <td>5.298630</td>\n",
              "      <td>5-10 años exp</td>\n",
              "    </tr>\n",
              "    <tr>\n",
              "      <th>582519</th>\n",
              "      <td>5115498</td>\n",
              "      <td>0</td>\n",
              "      <td>0</td>\n",
              "      <td>1</td>\n",
              "      <td>1</td>\n",
              "      <td>1</td>\n",
              "      <td>2</td>\n",
              "      <td>225000.0</td>\n",
              "      <td>Commercial associate</td>\n",
              "      <td>Secondary / secondary special</td>\n",
              "      <td>...</td>\n",
              "      <td>House / apartment</td>\n",
              "      <td>1</td>\n",
              "      <td>0</td>\n",
              "      <td>0</td>\n",
              "      <td>0</td>\n",
              "      <td>Laborers</td>\n",
              "      <td>4.0</td>\n",
              "      <td>44.065753</td>\n",
              "      <td>3.786301</td>\n",
              "      <td>0-5 años exp</td>\n",
              "    </tr>\n",
              "    <tr>\n",
              "      <th>...</th>\n",
              "      <td>...</td>\n",
              "      <td>...</td>\n",
              "      <td>...</td>\n",
              "      <td>...</td>\n",
              "      <td>...</td>\n",
              "      <td>...</td>\n",
              "      <td>...</td>\n",
              "      <td>...</td>\n",
              "      <td>...</td>\n",
              "      <td>...</td>\n",
              "      <td>...</td>\n",
              "      <td>...</td>\n",
              "      <td>...</td>\n",
              "      <td>...</td>\n",
              "      <td>...</td>\n",
              "      <td>...</td>\n",
              "      <td>...</td>\n",
              "      <td>...</td>\n",
              "      <td>...</td>\n",
              "      <td>...</td>\n",
              "      <td>...</td>\n",
              "    </tr>\n",
              "    <tr>\n",
              "      <th>671902</th>\n",
              "      <td>5135383</td>\n",
              "      <td>-15</td>\n",
              "      <td>1</td>\n",
              "      <td>0</td>\n",
              "      <td>0</td>\n",
              "      <td>0</td>\n",
              "      <td>0</td>\n",
              "      <td>387000.0</td>\n",
              "      <td>Commercial associate</td>\n",
              "      <td>Secondary / secondary special</td>\n",
              "      <td>...</td>\n",
              "      <td>House / apartment</td>\n",
              "      <td>1</td>\n",
              "      <td>0</td>\n",
              "      <td>0</td>\n",
              "      <td>0</td>\n",
              "      <td>Sales staff</td>\n",
              "      <td>2.0</td>\n",
              "      <td>55.019178</td>\n",
              "      <td>13.641096</td>\n",
              "      <td>10-15 años exp</td>\n",
              "    </tr>\n",
              "    <tr>\n",
              "      <th>407258</th>\n",
              "      <td>5087865</td>\n",
              "      <td>-5</td>\n",
              "      <td>1</td>\n",
              "      <td>0</td>\n",
              "      <td>1</td>\n",
              "      <td>1</td>\n",
              "      <td>0</td>\n",
              "      <td>112500.0</td>\n",
              "      <td>Pensioner</td>\n",
              "      <td>Secondary / secondary special</td>\n",
              "      <td>...</td>\n",
              "      <td>Rented apartment</td>\n",
              "      <td>1</td>\n",
              "      <td>0</td>\n",
              "      <td>0</td>\n",
              "      <td>0</td>\n",
              "      <td>0</td>\n",
              "      <td>2.0</td>\n",
              "      <td>66.627397</td>\n",
              "      <td>0.000000</td>\n",
              "      <td>NaN</td>\n",
              "    </tr>\n",
              "    <tr>\n",
              "      <th>414103</th>\n",
              "      <td>5088990</td>\n",
              "      <td>-29</td>\n",
              "      <td>1</td>\n",
              "      <td>0</td>\n",
              "      <td>0</td>\n",
              "      <td>0</td>\n",
              "      <td>2</td>\n",
              "      <td>171000.0</td>\n",
              "      <td>Working</td>\n",
              "      <td>Secondary / secondary special</td>\n",
              "      <td>...</td>\n",
              "      <td>House / apartment</td>\n",
              "      <td>1</td>\n",
              "      <td>1</td>\n",
              "      <td>1</td>\n",
              "      <td>0</td>\n",
              "      <td>Core staff</td>\n",
              "      <td>4.0</td>\n",
              "      <td>40.060274</td>\n",
              "      <td>3.178082</td>\n",
              "      <td>0-5 años exp</td>\n",
              "    </tr>\n",
              "    <tr>\n",
              "      <th>567880</th>\n",
              "      <td>5113868</td>\n",
              "      <td>-41</td>\n",
              "      <td>1</td>\n",
              "      <td>0</td>\n",
              "      <td>0</td>\n",
              "      <td>0</td>\n",
              "      <td>0</td>\n",
              "      <td>90000.0</td>\n",
              "      <td>Working</td>\n",
              "      <td>Secondary / secondary special</td>\n",
              "      <td>...</td>\n",
              "      <td>House / apartment</td>\n",
              "      <td>1</td>\n",
              "      <td>0</td>\n",
              "      <td>0</td>\n",
              "      <td>0</td>\n",
              "      <td>Sales staff</td>\n",
              "      <td>2.0</td>\n",
              "      <td>44.150685</td>\n",
              "      <td>2.698630</td>\n",
              "      <td>0-5 años exp</td>\n",
              "    </tr>\n",
              "    <tr>\n",
              "      <th>532146</th>\n",
              "      <td>5105523</td>\n",
              "      <td>-43</td>\n",
              "      <td>1</td>\n",
              "      <td>1</td>\n",
              "      <td>1</td>\n",
              "      <td>1</td>\n",
              "      <td>0</td>\n",
              "      <td>135000.0</td>\n",
              "      <td>Working</td>\n",
              "      <td>Secondary / secondary special</td>\n",
              "      <td>...</td>\n",
              "      <td>House / apartment</td>\n",
              "      <td>1</td>\n",
              "      <td>0</td>\n",
              "      <td>0</td>\n",
              "      <td>0</td>\n",
              "      <td>0</td>\n",
              "      <td>2.0</td>\n",
              "      <td>27.273973</td>\n",
              "      <td>5.578082</td>\n",
              "      <td>5-10 años exp</td>\n",
              "    </tr>\n",
              "  </tbody>\n",
              "</table>\n",
              "<p>100000 rows × 21 columns</p>\n",
              "</div>\n",
              "      <button class=\"colab-df-convert\" onclick=\"convertToInteractive('df-59fa46f5-0159-44d2-b449-fbbe40b2261f')\"\n",
              "              title=\"Convert this dataframe to an interactive table.\"\n",
              "              style=\"display:none;\">\n",
              "        \n",
              "  <svg xmlns=\"http://www.w3.org/2000/svg\" height=\"24px\"viewBox=\"0 0 24 24\"\n",
              "       width=\"24px\">\n",
              "    <path d=\"M0 0h24v24H0V0z\" fill=\"none\"/>\n",
              "    <path d=\"M18.56 5.44l.94 2.06.94-2.06 2.06-.94-2.06-.94-.94-2.06-.94 2.06-2.06.94zm-11 1L8.5 8.5l.94-2.06 2.06-.94-2.06-.94L8.5 2.5l-.94 2.06-2.06.94zm10 10l.94 2.06.94-2.06 2.06-.94-2.06-.94-.94-2.06-.94 2.06-2.06.94z\"/><path d=\"M17.41 7.96l-1.37-1.37c-.4-.4-.92-.59-1.43-.59-.52 0-1.04.2-1.43.59L10.3 9.45l-7.72 7.72c-.78.78-.78 2.05 0 2.83L4 21.41c.39.39.9.59 1.41.59.51 0 1.02-.2 1.41-.59l7.78-7.78 2.81-2.81c.8-.78.8-2.07 0-2.86zM5.41 20L4 18.59l7.72-7.72 1.47 1.35L5.41 20z\"/>\n",
              "  </svg>\n",
              "      </button>\n",
              "      \n",
              "  <style>\n",
              "    .colab-df-container {\n",
              "      display:flex;\n",
              "      flex-wrap:wrap;\n",
              "      gap: 12px;\n",
              "    }\n",
              "\n",
              "    .colab-df-convert {\n",
              "      background-color: #E8F0FE;\n",
              "      border: none;\n",
              "      border-radius: 50%;\n",
              "      cursor: pointer;\n",
              "      display: none;\n",
              "      fill: #1967D2;\n",
              "      height: 32px;\n",
              "      padding: 0 0 0 0;\n",
              "      width: 32px;\n",
              "    }\n",
              "\n",
              "    .colab-df-convert:hover {\n",
              "      background-color: #E2EBFA;\n",
              "      box-shadow: 0px 1px 2px rgba(60, 64, 67, 0.3), 0px 1px 3px 1px rgba(60, 64, 67, 0.15);\n",
              "      fill: #174EA6;\n",
              "    }\n",
              "\n",
              "    [theme=dark] .colab-df-convert {\n",
              "      background-color: #3B4455;\n",
              "      fill: #D2E3FC;\n",
              "    }\n",
              "\n",
              "    [theme=dark] .colab-df-convert:hover {\n",
              "      background-color: #434B5C;\n",
              "      box-shadow: 0px 1px 3px 1px rgba(0, 0, 0, 0.15);\n",
              "      filter: drop-shadow(0px 1px 2px rgba(0, 0, 0, 0.3));\n",
              "      fill: #FFFFFF;\n",
              "    }\n",
              "  </style>\n",
              "\n",
              "      <script>\n",
              "        const buttonEl =\n",
              "          document.querySelector('#df-59fa46f5-0159-44d2-b449-fbbe40b2261f button.colab-df-convert');\n",
              "        buttonEl.style.display =\n",
              "          google.colab.kernel.accessAllowed ? 'block' : 'none';\n",
              "\n",
              "        async function convertToInteractive(key) {\n",
              "          const element = document.querySelector('#df-59fa46f5-0159-44d2-b449-fbbe40b2261f');\n",
              "          const dataTable =\n",
              "            await google.colab.kernel.invokeFunction('convertToInteractive',\n",
              "                                                     [key], {});\n",
              "          if (!dataTable) return;\n",
              "\n",
              "          const docLinkHtml = 'Like what you see? Visit the ' +\n",
              "            '<a target=\"_blank\" href=https://colab.research.google.com/notebooks/data_table.ipynb>data table notebook</a>'\n",
              "            + ' to learn more about interactive tables.';\n",
              "          element.innerHTML = '';\n",
              "          dataTable['output_type'] = 'display_data';\n",
              "          await google.colab.output.renderOutput(dataTable, element);\n",
              "          const docLink = document.createElement('div');\n",
              "          docLink.innerHTML = docLinkHtml;\n",
              "          element.appendChild(docLink);\n",
              "        }\n",
              "      </script>\n",
              "    </div>\n",
              "  </div>\n",
              "  "
            ]
          },
          "metadata": {},
          "execution_count": 56
        }
      ],
      "source": [
        "#categorizamos la variable 'YEARS_EMPLOYED' para poder graficarla mejor\n",
        "bins=[0,5,10,15,25,44]\n",
        "labels=['0-5 años exp','5-10 años exp','10-15 años exp','15-25 años exp','25-44 años exp']\n",
        "cats=pd.cut(df['YEARS_EMPLOYED'], bins, labels=labels)\n",
        "df['EXP_RANGOS']=cats\n",
        "df"
      ]
    },
    {
      "cell_type": "markdown",
      "metadata": {
        "id": "ziCmvposATBk"
      },
      "source": [
        "A continuación se realizará un histograma para cada rango de experiencia acerca de la participacion de cada STATUS en el mismo.\n",
        "<br>\n",
        "La idea es ver si para algun rango, presenta un mayor peso del STATUS 2"
      ]
    },
    {
      "cell_type": "code",
      "execution_count": null,
      "metadata": {
        "ExecuteTime": {
          "end_time": "2022-11-22T00:32:50.359457Z",
          "start_time": "2022-11-22T00:32:49.530952Z"
        },
        "execution": {
          "iopub.execute_input": "2022-11-07T23:53:03.117472Z",
          "iopub.status.busy": "2022-11-07T23:53:03.117472Z",
          "iopub.status.idle": "2022-11-07T23:53:03.654259Z",
          "shell.execute_reply": "2022-11-07T23:53:03.654259Z",
          "shell.execute_reply.started": "2022-11-07T23:53:03.117472Z"
        },
        "id": "h63AbB8Bu8bJ",
        "colab": {
          "base_uri": "https://localhost:8080/",
          "height": 729
        },
        "outputId": "ca9484d7-23ff-4482-93aa-c3d7202b5e8d"
      },
      "outputs": [
        {
          "output_type": "display_data",
          "data": {
            "text/plain": [
              "<Figure size 1193.25x720 with 5 Axes>"
            ],
            "image/png": "[encoded data removed]"
          },
          "metadata": {
            "needs_background": "light"
          }
        }
      ],
      "source": [
        "sns.displot(data=df, x=\"STATUS\", hue=\"EXP_RANGOS\", multiple=\"stack\", col=\"EXP_RANGOS\", col_wrap=3,bins=3);"
      ]
    },
    {
      "cell_type": "code",
      "execution_count": null,
      "metadata": {
        "ExecuteTime": {
          "end_time": "2022-11-22T00:32:50.568127Z",
          "start_time": "2022-11-22T00:32:50.360457Z"
        },
        "execution": {
          "iopub.execute_input": "2022-11-07T23:53:03.655259Z",
          "iopub.status.busy": "2022-11-07T23:53:03.655259Z",
          "iopub.status.idle": "2022-11-07T23:53:03.800263Z",
          "shell.execute_reply": "2022-11-07T23:53:03.800263Z",
          "shell.execute_reply.started": "2022-11-07T23:53:03.655259Z"
        },
        "id": "HJzpbF-OATBk",
        "tags": [],
        "colab": {
          "base_uri": "https://localhost:8080/"
        },
        "outputId": "dba99694-6145-416a-9375-56d9f44d9b5c"
      },
      "outputs": [
        {
          "output_type": "stream",
          "name": "stdout",
          "text": [
            "0-5 años exp: 0.5260693530173245 %\n",
            "5-10 años exp: 0.1850352723487915 %\n",
            "10-15 años exp: 0.2788772939906441 %\n",
            "15-25 años exp: 0.1571503404924044 %\n",
            "25-44 años exp: 0.1973943939992104 %\n"
          ]
        }
      ],
      "source": [
        "print('0-5 años exp:',df.query('EXP_RANGOS==\"0-5 años exp\" & STATUS==2').shape[0] * 100 / df.query('EXP_RANGOS==\"0-5 años exp\"').shape[0], '%')\n",
        "print('5-10 años exp:',df.query('EXP_RANGOS==\"5-10 años exp\" & STATUS==2').shape[0] * 100  / df.query('EXP_RANGOS==\"5-10 años exp\"').shape[0], '%')\n",
        "print('10-15 años exp:',df.query('EXP_RANGOS==\"10-15 años exp\" & STATUS==2').shape[0] * 100  / df.query('EXP_RANGOS==\"10-15 años exp\"').shape[0], '%')\n",
        "print('15-25 años exp:',df.query('EXP_RANGOS==\"15-25 años exp\" & STATUS==2').shape[0] * 100  / df.query('EXP_RANGOS==\"15-25 años exp\"').shape[0], '%')\n",
        "print('25-44 años exp:',df.query('EXP_RANGOS==\"25-44 años exp\" & STATUS==2').shape[0] * 100  / df.query('EXP_RANGOS==\"25-44 años exp\"').shape[0], '%')"
      ]
    },
    {
      "cell_type": "markdown",
      "metadata": {
        "id": "ENNx8ehe2U-P"
      },
      "source": [
        "## Insights obtenidos:\n",
        "Se observa que la mayor cantidad de los clientes del banco poseen entre 0 y 5 años de experiencia.\n",
        "\n",
        "Y con respecto a nuestra hipótesis, podemos aceptarla, pero el efecto es muy leve; ya que se observa que el comportamiento de la morosidad es prácticamente igual para cada rango de años de experiencia. Aunque observamos que hay un porcentaje mayor en el rango 0 a 5 años de experiencia (0.51%)"
      ]
    },
    {
      "cell_type": "markdown",
      "metadata": {
        "id": "RJVb3IND4BiJ"
      },
      "source": [
        "# Propuestas Comerciales en base a insights obtenidos\n",
        "* **Propuesta 1**: \n",
        "Proponemos ofrecer tasas diferenciales, acorde a las necesidades de la clase trabajadora, de manera que puedan refinanciar sus deudas sin caer en incobrabilidad. \n",
        "\n",
        "  Diseñamos esta propuesta, ya que vemos que dentro de los malos pagadores, predominan los trabajadores (42%).\n",
        "* **Propuesta 2**:\n",
        "Lograr que aquellos que no tienen prestamos (categoría 0), empiecen a tomarlos. \n",
        "¿Cómo? Remarcando los beneficios que trae para el cliente.\n",
        "Puede ayudarle a tener un buen historial crediticio, de esta manera va a tener la oportunidad de acceder a mejores préstamos y oportunidades a largo plazo. El hecho de tener un buen historial crediticio y llevar un largo tiempo con la institución bancaria le va a permitir tomar un préstamo preaprobado de forma inmediata y por un importe significativo.\n",
        "Otra posibilidad para incentivar a los clientes a tomar un préstamo, podría ser la posibilidad de premiar con puntos para canjear por distintos premios y beneficios en los Marketplace de las entidades bancarias.\n",
        "\n",
        "  Diseñamos esta propuesta, ya que observamos que hay una gran número de clientes que se encuentran actualmente sin tomar préstamo.\n",
        "\n",
        "  Relacionado con esto, observamos que de los clientes que no toman préstamo, aproximadamente el 50% son trabajadores depensientes; por lo tanto sugerimos una acción específica para éstos. Dicha acción, podría ser, llevar adelante convenios con empresas para que los trabajadores cobren su sueldo en una cuenta del banco, con las cuales tengan oportunidades crediticias."
      ]
    },
    {
      "cell_type": "markdown",
      "metadata": {
        "id": "UBCttSt9Y5-E"
      },
      "source": [
        "# Elección y entrenamiento del modelo"
      ]
    },
    {
      "cell_type": "markdown",
      "metadata": {
        "id": "jWDYHPsvY-gO"
      },
      "source": [
        "Nuestra variable target es 'STATUS', la cual es categórica y posee 3 categorías. Por lo cual utilizaremos algoritmos supervisados de clasificación, ya que se conoce a priori el número de clases y los reconocimientos de patrones representantes de cada clase. Los algoritmos a evaluar serán Random Forest y K Nearest Neighbours.\n",
        "Para cada uno de estos, probaremos un entrenamiento del modelo base, del modelo con los mejores parámetros obtenidos con RandomizedSearchCV, y también emplearemos una validación cruzada con StratifiedKFolds, para obtener las mejores particiones de train y test.\n",
        "\n",
        "Adicionalmente, observamos que nuestra variable target ('STATUS') posee desbalanceo de clases, por lo cual entrenaremos al modelo con los datos originales, para ver los resultados. En caso de no ser los mismos satisfactorios, emplearemos la técnica de oversampling con 'SMOTETomek'."
      ]
    },
    {
      "cell_type": "markdown",
      "metadata": {
        "id": "1T7JCdCQIdYS"
      },
      "source": []
    },
    {
      "cell_type": "markdown",
      "metadata": {
        "id": "Sbu3Mgnkh2LJ"
      },
      "source": [
        "## Preprocesamiento de datos"
      ]
    },
    {
      "cell_type": "code",
      "execution_count": null,
      "metadata": {
        "ExecuteTime": {
          "end_time": "2022-11-22T00:32:50.615074Z",
          "start_time": "2022-11-22T00:32:50.569127Z"
        },
        "execution": {
          "iopub.execute_input": "2022-11-07T23:53:03.801264Z",
          "iopub.status.busy": "2022-11-07T23:53:03.801264Z",
          "iopub.status.idle": "2022-11-07T23:53:03.839180Z",
          "shell.execute_reply": "2022-11-07T23:53:03.839180Z",
          "shell.execute_reply.started": "2022-11-07T23:53:03.801264Z"
        },
        "id": "9GgZi47-dKs4",
        "outputId": "c6473147-e265-4e1c-95ae-7088a4570d54"
      },
      "outputs": [
        {
          "name": "stdout",
          "output_type": "stream",
          "text": [
            "time: 0 ns (started: 2023-01-05 22:11:09 -03:00)\n"
          ]
        }
      ],
      "source": [
        "#Target\n",
        "y=df['STATUS']\n",
        "#Features\n",
        "x=df.drop(columns=['STATUS','EXP_RANGOS'])"
      ]
    },
    {
      "cell_type": "code",
      "execution_count": null,
      "metadata": {
        "ExecuteTime": {
          "end_time": "2022-11-22T00:32:51.014855Z",
          "start_time": "2022-11-22T00:32:50.616075Z"
        },
        "execution": {
          "iopub.execute_input": "2022-11-07T23:53:03.840179Z",
          "iopub.status.busy": "2022-11-07T23:53:03.840179Z",
          "iopub.status.idle": "2022-11-07T23:53:04.074778Z",
          "shell.execute_reply": "2022-11-07T23:53:04.074778Z",
          "shell.execute_reply.started": "2022-11-07T23:53:03.840179Z"
        },
        "id": "SdRySCNMe9N9",
        "outputId": "883fa157-7601-4e07-8106-08a0655d5fcf"
      },
      "outputs": [
        {
          "name": "stdout",
          "output_type": "stream",
          "text": [
            "time: 47 ms (started: 2023-01-05 22:11:09 -03:00)\n"
          ]
        }
      ],
      "source": [
        "#Utilizamos one hot encoding para x\n",
        "dummies=pd.get_dummies(x[['CODE_GENDER','NAME_INCOME_TYPE', 'NAME_EDUCATION_TYPE', 'NAME_FAMILY_STATUS', 'NAME_HOUSING_TYPE', \n",
        "                          'OCCUPATION_TYPE']], prefix=['NAME_INCOME_TYPE', 'NAME_EDUCATION_TYPE', \n",
        "                                                       'NAME_FAMILY_STATUS','NAME_HOUSING_TYPE','OCCUPATION_TYPE'], drop_first=True)"
      ]
    },
    {
      "cell_type": "code",
      "execution_count": null,
      "metadata": {
        "ExecuteTime": {
          "end_time": "2022-11-22T00:32:51.067585Z",
          "start_time": "2022-11-22T00:32:51.015851Z"
        },
        "colab": {
          "base_uri": "https://localhost:8080/",
          "height": 505
        },
        "execution": {
          "iopub.execute_input": "2022-11-07T23:53:04.075778Z",
          "iopub.status.busy": "2022-11-07T23:53:04.074778Z",
          "iopub.status.idle": "2022-11-07T23:53:04.111878Z",
          "shell.execute_reply": "2022-11-07T23:53:04.111878Z",
          "shell.execute_reply.started": "2022-11-07T23:53:04.075778Z"
        },
        "id": "q7vaN8IMhYFM",
        "outputId": "89d574cf-f5bf-4f29-fba8-7ede8a05448f"
      },
      "outputs": [
        {
          "data": {
            "text/plain": "        CODE_GENDER  NAME_INCOME_TYPE_Pensioner  \\\n489996            0                           0   \n293437            1                           0   \n544675            1                           0   \n688170            0                           0   \n582519            1                           0   \n...             ...                         ...   \n671902            0                           0   \n407258            0                           1   \n414103            0                           0   \n567880            0                           0   \n532146            1                           0   \n\n        NAME_INCOME_TYPE_State servant  NAME_INCOME_TYPE_Student  \\\n489996                               0                         0   \n293437                               0                         0   \n544675                               0                         0   \n688170                               0                         0   \n582519                               0                         0   \n...                                ...                       ...   \n671902                               0                         0   \n407258                               0                         0   \n414103                               0                         0   \n567880                               0                         0   \n532146                               0                         0   \n\n        NAME_INCOME_TYPE_Working  NAME_EDUCATION_TYPE_Higher education  \\\n489996                         1                                     1   \n293437                         1                                     0   \n544675                         1                                     0   \n688170                         1                                     0   \n582519                         0                                     0   \n...                          ...                                   ...   \n671902                         0                                     0   \n407258                         0                                     0   \n414103                         1                                     0   \n567880                         1                                     0   \n532146                         1                                     0   \n\n        NAME_EDUCATION_TYPE_Incomplete higher  \\\n489996                                      0   \n293437                                      0   \n544675                                      0   \n688170                                      0   \n582519                                      0   \n...                                       ...   \n671902                                      0   \n407258                                      0   \n414103                                      0   \n567880                                      0   \n532146                                      0   \n\n        NAME_EDUCATION_TYPE_Lower secondary  \\\n489996                                    0   \n293437                                    0   \n544675                                    0   \n688170                                    0   \n582519                                    0   \n...                                     ...   \n671902                                    0   \n407258                                    0   \n414103                                    0   \n567880                                    0   \n532146                                    0   \n\n        NAME_EDUCATION_TYPE_Secondary / secondary special  \\\n489996                                                  0   \n293437                                                  1   \n544675                                                  1   \n688170                                                  1   \n582519                                                  1   \n...                                                   ...   \n671902                                                  1   \n407258                                                  1   \n414103                                                  1   \n567880                                                  1   \n532146                                                  1   \n\n        NAME_FAMILY_STATUS_Married  ...  OCCUPATION_TYPE_Laborers  \\\n489996                           1  ...                         0   \n293437                           1  ...                         0   \n544675                           0  ...                         0   \n688170                           1  ...                         0   \n582519                           1  ...                         1   \n...                            ...  ...                       ...   \n671902                           1  ...                         0   \n407258                           1  ...                         0   \n414103                           1  ...                         0   \n567880                           1  ...                         0   \n532146                           1  ...                         0   \n\n        OCCUPATION_TYPE_Low-skill Laborers  OCCUPATION_TYPE_Managers  \\\n489996                                   0                         0   \n293437                                   0                         0   \n544675                                   0                         1   \n688170                                   0                         0   \n582519                                   0                         0   \n...                                    ...                       ...   \n671902                                   0                         0   \n407258                                   0                         0   \n414103                                   0                         0   \n567880                                   0                         0   \n532146                                   0                         0   \n\n        OCCUPATION_TYPE_Medicine staff  OCCUPATION_TYPE_Private service staff  \\\n489996                               0                                      0   \n293437                               0                                      0   \n544675                               0                                      0   \n688170                               0                                      0   \n582519                               0                                      0   \n...                                ...                                    ...   \n671902                               0                                      0   \n407258                               0                                      0   \n414103                               0                                      0   \n567880                               0                                      0   \n532146                               0                                      0   \n\n        OCCUPATION_TYPE_Realty agents  OCCUPATION_TYPE_Sales staff  \\\n489996                              0                            0   \n293437                              0                            0   \n544675                              0                            0   \n688170                              0                            0   \n582519                              0                            0   \n...                               ...                          ...   \n671902                              0                            1   \n407258                              0                            0   \n414103                              0                            0   \n567880                              0                            1   \n532146                              0                            0   \n\n        OCCUPATION_TYPE_Secretaries  OCCUPATION_TYPE_Security staff  \\\n489996                            0                               0   \n293437                            0                               0   \n544675                            0                               0   \n688170                            0                               0   \n582519                            0                               0   \n...                             ...                             ...   \n671902                            0                               0   \n407258                            0                               0   \n414103                            0                               0   \n567880                            0                               0   \n532146                            0                               0   \n\n        OCCUPATION_TYPE_Waiters/barmen staff  \n489996                                     0  \n293437                                     0  \n544675                                     0  \n688170                                     0  \n582519                                     0  \n...                                      ...  \n671902                                     0  \n407258                                     0  \n414103                                     0  \n567880                                     0  \n532146                                     0  \n\n[100000 rows x 36 columns]",
            "text/html": "<div>\n<style scoped>\n    .dataframe tbody tr th:only-of-type {\n        vertical-align: middle;\n    }\n\n    .dataframe tbody tr th {\n        vertical-align: top;\n    }\n\n    .dataframe thead th {\n        text-align: right;\n    }\n</style>\n<table border=\"1\" class=\"dataframe\">\n  <thead>\n    <tr style=\"text-align: right;\">\n      <th></th>\n      <th>CODE_GENDER</th>\n      <th>NAME_INCOME_TYPE_Pensioner</th>\n      <th>NAME_INCOME_TYPE_State servant</th>\n      <th>NAME_INCOME_TYPE_Student</th>\n      <th>NAME_INCOME_TYPE_Working</th>\n      <th>NAME_EDUCATION_TYPE_Higher education</th>\n      <th>NAME_EDUCATION_TYPE_Incomplete higher</th>\n      <th>NAME_EDUCATION_TYPE_Lower secondary</th>\n      <th>NAME_EDUCATION_TYPE_Secondary / secondary special</th>\n      <th>NAME_FAMILY_STATUS_Married</th>\n      <th>...</th>\n      <th>OCCUPATION_TYPE_Laborers</th>\n      <th>OCCUPATION_TYPE_Low-skill Laborers</th>\n      <th>OCCUPATION_TYPE_Managers</th>\n      <th>OCCUPATION_TYPE_Medicine staff</th>\n      <th>OCCUPATION_TYPE_Private service staff</th>\n      <th>OCCUPATION_TYPE_Realty agents</th>\n      <th>OCCUPATION_TYPE_Sales staff</th>\n      <th>OCCUPATION_TYPE_Secretaries</th>\n      <th>OCCUPATION_TYPE_Security staff</th>\n      <th>OCCUPATION_TYPE_Waiters/barmen staff</th>\n    </tr>\n  </thead>\n  <tbody>\n    <tr>\n      <th>489996</th>\n      <td>0</td>\n      <td>0</td>\n      <td>0</td>\n      <td>0</td>\n      <td>1</td>\n      <td>1</td>\n      <td>0</td>\n      <td>0</td>\n      <td>0</td>\n      <td>1</td>\n      <td>...</td>\n      <td>0</td>\n      <td>0</td>\n      <td>0</td>\n      <td>0</td>\n      <td>0</td>\n      <td>0</td>\n      <td>0</td>\n      <td>0</td>\n      <td>0</td>\n      <td>0</td>\n    </tr>\n    <tr>\n      <th>293437</th>\n      <td>1</td>\n      <td>0</td>\n      <td>0</td>\n      <td>0</td>\n      <td>1</td>\n      <td>0</td>\n      <td>0</td>\n      <td>0</td>\n      <td>1</td>\n      <td>1</td>\n      <td>...</td>\n      <td>0</td>\n      <td>0</td>\n      <td>0</td>\n      <td>0</td>\n      <td>0</td>\n      <td>0</td>\n      <td>0</td>\n      <td>0</td>\n      <td>0</td>\n      <td>0</td>\n    </tr>\n    <tr>\n      <th>544675</th>\n      <td>1</td>\n      <td>0</td>\n      <td>0</td>\n      <td>0</td>\n      <td>1</td>\n      <td>0</td>\n      <td>0</td>\n      <td>0</td>\n      <td>1</td>\n      <td>0</td>\n      <td>...</td>\n      <td>0</td>\n      <td>0</td>\n      <td>1</td>\n      <td>0</td>\n      <td>0</td>\n      <td>0</td>\n      <td>0</td>\n      <td>0</td>\n      <td>0</td>\n      <td>0</td>\n    </tr>\n    <tr>\n      <th>688170</th>\n      <td>0</td>\n      <td>0</td>\n      <td>0</td>\n      <td>0</td>\n      <td>1</td>\n      <td>0</td>\n      <td>0</td>\n      <td>0</td>\n      <td>1</td>\n      <td>1</td>\n      <td>...</td>\n      <td>0</td>\n      <td>0</td>\n      <td>0</td>\n      <td>0</td>\n      <td>0</td>\n      <td>0</td>\n      <td>0</td>\n      <td>0</td>\n      <td>0</td>\n      <td>0</td>\n    </tr>\n    <tr>\n      <th>582519</th>\n      <td>1</td>\n      <td>0</td>\n      <td>0</td>\n      <td>0</td>\n      <td>0</td>\n      <td>0</td>\n      <td>0</td>\n      <td>0</td>\n      <td>1</td>\n      <td>1</td>\n      <td>...</td>\n      <td>1</td>\n      <td>0</td>\n      <td>0</td>\n      <td>0</td>\n      <td>0</td>\n      <td>0</td>\n      <td>0</td>\n      <td>0</td>\n      <td>0</td>\n      <td>0</td>\n    </tr>\n    <tr>\n      <th>...</th>\n      <td>...</td>\n      <td>...</td>\n      <td>...</td>\n      <td>...</td>\n      <td>...</td>\n      <td>...</td>\n      <td>...</td>\n      <td>...</td>\n      <td>...</td>\n      <td>...</td>\n      <td>...</td>\n      <td>...</td>\n      <td>...</td>\n      <td>...</td>\n      <td>...</td>\n      <td>...</td>\n      <td>...</td>\n      <td>...</td>\n      <td>...</td>\n      <td>...</td>\n      <td>...</td>\n    </tr>\n    <tr>\n      <th>671902</th>\n      <td>0</td>\n      <td>0</td>\n      <td>0</td>\n      <td>0</td>\n      <td>0</td>\n      <td>0</td>\n      <td>0</td>\n      <td>0</td>\n      <td>1</td>\n      <td>1</td>\n      <td>...</td>\n      <td>0</td>\n      <td>0</td>\n      <td>0</td>\n      <td>0</td>\n      <td>0</td>\n      <td>0</td>\n      <td>1</td>\n      <td>0</td>\n      <td>0</td>\n      <td>0</td>\n    </tr>\n    <tr>\n      <th>407258</th>\n      <td>0</td>\n      <td>1</td>\n      <td>0</td>\n      <td>0</td>\n      <td>0</td>\n      <td>0</td>\n      <td>0</td>\n      <td>0</td>\n      <td>1</td>\n      <td>1</td>\n      <td>...</td>\n      <td>0</td>\n      <td>0</td>\n      <td>0</td>\n      <td>0</td>\n      <td>0</td>\n      <td>0</td>\n      <td>0</td>\n      <td>0</td>\n      <td>0</td>\n      <td>0</td>\n    </tr>\n    <tr>\n      <th>414103</th>\n      <td>0</td>\n      <td>0</td>\n      <td>0</td>\n      <td>0</td>\n      <td>1</td>\n      <td>0</td>\n      <td>0</td>\n      <td>0</td>\n      <td>1</td>\n      <td>1</td>\n      <td>...</td>\n      <td>0</td>\n      <td>0</td>\n      <td>0</td>\n      <td>0</td>\n      <td>0</td>\n      <td>0</td>\n      <td>0</td>\n      <td>0</td>\n      <td>0</td>\n      <td>0</td>\n    </tr>\n    <tr>\n      <th>567880</th>\n      <td>0</td>\n      <td>0</td>\n      <td>0</td>\n      <td>0</td>\n      <td>1</td>\n      <td>0</td>\n      <td>0</td>\n      <td>0</td>\n      <td>1</td>\n      <td>1</td>\n      <td>...</td>\n      <td>0</td>\n      <td>0</td>\n      <td>0</td>\n      <td>0</td>\n      <td>0</td>\n      <td>0</td>\n      <td>1</td>\n      <td>0</td>\n      <td>0</td>\n      <td>0</td>\n    </tr>\n    <tr>\n      <th>532146</th>\n      <td>1</td>\n      <td>0</td>\n      <td>0</td>\n      <td>0</td>\n      <td>1</td>\n      <td>0</td>\n      <td>0</td>\n      <td>0</td>\n      <td>1</td>\n      <td>1</td>\n      <td>...</td>\n      <td>0</td>\n      <td>0</td>\n      <td>0</td>\n      <td>0</td>\n      <td>0</td>\n      <td>0</td>\n      <td>0</td>\n      <td>0</td>\n      <td>0</td>\n      <td>0</td>\n    </tr>\n  </tbody>\n</table>\n<p>100000 rows × 36 columns</p>\n</div>"
          },
          "execution_count": 55,
          "metadata": {},
          "output_type": "execute_result"
        },
        {
          "name": "stdout",
          "output_type": "stream",
          "text": [
            "time: 16 ms (started: 2023-01-05 22:11:09 -03:00)\n"
          ]
        }
      ],
      "source": [
        "dummies"
      ]
    },
    {
      "cell_type": "code",
      "execution_count": null,
      "metadata": {
        "ExecuteTime": {
          "end_time": "2022-11-22T00:32:51.071933Z",
          "start_time": "2022-11-22T00:32:51.068588Z"
        },
        "colab": {
          "base_uri": "https://localhost:8080/"
        },
        "execution": {
          "iopub.execute_input": "2022-11-07T23:53:04.112878Z",
          "iopub.status.busy": "2022-11-07T23:53:04.111878Z",
          "iopub.status.idle": "2022-11-07T23:53:04.116878Z",
          "shell.execute_reply": "2022-11-07T23:53:04.116878Z",
          "shell.execute_reply.started": "2022-11-07T23:53:04.112878Z"
        },
        "id": "gm-C2p387gVG",
        "outputId": "c283bf61-c378-4a58-93c8-240f49fd942c"
      },
      "outputs": [
        {
          "data": {
            "text/plain": "Index(['CODE_GENDER', 'NAME_INCOME_TYPE_Pensioner',\n       'NAME_INCOME_TYPE_State servant', 'NAME_INCOME_TYPE_Student',\n       'NAME_INCOME_TYPE_Working', 'NAME_EDUCATION_TYPE_Higher education',\n       'NAME_EDUCATION_TYPE_Incomplete higher',\n       'NAME_EDUCATION_TYPE_Lower secondary',\n       'NAME_EDUCATION_TYPE_Secondary / secondary special',\n       'NAME_FAMILY_STATUS_Married', 'NAME_FAMILY_STATUS_Separated',\n       'NAME_FAMILY_STATUS_Single / not married', 'NAME_FAMILY_STATUS_Widow',\n       'NAME_HOUSING_TYPE_House / apartment',\n       'NAME_HOUSING_TYPE_Municipal apartment',\n       'NAME_HOUSING_TYPE_Office apartment',\n       'NAME_HOUSING_TYPE_Rented apartment', 'NAME_HOUSING_TYPE_With parents',\n       'OCCUPATION_TYPE_Accountants', 'OCCUPATION_TYPE_Cleaning staff',\n       'OCCUPATION_TYPE_Cooking staff', 'OCCUPATION_TYPE_Core staff',\n       'OCCUPATION_TYPE_Drivers', 'OCCUPATION_TYPE_HR staff',\n       'OCCUPATION_TYPE_High skill tech staff', 'OCCUPATION_TYPE_IT staff',\n       'OCCUPATION_TYPE_Laborers', 'OCCUPATION_TYPE_Low-skill Laborers',\n       'OCCUPATION_TYPE_Managers', 'OCCUPATION_TYPE_Medicine staff',\n       'OCCUPATION_TYPE_Private service staff',\n       'OCCUPATION_TYPE_Realty agents', 'OCCUPATION_TYPE_Sales staff',\n       'OCCUPATION_TYPE_Secretaries', 'OCCUPATION_TYPE_Security staff',\n       'OCCUPATION_TYPE_Waiters/barmen staff'],\n      dtype='object')"
          },
          "execution_count": 56,
          "metadata": {},
          "output_type": "execute_result"
        },
        {
          "name": "stdout",
          "output_type": "stream",
          "text": [
            "time: 0 ns (started: 2023-01-05 22:11:09 -03:00)\n"
          ]
        }
      ],
      "source": [
        "dummies.columns"
      ]
    },
    {
      "cell_type": "code",
      "execution_count": null,
      "metadata": {
        "ExecuteTime": {
          "end_time": "2022-11-22T00:32:51.156921Z",
          "start_time": "2022-11-22T00:32:51.072932Z"
        },
        "colab": {
          "base_uri": "https://localhost:8080/",
          "height": 424
        },
        "execution": {
          "iopub.execute_input": "2022-11-07T23:53:04.116878Z",
          "iopub.status.busy": "2022-11-07T23:53:04.116878Z",
          "iopub.status.idle": "2022-11-07T23:53:04.152803Z",
          "shell.execute_reply": "2022-11-07T23:53:04.152803Z",
          "shell.execute_reply.started": "2022-11-07T23:53:04.116878Z"
        },
        "id": "Vum0bGa8gWbI",
        "outputId": "8c1688a1-27a7-4622-ae0a-dc0ccf390ee4"
      },
      "outputs": [
        {
          "data": {
            "text/plain": "             ID  MONTHS_BALANCE  CNT_CHILDREN  AMT_INCOME_TOTAL  FLAG_MOBIL  \\\n489996  5096070             -27             0          180000.0           1   \n293437  5061151             -20             3          202500.0           1   \n544675  5111166             -23             0          202500.0           1   \n688170  5137185              -1             0           67500.0           1   \n582519  5115498               0             2          225000.0           1   \n...         ...             ...           ...               ...         ...   \n671902  5135383             -15             0          387000.0           1   \n407258  5087865              -5             0          112500.0           1   \n414103  5088990             -29             2          171000.0           1   \n567880  5113868             -41             0           90000.0           1   \n532146  5105523             -43             0          135000.0           1   \n\n        FLAG_WORK_PHONE  FLAG_PHONE  FLAG_EMAIL  CNT_FAM_MEMBERS        AGE  \\\n489996                1           0           1              2.0  40.939726   \n293437                0           1           0              5.0  36.438356   \n544675                0           1           1              1.0  36.830137   \n688170                1           0           0              2.0  31.246575   \n582519                0           0           0              4.0  44.065753   \n...                 ...         ...         ...              ...        ...   \n671902                0           0           0              2.0  55.019178   \n407258                0           0           0              2.0  66.627397   \n414103                1           1           0              4.0  40.060274   \n567880                0           0           0              2.0  44.150685   \n532146                0           0           0              2.0  27.273973   \n\n        YEARS_EMPLOYED  \n489996        4.520548  \n293437       10.049315  \n544675        6.904110  \n688170        5.298630  \n582519        3.786301  \n...                ...  \n671902       13.641096  \n407258        0.000000  \n414103        3.178082  \n567880        2.698630  \n532146        5.578082  \n\n[100000 rows x 11 columns]",
            "text/html": "<div>\n<style scoped>\n    .dataframe tbody tr th:only-of-type {\n        vertical-align: middle;\n    }\n\n    .dataframe tbody tr th {\n        vertical-align: top;\n    }\n\n    .dataframe thead th {\n        text-align: right;\n    }\n</style>\n<table border=\"1\" class=\"dataframe\">\n  <thead>\n    <tr style=\"text-align: right;\">\n      <th></th>\n      <th>ID</th>\n      <th>MONTHS_BALANCE</th>\n      <th>CNT_CHILDREN</th>\n      <th>AMT_INCOME_TOTAL</th>\n      <th>FLAG_MOBIL</th>\n      <th>FLAG_WORK_PHONE</th>\n      <th>FLAG_PHONE</th>\n      <th>FLAG_EMAIL</th>\n      <th>CNT_FAM_MEMBERS</th>\n      <th>AGE</th>\n      <th>YEARS_EMPLOYED</th>\n    </tr>\n  </thead>\n  <tbody>\n    <tr>\n      <th>489996</th>\n      <td>5096070</td>\n      <td>-27</td>\n      <td>0</td>\n      <td>180000.0</td>\n      <td>1</td>\n      <td>1</td>\n      <td>0</td>\n      <td>1</td>\n      <td>2.0</td>\n      <td>40.939726</td>\n      <td>4.520548</td>\n    </tr>\n    <tr>\n      <th>293437</th>\n      <td>5061151</td>\n      <td>-20</td>\n      <td>3</td>\n      <td>202500.0</td>\n      <td>1</td>\n      <td>0</td>\n      <td>1</td>\n      <td>0</td>\n      <td>5.0</td>\n      <td>36.438356</td>\n      <td>10.049315</td>\n    </tr>\n    <tr>\n      <th>544675</th>\n      <td>5111166</td>\n      <td>-23</td>\n      <td>0</td>\n      <td>202500.0</td>\n      <td>1</td>\n      <td>0</td>\n      <td>1</td>\n      <td>1</td>\n      <td>1.0</td>\n      <td>36.830137</td>\n      <td>6.904110</td>\n    </tr>\n    <tr>\n      <th>688170</th>\n      <td>5137185</td>\n      <td>-1</td>\n      <td>0</td>\n      <td>67500.0</td>\n      <td>1</td>\n      <td>1</td>\n      <td>0</td>\n      <td>0</td>\n      <td>2.0</td>\n      <td>31.246575</td>\n      <td>5.298630</td>\n    </tr>\n    <tr>\n      <th>582519</th>\n      <td>5115498</td>\n      <td>0</td>\n      <td>2</td>\n      <td>225000.0</td>\n      <td>1</td>\n      <td>0</td>\n      <td>0</td>\n      <td>0</td>\n      <td>4.0</td>\n      <td>44.065753</td>\n      <td>3.786301</td>\n    </tr>\n    <tr>\n      <th>...</th>\n      <td>...</td>\n      <td>...</td>\n      <td>...</td>\n      <td>...</td>\n      <td>...</td>\n      <td>...</td>\n      <td>...</td>\n      <td>...</td>\n      <td>...</td>\n      <td>...</td>\n      <td>...</td>\n    </tr>\n    <tr>\n      <th>671902</th>\n      <td>5135383</td>\n      <td>-15</td>\n      <td>0</td>\n      <td>387000.0</td>\n      <td>1</td>\n      <td>0</td>\n      <td>0</td>\n      <td>0</td>\n      <td>2.0</td>\n      <td>55.019178</td>\n      <td>13.641096</td>\n    </tr>\n    <tr>\n      <th>407258</th>\n      <td>5087865</td>\n      <td>-5</td>\n      <td>0</td>\n      <td>112500.0</td>\n      <td>1</td>\n      <td>0</td>\n      <td>0</td>\n      <td>0</td>\n      <td>2.0</td>\n      <td>66.627397</td>\n      <td>0.000000</td>\n    </tr>\n    <tr>\n      <th>414103</th>\n      <td>5088990</td>\n      <td>-29</td>\n      <td>2</td>\n      <td>171000.0</td>\n      <td>1</td>\n      <td>1</td>\n      <td>1</td>\n      <td>0</td>\n      <td>4.0</td>\n      <td>40.060274</td>\n      <td>3.178082</td>\n    </tr>\n    <tr>\n      <th>567880</th>\n      <td>5113868</td>\n      <td>-41</td>\n      <td>0</td>\n      <td>90000.0</td>\n      <td>1</td>\n      <td>0</td>\n      <td>0</td>\n      <td>0</td>\n      <td>2.0</td>\n      <td>44.150685</td>\n      <td>2.698630</td>\n    </tr>\n    <tr>\n      <th>532146</th>\n      <td>5105523</td>\n      <td>-43</td>\n      <td>0</td>\n      <td>135000.0</td>\n      <td>1</td>\n      <td>0</td>\n      <td>0</td>\n      <td>0</td>\n      <td>2.0</td>\n      <td>27.273973</td>\n      <td>5.578082</td>\n    </tr>\n  </tbody>\n</table>\n<p>100000 rows × 11 columns</p>\n</div>"
          },
          "execution_count": 57,
          "metadata": {},
          "output_type": "execute_result"
        },
        {
          "name": "stdout",
          "output_type": "stream",
          "text": [
            "time: 31 ms (started: 2023-01-05 22:11:09 -03:00)\n"
          ]
        }
      ],
      "source": [
        "x.drop(columns=['CODE_GENDER','FLAG_OWN_CAR','FLAG_OWN_REALTY','NAME_INCOME_TYPE',\n",
        "                'NAME_EDUCATION_TYPE','NAME_FAMILY_STATUS','NAME_HOUSING_TYPE','OCCUPATION_TYPE'], inplace=True)\n",
        "x"
      ]
    },
    {
      "cell_type": "code",
      "execution_count": null,
      "metadata": {
        "ExecuteTime": {
          "end_time": "2022-11-22T00:32:51.403927Z",
          "start_time": "2022-11-22T00:32:51.156921Z"
        },
        "colab": {
          "base_uri": "https://localhost:8080/",
          "height": 505
        },
        "execution": {
          "iopub.execute_input": "2022-11-07T23:53:04.153803Z",
          "iopub.status.busy": "2022-11-07T23:53:04.152803Z",
          "iopub.status.idle": "2022-11-07T23:53:04.259552Z",
          "shell.execute_reply": "2022-11-07T23:53:04.259552Z",
          "shell.execute_reply.started": "2022-11-07T23:53:04.153803Z"
        },
        "id": "WEPNILv8h0Mz",
        "outputId": "531f2757-be24-44ce-ce86-39eb47fbc164"
      },
      "outputs": [
        {
          "data": {
            "text/plain": "             ID  MONTHS_BALANCE  CNT_CHILDREN  AMT_INCOME_TOTAL  FLAG_MOBIL  \\\n489996  5096070             -27             0          180000.0           1   \n293437  5061151             -20             3          202500.0           1   \n544675  5111166             -23             0          202500.0           1   \n688170  5137185              -1             0           67500.0           1   \n582519  5115498               0             2          225000.0           1   \n...         ...             ...           ...               ...         ...   \n671902  5135383             -15             0          387000.0           1   \n407258  5087865              -5             0          112500.0           1   \n414103  5088990             -29             2          171000.0           1   \n567880  5113868             -41             0           90000.0           1   \n532146  5105523             -43             0          135000.0           1   \n\n        FLAG_WORK_PHONE  FLAG_PHONE  FLAG_EMAIL  CNT_FAM_MEMBERS        AGE  \\\n489996                1           0           1              2.0  40.939726   \n293437                0           1           0              5.0  36.438356   \n544675                0           1           1              1.0  36.830137   \n688170                1           0           0              2.0  31.246575   \n582519                0           0           0              4.0  44.065753   \n...                 ...         ...         ...              ...        ...   \n671902                0           0           0              2.0  55.019178   \n407258                0           0           0              2.0  66.627397   \n414103                1           1           0              4.0  40.060274   \n567880                0           0           0              2.0  44.150685   \n532146                0           0           0              2.0  27.273973   \n\n        ...  OCCUPATION_TYPE_Laborers  OCCUPATION_TYPE_Low-skill Laborers  \\\n489996  ...                         0                                   0   \n293437  ...                         0                                   0   \n544675  ...                         0                                   0   \n688170  ...                         0                                   0   \n582519  ...                         1                                   0   \n...     ...                       ...                                 ...   \n671902  ...                         0                                   0   \n407258  ...                         0                                   0   \n414103  ...                         0                                   0   \n567880  ...                         0                                   0   \n532146  ...                         0                                   0   \n\n        OCCUPATION_TYPE_Managers  OCCUPATION_TYPE_Medicine staff  \\\n489996                         0                               0   \n293437                         0                               0   \n544675                         1                               0   \n688170                         0                               0   \n582519                         0                               0   \n...                          ...                             ...   \n671902                         0                               0   \n407258                         0                               0   \n414103                         0                               0   \n567880                         0                               0   \n532146                         0                               0   \n\n        OCCUPATION_TYPE_Private service staff  OCCUPATION_TYPE_Realty agents  \\\n489996                                      0                              0   \n293437                                      0                              0   \n544675                                      0                              0   \n688170                                      0                              0   \n582519                                      0                              0   \n...                                       ...                            ...   \n671902                                      0                              0   \n407258                                      0                              0   \n414103                                      0                              0   \n567880                                      0                              0   \n532146                                      0                              0   \n\n        OCCUPATION_TYPE_Sales staff  OCCUPATION_TYPE_Secretaries  \\\n489996                            0                            0   \n293437                            0                            0   \n544675                            0                            0   \n688170                            0                            0   \n582519                            0                            0   \n...                             ...                          ...   \n671902                            1                            0   \n407258                            0                            0   \n414103                            0                            0   \n567880                            1                            0   \n532146                            0                            0   \n\n        OCCUPATION_TYPE_Security staff  OCCUPATION_TYPE_Waiters/barmen staff  \n489996                               0                                     0  \n293437                               0                                     0  \n544675                               0                                     0  \n688170                               0                                     0  \n582519                               0                                     0  \n...                                ...                                   ...  \n671902                               0                                     0  \n407258                               0                                     0  \n414103                               0                                     0  \n567880                               0                                     0  \n532146                               0                                     0  \n\n[100000 rows x 47 columns]",
            "text/html": "<div>\n<style scoped>\n    .dataframe tbody tr th:only-of-type {\n        vertical-align: middle;\n    }\n\n    .dataframe tbody tr th {\n        vertical-align: top;\n    }\n\n    .dataframe thead th {\n        text-align: right;\n    }\n</style>\n<table border=\"1\" class=\"dataframe\">\n  <thead>\n    <tr style=\"text-align: right;\">\n      <th></th>\n      <th>ID</th>\n      <th>MONTHS_BALANCE</th>\n      <th>CNT_CHILDREN</th>\n      <th>AMT_INCOME_TOTAL</th>\n      <th>FLAG_MOBIL</th>\n      <th>FLAG_WORK_PHONE</th>\n      <th>FLAG_PHONE</th>\n      <th>FLAG_EMAIL</th>\n      <th>CNT_FAM_MEMBERS</th>\n      <th>AGE</th>\n      <th>...</th>\n      <th>OCCUPATION_TYPE_Laborers</th>\n      <th>OCCUPATION_TYPE_Low-skill Laborers</th>\n      <th>OCCUPATION_TYPE_Managers</th>\n      <th>OCCUPATION_TYPE_Medicine staff</th>\n      <th>OCCUPATION_TYPE_Private service staff</th>\n      <th>OCCUPATION_TYPE_Realty agents</th>\n      <th>OCCUPATION_TYPE_Sales staff</th>\n      <th>OCCUPATION_TYPE_Secretaries</th>\n      <th>OCCUPATION_TYPE_Security staff</th>\n      <th>OCCUPATION_TYPE_Waiters/barmen staff</th>\n    </tr>\n  </thead>\n  <tbody>\n    <tr>\n      <th>489996</th>\n      <td>5096070</td>\n      <td>-27</td>\n      <td>0</td>\n      <td>180000.0</td>\n      <td>1</td>\n      <td>1</td>\n      <td>0</td>\n      <td>1</td>\n      <td>2.0</td>\n      <td>40.939726</td>\n      <td>...</td>\n      <td>0</td>\n      <td>0</td>\n      <td>0</td>\n      <td>0</td>\n      <td>0</td>\n      <td>0</td>\n      <td>0</td>\n      <td>0</td>\n      <td>0</td>\n      <td>0</td>\n    </tr>\n    <tr>\n      <th>293437</th>\n      <td>5061151</td>\n      <td>-20</td>\n      <td>3</td>\n      <td>202500.0</td>\n      <td>1</td>\n      <td>0</td>\n      <td>1</td>\n      <td>0</td>\n      <td>5.0</td>\n      <td>36.438356</td>\n      <td>...</td>\n      <td>0</td>\n      <td>0</td>\n      <td>0</td>\n      <td>0</td>\n      <td>0</td>\n      <td>0</td>\n      <td>0</td>\n      <td>0</td>\n      <td>0</td>\n      <td>0</td>\n    </tr>\n    <tr>\n      <th>544675</th>\n      <td>5111166</td>\n      <td>-23</td>\n      <td>0</td>\n      <td>202500.0</td>\n      <td>1</td>\n      <td>0</td>\n      <td>1</td>\n      <td>1</td>\n      <td>1.0</td>\n      <td>36.830137</td>\n      <td>...</td>\n      <td>0</td>\n      <td>0</td>\n      <td>1</td>\n      <td>0</td>\n      <td>0</td>\n      <td>0</td>\n      <td>0</td>\n      <td>0</td>\n      <td>0</td>\n      <td>0</td>\n    </tr>\n    <tr>\n      <th>688170</th>\n      <td>5137185</td>\n      <td>-1</td>\n      <td>0</td>\n      <td>67500.0</td>\n      <td>1</td>\n      <td>1</td>\n      <td>0</td>\n      <td>0</td>\n      <td>2.0</td>\n      <td>31.246575</td>\n      <td>...</td>\n      <td>0</td>\n      <td>0</td>\n      <td>0</td>\n      <td>0</td>\n      <td>0</td>\n      <td>0</td>\n      <td>0</td>\n      <td>0</td>\n      <td>0</td>\n      <td>0</td>\n    </tr>\n    <tr>\n      <th>582519</th>\n      <td>5115498</td>\n      <td>0</td>\n      <td>2</td>\n      <td>225000.0</td>\n      <td>1</td>\n      <td>0</td>\n      <td>0</td>\n      <td>0</td>\n      <td>4.0</td>\n      <td>44.065753</td>\n      <td>...</td>\n      <td>1</td>\n      <td>0</td>\n      <td>0</td>\n      <td>0</td>\n      <td>0</td>\n      <td>0</td>\n      <td>0</td>\n      <td>0</td>\n      <td>0</td>\n      <td>0</td>\n    </tr>\n    <tr>\n      <th>...</th>\n      <td>...</td>\n      <td>...</td>\n      <td>...</td>\n      <td>...</td>\n      <td>...</td>\n      <td>...</td>\n      <td>...</td>\n      <td>...</td>\n      <td>...</td>\n      <td>...</td>\n      <td>...</td>\n      <td>...</td>\n      <td>...</td>\n      <td>...</td>\n      <td>...</td>\n      <td>...</td>\n      <td>...</td>\n      <td>...</td>\n      <td>...</td>\n      <td>...</td>\n      <td>...</td>\n    </tr>\n    <tr>\n      <th>671902</th>\n      <td>5135383</td>\n      <td>-15</td>\n      <td>0</td>\n      <td>387000.0</td>\n      <td>1</td>\n      <td>0</td>\n      <td>0</td>\n      <td>0</td>\n      <td>2.0</td>\n      <td>55.019178</td>\n      <td>...</td>\n      <td>0</td>\n      <td>0</td>\n      <td>0</td>\n      <td>0</td>\n      <td>0</td>\n      <td>0</td>\n      <td>1</td>\n      <td>0</td>\n      <td>0</td>\n      <td>0</td>\n    </tr>\n    <tr>\n      <th>407258</th>\n      <td>5087865</td>\n      <td>-5</td>\n      <td>0</td>\n      <td>112500.0</td>\n      <td>1</td>\n      <td>0</td>\n      <td>0</td>\n      <td>0</td>\n      <td>2.0</td>\n      <td>66.627397</td>\n      <td>...</td>\n      <td>0</td>\n      <td>0</td>\n      <td>0</td>\n      <td>0</td>\n      <td>0</td>\n      <td>0</td>\n      <td>0</td>\n      <td>0</td>\n      <td>0</td>\n      <td>0</td>\n    </tr>\n    <tr>\n      <th>414103</th>\n      <td>5088990</td>\n      <td>-29</td>\n      <td>2</td>\n      <td>171000.0</td>\n      <td>1</td>\n      <td>1</td>\n      <td>1</td>\n      <td>0</td>\n      <td>4.0</td>\n      <td>40.060274</td>\n      <td>...</td>\n      <td>0</td>\n      <td>0</td>\n      <td>0</td>\n      <td>0</td>\n      <td>0</td>\n      <td>0</td>\n      <td>0</td>\n      <td>0</td>\n      <td>0</td>\n      <td>0</td>\n    </tr>\n    <tr>\n      <th>567880</th>\n      <td>5113868</td>\n      <td>-41</td>\n      <td>0</td>\n      <td>90000.0</td>\n      <td>1</td>\n      <td>0</td>\n      <td>0</td>\n      <td>0</td>\n      <td>2.0</td>\n      <td>44.150685</td>\n      <td>...</td>\n      <td>0</td>\n      <td>0</td>\n      <td>0</td>\n      <td>0</td>\n      <td>0</td>\n      <td>0</td>\n      <td>1</td>\n      <td>0</td>\n      <td>0</td>\n      <td>0</td>\n    </tr>\n    <tr>\n      <th>532146</th>\n      <td>5105523</td>\n      <td>-43</td>\n      <td>0</td>\n      <td>135000.0</td>\n      <td>1</td>\n      <td>0</td>\n      <td>0</td>\n      <td>0</td>\n      <td>2.0</td>\n      <td>27.273973</td>\n      <td>...</td>\n      <td>0</td>\n      <td>0</td>\n      <td>0</td>\n      <td>0</td>\n      <td>0</td>\n      <td>0</td>\n      <td>0</td>\n      <td>0</td>\n      <td>0</td>\n      <td>0</td>\n    </tr>\n  </tbody>\n</table>\n<p>100000 rows × 47 columns</p>\n</div>"
          },
          "execution_count": 58,
          "metadata": {},
          "output_type": "execute_result"
        },
        {
          "name": "stdout",
          "output_type": "stream",
          "text": [
            "time: 47 ms (started: 2023-01-05 22:11:09 -03:00)\n"
          ]
        }
      ],
      "source": [
        "x = x.join(dummies)\n",
        "x"
      ]
    },
    {
      "cell_type": "code",
      "source": [
        "x.columns"
      ],
      "metadata": {
        "colab": {
          "base_uri": "https://localhost:8080/"
        },
        "id": "Hg2rG_AfpN2s",
        "outputId": "940c06ed-834b-4e13-a969-e88f786177f8"
      },
      "execution_count": null,
      "outputs": [
        {
          "data": {
            "text/plain": "Index(['ID', 'MONTHS_BALANCE', 'CNT_CHILDREN', 'AMT_INCOME_TOTAL',\n       'FLAG_MOBIL', 'FLAG_WORK_PHONE', 'FLAG_PHONE', 'FLAG_EMAIL',\n       'CNT_FAM_MEMBERS', 'AGE', 'YEARS_EMPLOYED', 'CODE_GENDER',\n       'NAME_INCOME_TYPE_Pensioner', 'NAME_INCOME_TYPE_State servant',\n       'NAME_INCOME_TYPE_Student', 'NAME_INCOME_TYPE_Working',\n       'NAME_EDUCATION_TYPE_Higher education',\n       'NAME_EDUCATION_TYPE_Incomplete higher',\n       'NAME_EDUCATION_TYPE_Lower secondary',\n       'NAME_EDUCATION_TYPE_Secondary / secondary special',\n       'NAME_FAMILY_STATUS_Married', 'NAME_FAMILY_STATUS_Separated',\n       'NAME_FAMILY_STATUS_Single / not married', 'NAME_FAMILY_STATUS_Widow',\n       'NAME_HOUSING_TYPE_House / apartment',\n       'NAME_HOUSING_TYPE_Municipal apartment',\n       'NAME_HOUSING_TYPE_Office apartment',\n       'NAME_HOUSING_TYPE_Rented apartment', 'NAME_HOUSING_TYPE_With parents',\n       'OCCUPATION_TYPE_Accountants', 'OCCUPATION_TYPE_Cleaning staff',\n       'OCCUPATION_TYPE_Cooking staff', 'OCCUPATION_TYPE_Core staff',\n       'OCCUPATION_TYPE_Drivers', 'OCCUPATION_TYPE_HR staff',\n       'OCCUPATION_TYPE_High skill tech staff', 'OCCUPATION_TYPE_IT staff',\n       'OCCUPATION_TYPE_Laborers', 'OCCUPATION_TYPE_Low-skill Laborers',\n       'OCCUPATION_TYPE_Managers', 'OCCUPATION_TYPE_Medicine staff',\n       'OCCUPATION_TYPE_Private service staff',\n       'OCCUPATION_TYPE_Realty agents', 'OCCUPATION_TYPE_Sales staff',\n       'OCCUPATION_TYPE_Secretaries', 'OCCUPATION_TYPE_Security staff',\n       'OCCUPATION_TYPE_Waiters/barmen staff'],\n      dtype='object')"
          },
          "execution_count": 59,
          "metadata": {},
          "output_type": "execute_result"
        },
        {
          "name": "stdout",
          "output_type": "stream",
          "text": [
            "time: 0 ns (started: 2023-01-05 22:11:09 -03:00)\n"
          ]
        }
      ]
    },
    {
      "cell_type": "code",
      "execution_count": null,
      "metadata": {
        "ExecuteTime": {
          "end_time": "2022-11-22T00:32:51.485474Z",
          "start_time": "2022-11-22T00:32:51.405375Z"
        },
        "execution": {
          "iopub.execute_input": "2022-11-07T23:53:04.260552Z",
          "iopub.status.busy": "2022-11-07T23:53:04.259552Z",
          "iopub.status.idle": "2022-11-07T23:53:04.305583Z",
          "shell.execute_reply": "2022-11-07T23:53:04.305583Z",
          "shell.execute_reply.started": "2022-11-07T23:53:04.260552Z"
        },
        "id": "Q_sNQiVk5_OC",
        "outputId": "1af3b549-8245-4066-8b47-07613f77cf23"
      },
      "outputs": [
        {
          "name": "stdout",
          "output_type": "stream",
          "text": [
            "time: 15 ms (started: 2023-01-05 22:11:09 -03:00)\n"
          ]
        }
      ],
      "source": [
        "#Eliminamos las columnas 'ID' y 'MONTHS_BALANCE' para que el modelo no aprenda de ellas, ya que no tienen relevancia en el contexto comercial\n",
        "x.drop(columns=['ID','MONTHS_BALANCE'],inplace=True)"
      ]
    },
    {
      "cell_type": "code",
      "execution_count": null,
      "metadata": {
        "ExecuteTime": {
          "end_time": "2022-11-22T00:32:52.155101Z",
          "start_time": "2022-11-22T00:32:51.485474Z"
        },
        "execution": {
          "iopub.execute_input": "2022-11-07T23:53:04.306583Z",
          "iopub.status.busy": "2022-11-07T23:53:04.305583Z",
          "iopub.status.idle": "2022-11-07T23:53:04.671663Z",
          "shell.execute_reply": "2022-11-07T23:53:04.671663Z",
          "shell.execute_reply.started": "2022-11-07T23:53:04.306583Z"
        },
        "id": "-VL189r54Q-U",
        "outputId": "18ca6832-873b-4a01-ff36-2e592eda6606"
      },
      "outputs": [
        {
          "data": {
            "text/plain": "array([[-0.57742978, -0.08711024,  0.        , ..., -0.06337243,\n        -0.12715039, -0.05806314],\n       [ 3.43417076,  0.13260482,  0.        , ..., -0.06337243,\n        -0.12715039, -0.05806314],\n       [-0.57742978,  0.13260482,  0.        , ..., -0.06337243,\n        -0.12715039, -0.05806314],\n       ...,\n       [ 2.09697058, -0.17499627,  0.        , ..., -0.06337243,\n        -0.12715039, -0.05806314],\n       [-0.57742978, -0.9659705 ,  0.        , ..., -0.06337243,\n        -0.12715039, -0.05806314],\n       [-0.57742978, -0.52654037,  0.        , ..., -0.06337243,\n        -0.12715039, -0.05806314]])"
          },
          "execution_count": 61,
          "metadata": {},
          "output_type": "execute_result"
        },
        {
          "name": "stdout",
          "output_type": "stream",
          "text": [
            "time: 125 ms (started: 2023-01-05 22:11:09 -03:00)\n"
          ]
        }
      ],
      "source": [
        "#Escalando el dataset\n",
        "scaler=StandardScaler(copy=False)\n",
        "x=scaler.fit_transform(x)\n",
        "x1=x.copy()\n",
        "x"
      ]
    },
    {
      "cell_type": "markdown",
      "metadata": {
        "id": "f9U9JiU03SbM"
      },
      "source": [
        "## Separando dataset en un set de train  y test "
      ]
    },
    {
      "cell_type": "markdown",
      "metadata": {
        "id": "OVa_WBPNarXu"
      },
      "source": [
        "A continuación dividmos la muestra en train (70%) y test (30%)"
      ]
    },
    {
      "cell_type": "code",
      "execution_count": null,
      "metadata": {
        "ExecuteTime": {
          "end_time": "2022-11-22T00:32:52.599836Z",
          "start_time": "2022-11-22T00:32:52.156101Z"
        },
        "execution": {
          "iopub.execute_input": "2022-11-07T23:53:04.672663Z",
          "iopub.status.busy": "2022-11-07T23:53:04.671663Z",
          "iopub.status.idle": "2022-11-07T23:53:04.998911Z",
          "shell.execute_reply": "2022-11-07T23:53:04.998911Z",
          "shell.execute_reply.started": "2022-11-07T23:53:04.672663Z"
        },
        "id": "cSwmCKFEZiEy",
        "outputId": "4bf7ee0d-178c-4a61-f71a-5491cb0aace0"
      },
      "outputs": [
        {
          "name": "stdout",
          "output_type": "stream",
          "text": [
            "time: 78 ms (started: 2023-01-05 22:11:10 -03:00)\n"
          ]
        }
      ],
      "source": [
        "x_train,x_test,y_train,y_test = train_test_split(x,y,test_size=0.3,random_state=2)"
      ]
    },
    {
      "cell_type": "code",
      "execution_count": null,
      "metadata": {
        "ExecuteTime": {
          "end_time": "2022-11-22T00:32:52.604360Z",
          "start_time": "2022-11-22T00:32:52.601341Z"
        },
        "colab": {
          "base_uri": "https://localhost:8080/"
        },
        "execution": {
          "iopub.execute_input": "2022-11-07T23:53:04.999911Z",
          "iopub.status.busy": "2022-11-07T23:53:04.999911Z",
          "iopub.status.idle": "2022-11-07T23:53:05.003911Z",
          "shell.execute_reply": "2022-11-07T23:53:05.003911Z",
          "shell.execute_reply.started": "2022-11-07T23:53:04.999911Z"
        },
        "id": "hMpwV0QBitEw",
        "outputId": "30bbb47c-1f06-4105-90df-7fbe977dce62"
      },
      "outputs": [
        {
          "data": {
            "text/plain": "array([[-0.57742978,  1.23118015,  0.        , ..., -0.06337243,\n        -0.12715039, -0.05806314],\n       [-0.57742978,  0.13260482,  0.        , ..., -0.06337243,\n        -0.12715039, -0.05806314],\n       [ 2.09697058, -0.52654037,  0.        , ..., -0.06337243,\n        -0.12715039, -0.05806314],\n       ...,\n       [-0.57742978, -0.21893928,  0.        , ..., -0.06337243,\n        -0.12715039, -0.05806314],\n       [-0.57742978, -0.74625544,  0.        , ..., -0.06337243,\n        -0.12715039, -0.05806314],\n       [-0.57742978, -0.9659705 ,  0.        , ..., -0.06337243,\n        -0.12715039, -0.05806314]])"
          },
          "execution_count": 63,
          "metadata": {},
          "output_type": "execute_result"
        },
        {
          "name": "stdout",
          "output_type": "stream",
          "text": [
            "time: 0 ns (started: 2023-01-05 22:11:10 -03:00)\n"
          ]
        }
      ],
      "source": [
        "x_train"
      ]
    },
    {
      "cell_type": "code",
      "execution_count": null,
      "metadata": {
        "ExecuteTime": {
          "end_time": "2022-11-22T00:32:52.620032Z",
          "start_time": "2022-11-22T00:32:52.605360Z"
        },
        "colab": {
          "base_uri": "https://localhost:8080/"
        },
        "execution": {
          "iopub.execute_input": "2022-11-07T23:53:05.004913Z",
          "iopub.status.busy": "2022-11-07T23:53:05.003911Z",
          "iopub.status.idle": "2022-11-07T23:53:05.011736Z",
          "shell.execute_reply": "2022-11-07T23:53:05.011736Z",
          "shell.execute_reply.started": "2022-11-07T23:53:05.004913Z"
        },
        "id": "EX_8wALYivW2",
        "outputId": "d95d2101-da62-4a18-f6bd-0193d37bdf57"
      },
      "outputs": [
        {
          "data": {
            "text/plain": "array([[-0.57742978, -0.17499627,  0.        , ..., -0.06337243,\n        -0.12715039, -0.05806314],\n       [-0.57742978, -0.30682531,  0.        , ..., -0.06337243,\n        -0.12715039, -0.05806314],\n       [-0.57742978,  0.57203495,  0.        , ..., -0.06337243,\n        -0.12715039, -0.05806314],\n       ...,\n       [ 2.09697058, -0.57048339,  0.        , ..., -0.06337243,\n        -0.12715039, -0.05806314],\n       [ 0.7597704 , -0.30682531,  0.        , ..., -0.06337243,\n        -0.12715039, -0.05806314],\n       [-0.57742978, -0.08711024,  0.        , ..., -0.06337243,\n        -0.12715039, -0.05806314]])"
          },
          "execution_count": 64,
          "metadata": {},
          "output_type": "execute_result"
        },
        {
          "name": "stdout",
          "output_type": "stream",
          "text": [
            "time: 0 ns (started: 2023-01-05 22:11:10 -03:00)\n"
          ]
        }
      ],
      "source": [
        "x_test"
      ]
    },
    {
      "cell_type": "code",
      "execution_count": null,
      "metadata": {
        "ExecuteTime": {
          "end_time": "2022-11-22T00:32:52.639172Z",
          "start_time": "2022-11-22T00:32:52.621033Z"
        },
        "colab": {
          "base_uri": "https://localhost:8080/"
        },
        "execution": {
          "iopub.execute_input": "2022-11-07T23:53:05.012735Z",
          "iopub.status.busy": "2022-11-07T23:53:05.011736Z",
          "iopub.status.idle": "2022-11-07T23:53:05.022946Z",
          "shell.execute_reply": "2022-11-07T23:53:05.022946Z",
          "shell.execute_reply.started": "2022-11-07T23:53:05.012735Z"
        },
        "id": "4LSkXNf-ixV5",
        "outputId": "7da3298c-fe60-4e5e-c739-a6958ea1fd16"
      },
      "outputs": [
        {
          "data": {
            "text/plain": "435833    1\n537025    0\n460566    1\n1194      1\n387366    1\n         ..\n173774    1\n175624    0\n449434    0\n751775    1\n724128    0\nName: STATUS, Length: 70000, dtype: int32"
          },
          "execution_count": 65,
          "metadata": {},
          "output_type": "execute_result"
        },
        {
          "name": "stdout",
          "output_type": "stream",
          "text": [
            "time: 0 ns (started: 2023-01-05 22:11:10 -03:00)\n"
          ]
        }
      ],
      "source": [
        "y_train"
      ]
    },
    {
      "cell_type": "code",
      "execution_count": null,
      "metadata": {
        "ExecuteTime": {
          "end_time": "2022-11-22T00:32:52.652603Z",
          "start_time": "2022-11-22T00:32:52.640172Z"
        },
        "colab": {
          "base_uri": "https://localhost:8080/"
        },
        "execution": {
          "iopub.execute_input": "2022-11-07T23:53:05.023946Z",
          "iopub.status.busy": "2022-11-07T23:53:05.022946Z",
          "iopub.status.idle": "2022-11-07T23:53:05.029946Z",
          "shell.execute_reply": "2022-11-07T23:53:05.029946Z",
          "shell.execute_reply.started": "2022-11-07T23:53:05.023946Z"
        },
        "id": "j1QkUs12jCBM",
        "outputId": "8db58328-1b42-469e-c356-8ca0a33fe058"
      },
      "outputs": [
        {
          "data": {
            "text/plain": "629038    1\n421914    0\n580289    1\n651051    0\n367786    1\n         ..\n239550    1\n328538    1\n737529    1\n512221    1\n431216    1\nName: STATUS, Length: 30000, dtype: int32"
          },
          "execution_count": 66,
          "metadata": {},
          "output_type": "execute_result"
        },
        {
          "name": "stdout",
          "output_type": "stream",
          "text": [
            "time: 15 ms (started: 2023-01-05 22:11:10 -03:00)\n"
          ]
        }
      ],
      "source": [
        "y_test"
      ]
    },
    {
      "cell_type": "code",
      "execution_count": null,
      "metadata": {
        "ExecuteTime": {
          "end_time": "2022-11-22T00:32:52.667027Z",
          "start_time": "2022-11-22T00:32:52.653603Z"
        },
        "colab": {
          "base_uri": "https://localhost:8080/"
        },
        "execution": {
          "iopub.execute_input": "2022-11-07T23:53:05.029946Z",
          "iopub.status.busy": "2022-11-07T23:53:05.029946Z",
          "iopub.status.idle": "2022-11-07T23:53:05.037452Z",
          "shell.execute_reply": "2022-11-07T23:53:05.037452Z",
          "shell.execute_reply.started": "2022-11-07T23:53:05.029946Z"
        },
        "id": "LElLgwg99NgP",
        "outputId": "9c0bde29-8e45-44f4-b439-8f1a1bd7ade4"
      },
      "outputs": [
        {
          "data": {
            "text/plain": "1    56704\n0    13048\n2      248\nName: STATUS, dtype: int64"
          },
          "execution_count": 67,
          "metadata": {},
          "output_type": "execute_result"
        },
        {
          "name": "stdout",
          "output_type": "stream",
          "text": [
            "time: 0 ns (started: 2023-01-05 22:11:10 -03:00)\n"
          ]
        }
      ],
      "source": [
        "y_train.value_counts()"
      ]
    },
    {
      "cell_type": "markdown",
      "metadata": {
        "id": "a0yjfZ66h8KR"
      },
      "source": [
        "## Entrenamiento, Evaluación y Optimización del modelo"
      ]
    },
    {
      "cell_type": "markdown",
      "source": [
        "### RandomForestClassifier"
      ],
      "metadata": {
        "collapsed": false,
        "id": "rTnX17OKB4Yq"
      }
    },
    {
      "cell_type": "markdown",
      "metadata": {
        "id": "JvAtDXzl5ilN"
      },
      "source": [
        "Vamos a utilizar un modelo de clasificación como RandomForestClassifier, utilizando sus parámetros por defecto al principio, a excepción del número de estimadores, el cual elegimos 20, ya que su número por defecto es 100, y nosotros decidimos reducir esta cantidad con el afán de mejorar el rendimiento del código."
      ]
    },
    {
      "cell_type": "code",
      "execution_count": null,
      "outputs": [
        {
          "name": "stdout",
          "output_type": "stream",
          "text": [
            "time: 1.58 s (started: 2023-01-05 22:11:10 -03:00)\n"
          ]
        }
      ],
      "source": [
        "rf_prim = RandomForestClassifier(random_state=42, n_estimators=20)\n",
        "rf_prim.fit(x_train,y_train)\n",
        "y_predicted_rf_prim = rf_prim.predict(x_test)"
      ],
      "metadata": {
        "id": "GVWXWPd0B4Yq",
        "outputId": "bb5c3084-92f7-4e78-d469-46ea9883c7df"
      }
    },
    {
      "cell_type": "code",
      "execution_count": null,
      "outputs": [
        {
          "name": "stdout",
          "output_type": "stream",
          "text": [
            "              precision    recall  f1-score   support\n",
            "\n",
            "           0       0.64      0.43      0.51      5560\n",
            "           1       0.88      0.95      0.91     24335\n",
            "           2       0.57      0.19      0.29       105\n",
            "\n",
            "    accuracy                           0.85     30000\n",
            "   macro avg       0.70      0.52      0.57     30000\n",
            "weighted avg       0.83      0.85      0.83     30000\n",
            "\n",
            "time: 16 ms (started: 2023-01-05 22:11:11 -03:00)\n"
          ]
        }
      ],
      "source": [
        "print(classification_report(y_test,y_predicted_rf_prim))"
      ],
      "metadata": {
        "id": "G-eQ0rgPB4Yr",
        "outputId": "4c242514-e8cf-478e-a0f3-cecac97f2387"
      }
    },
    {
      "cell_type": "code",
      "execution_count": null,
      "outputs": [
        {
          "data": {
            "text/plain": "<Figure size 432x288 with 2 Axes>",
            "image/png": "[encoded data removed]"
          },
          "metadata": {},
          "output_type": "display_data"
        },
        {
          "name": "stdout",
          "output_type": "stream",
          "text": [
            "time: 78 ms (started: 2023-01-05 22:11:11 -03:00)\n"
          ]
        }
      ],
      "source": [
        "cm_rf_prim = confusion_matrix(y_test, y_predicted_rf_prim, labels=rf_prim.classes_)\n",
        "disp_rf_prim = ConfusionMatrixDisplay(confusion_matrix=cm_rf_prim, display_labels=rf_prim.classes_)\n",
        "disp_rf_prim.plot();"
      ],
      "metadata": {
        "id": "QSJQZb5xB4Yr",
        "outputId": "99f62077-3590-4880-c761-c863497794bc"
      }
    },
    {
      "cell_type": "markdown",
      "source": [
        "---"
      ],
      "metadata": {
        "collapsed": false,
        "id": "SMpdO5j2B4Yr"
      }
    },
    {
      "cell_type": "markdown",
      "metadata": {
        "id": "wXaevnAhxwcz"
      },
      "source": [
        "### Evaluacion de métricas obtenidas\n",
        "\n"
      ]
    },
    {
      "cell_type": "markdown",
      "metadata": {
        "id": "xigURPnP9DBL"
      },
      "source": [
        "Las métricas a evaluar son las siguientes:\n",
        "\n",
        "En cuanto al desempeño general de las métricas, podemos observar que la clase 1 es explicada correctamente por el modelo. En especifico una primera interpretacion de los resultados obtenidos en esta metrica son:\n",
        "\n",
        "* **Precisión:** Nos indica que la calidad del modelo es buena debido a que, en caso de aparecer \"buenos clientes pagadores\", los predecirá correctamente en la mayoria de los casos.\n",
        "\n",
        "* **Recall:** Esta metrica nos da a entender con que facilidad el modelo identifica un cliente. En la clase mencionada (1) es elevada, ya que tenemos un numero elevado de verdaderos positivos. \n",
        "\n",
        "* **F1:** Nos indica que tenemos pocos falsos positivos y negativos, lo cual indica que tenemos altas probabilidades que un futuro cliente sea categorizado correctamente. Ademas esta métrica es muy buena para nuestro caso de estudio, ya que se presenta el desbalanceo de clases mencionado en el final.\n",
        "\n",
        "* **Accuracy:** En general, las predicciones realizadas por el modelo se acercan a los datos reales; de todas maneras tuvimos cuidado con esta metrica ya que un valor muy cercano a 1 puede darnos a entender un caso de overfitting.\n",
        "\n",
        "En contraposicion, lo que encontramos fue que para el resto de las clases (0 y 2), los valores de las metricas se encontraban por la mitad o cercanas a 0. De esta manera se observa que el modelo no maneja bien estas clases para predecirlas y categorizarlas con facilidad y precisión, lo que reflejaria que el modelo se encuentra en un caso de underfitting (no podría predecir en base al score crediticio si es un mal pagador o un cliente que no tomó deuda este mes).\n",
        "\n",
        "Para solucionar esto implementaremos la herramienta SMOTE-Tomek\n"
      ]
    },
    {
      "cell_type": "markdown",
      "metadata": {
        "id": "-sDRGQOosksz"
      },
      "source": [
        "### SMOTE-Tomek"
      ]
    },
    {
      "cell_type": "markdown",
      "metadata": {
        "id": "ZY57fRtRFUqC"
      },
      "source": [
        "Técnica muy usada que consiste en aplicar en simultáneo un algoritmo de subsampling y otro de oversampling a la vez al dataset. \n",
        "En este caso usaremos SMOTE para oversampling para buscar puntos vecinos cercanos y agregar puntos “en linea recta” entre ellos, y usaremos Tomek para undersampling que quita los de distinta clase que sean nearest neighbor y deja ver mejor el decisión boundary (la zona limítrofe de nuestras clases)"
      ]
    },
    {
      "cell_type": "code",
      "execution_count": null,
      "metadata": {
        "execution": {
          "iopub.execute_input": "2022-11-07T23:58:53.343489Z",
          "iopub.status.busy": "2022-11-07T23:58:53.343489Z",
          "iopub.status.idle": "2022-11-08T00:12:02.390040Z",
          "shell.execute_reply": "2022-11-08T00:12:02.390040Z",
          "shell.execute_reply.started": "2022-11-07T23:58:53.343489Z"
        },
        "id": "gOWhIHovIdYW",
        "outputId": "8288564c-c074-48b2-a834-dbf4882bd76b"
      },
      "outputs": [
        {
          "name": "stdout",
          "output_type": "stream",
          "text": [
            "time: 21.7 s (started: 2023-01-05 22:11:11 -03:00)\n"
          ]
        }
      ],
      "source": [
        "oversample_st = SMOTETomek(random_state=1)\n",
        "x_train_st, y_train_st = oversample_st.fit_resample(x_train, y_train)\n",
        "x_test_st, y_test_st = oversample_st.fit_resample(x_test, y_test)"
      ]
    },
    {
      "cell_type": "markdown",
      "source": [
        "### Random Forest, post ST"
      ],
      "metadata": {
        "collapsed": false,
        "id": "xKlGos1-B4Ys"
      }
    },
    {
      "cell_type": "markdown",
      "source": [
        "En base a iteraciones entre algoritmos de clasificacion y el posterior analisis de sus métricas, conluimos que el algoritmo mejor ajustado a nuestro proyecto es Random Forest."
      ],
      "metadata": {
        "collapsed": false,
        "id": "SXYIP4E0B4Yt"
      }
    },
    {
      "cell_type": "code",
      "execution_count": null,
      "outputs": [
        {
          "name": "stdout",
          "output_type": "stream",
          "text": [
            "time: 4.5 s (started: 2023-01-05 22:11:33 -03:00)\n"
          ]
        }
      ],
      "source": [
        "rf_st = RandomForestClassifier(random_state=42, n_estimators=20)\n",
        "rf_st.fit(x_train_st,y_train_st)\n",
        "y_predicted_rf_st = rf_st.predict(x_test_st)"
      ],
      "metadata": {
        "id": "j0uXSanIB4Yt",
        "outputId": "45d04030-0c92-4329-a619-d6a99a8dd4c4"
      }
    },
    {
      "cell_type": "code",
      "execution_count": null,
      "outputs": [
        {
          "name": "stdout",
          "output_type": "stream",
          "text": [
            "              precision    recall  f1-score   support\n",
            "\n",
            "           0       0.62      0.79      0.70     24268\n",
            "           1       0.74      0.82      0.78     24272\n",
            "           2       0.97      0.60      0.74     24329\n",
            "\n",
            "    accuracy                           0.74     72869\n",
            "   macro avg       0.78      0.74      0.74     72869\n",
            "weighted avg       0.78      0.74      0.74     72869\n",
            "\n",
            "time: 47 ms (started: 2023-01-05 22:11:38 -03:00)\n"
          ]
        }
      ],
      "source": [
        "print(classification_report(y_test_st,y_predicted_rf_st))"
      ],
      "metadata": {
        "id": "mzFhmpsdB4Yt",
        "outputId": "9a32432c-7ef4-479e-bdb3-c8f2b981c735"
      }
    },
    {
      "cell_type": "code",
      "execution_count": null,
      "outputs": [
        {
          "data": {
            "text/plain": "<Figure size 432x288 with 2 Axes>",
            "image/png": "[encoded data removed]"
          },
          "metadata": {},
          "output_type": "display_data"
        },
        {
          "name": "stdout",
          "output_type": "stream",
          "text": [
            "time: 109 ms (started: 2023-01-05 22:11:38 -03:00)\n"
          ]
        }
      ],
      "source": [
        "cm_rf_st = confusion_matrix(y_test_st, y_predicted_rf_st, labels=rf_st.classes_)\n",
        "disp_rf_st = ConfusionMatrixDisplay(confusion_matrix=cm_rf_st, display_labels=rf_st.classes_)\n",
        "disp_rf_st.plot();"
      ],
      "metadata": {
        "id": "jzL4BgrJB4Yu",
        "outputId": "452843c1-53ee-4eef-ed20-a1045dadc2b8"
      }
    },
    {
      "cell_type": "markdown",
      "source": [
        "### StratifiedKFolds"
      ],
      "metadata": {
        "collapsed": false,
        "id": "DbV6_P2TB4Yu"
      }
    },
    {
      "cell_type": "markdown",
      "source": [
        "Usamos SKF con 5 particiones de nuestra muestra, para realizar una validación cruzada del modelo, y lograr mejores métricas."
      ],
      "metadata": {
        "collapsed": false,
        "id": "vNvMdBw-B4Yu"
      }
    },
    {
      "cell_type": "code",
      "execution_count": null,
      "outputs": [
        {
          "name": "stdout",
          "output_type": "stream",
          "text": [
            "time: 15 ms (started: 2023-01-05 22:11:38 -03:00)\n"
          ]
        }
      ],
      "source": [
        "x_st = np.concatenate((x_train_st, x_test_st), axis=0)\n",
        "y_st = np.concatenate((y_train_st, y_test_st), axis=0)"
      ],
      "metadata": {
        "id": "COyKlypNFWbW",
        "outputId": "9fdd90f0-a919-4698-9c10-108151bddb75"
      }
    },
    {
      "cell_type": "code",
      "execution_count": null,
      "outputs": [
        {
          "data": {
            "text/plain": "(242911, 45)"
          },
          "execution_count": 76,
          "metadata": {},
          "output_type": "execute_result"
        },
        {
          "name": "stdout",
          "output_type": "stream",
          "text": [
            "time: 0 ns (started: 2023-01-05 22:11:38 -03:00)\n"
          ]
        }
      ],
      "source": [
        "x_st.shape"
      ],
      "metadata": {
        "id": "dYFx8YFSFWbW",
        "outputId": "b3848671-dfd3-40c3-cf46-c210c11a5b57"
      }
    },
    {
      "cell_type": "code",
      "execution_count": null,
      "outputs": [
        {
          "data": {
            "text/plain": "array([1, 0, 1, ..., 2, 2, 2])"
          },
          "execution_count": 77,
          "metadata": {},
          "output_type": "execute_result"
        },
        {
          "name": "stdout",
          "output_type": "stream",
          "text": [
            "time: 0 ns (started: 2023-01-05 22:11:38 -03:00)\n"
          ]
        }
      ],
      "source": [
        "y_st"
      ],
      "metadata": {
        "id": "Hy_1kxljFWbX",
        "outputId": "3ccd08dd-f8ed-4f4e-e39f-9a6c20269d5d"
      }
    },
    {
      "cell_type": "code",
      "execution_count": null,
      "outputs": [
        {
          "data": {
            "text/plain": "(242911,)"
          },
          "execution_count": 78,
          "metadata": {},
          "output_type": "execute_result"
        },
        {
          "name": "stdout",
          "output_type": "stream",
          "text": [
            "time: 0 ns (started: 2023-01-05 22:11:38 -03:00)\n"
          ]
        }
      ],
      "source": [
        "y_st.shape"
      ],
      "metadata": {
        "id": "U_S-NckNFWbX",
        "outputId": "279db8e7-f16e-41d4-8dd9-fd81eeb6bd3f"
      }
    },
    {
      "cell_type": "code",
      "execution_count": null,
      "outputs": [
        {
          "name": "stdout",
          "output_type": "stream",
          "text": [
            "time: 0 ns (started: 2023-01-05 22:11:38 -03:00)\n"
          ]
        }
      ],
      "source": [
        "skf = StratifiedKFold(n_splits=5, random_state=40, shuffle=True)"
      ],
      "metadata": {
        "id": "ID2SVvX4FWbX",
        "outputId": "9af58983-5d2b-42c8-9ae4-51b5798ee0cf"
      }
    },
    {
      "cell_type": "code",
      "execution_count": null,
      "outputs": [
        {
          "name": "stdout",
          "output_type": "stream",
          "text": [
            "time: 25.2 s (started: 2023-01-05 22:11:38 -03:00)\n"
          ]
        }
      ],
      "source": [
        "# Inicializa la lista para almacenar las puntuaciones F1\n",
        "f1_scores = []\n",
        "\n",
        "# Itera sobre cada submuestra\n",
        "for train_index, test_index in skf.split(x_st, y_st):\n",
        "    # Separa los datos en train y test utilizando los índices obtenidos por la función split\n",
        "    x_train, x_test = x_st[train_index], x_st[test_index]\n",
        "    y_train, y_test = y_st[train_index], y_st[test_index]\n",
        "\n",
        "    # Entrena el modelo con los datos de entrenamiento\n",
        "    rf_st.fit(x_train, y_train)\n",
        "\n",
        "    # Realiza predicciones con el modelo entrenado en los datos de prueba\n",
        "    y_pred = rf_st.predict(x_test)\n",
        "\n",
        "    # Calcula la puntuación F1\n",
        "    f1 = f1_score(y_true=y_test, y_pred=y_pred, average=None)\n",
        "\n",
        "    # Guarda la puntuación F1 en la lista\n",
        "    f1_scores.append(f1)"
      ],
      "metadata": {
        "id": "LP9f3NVYFWbY",
        "outputId": "4fe5ab96-6295-4ecc-d9df-c4e97ac59f4c"
      }
    },
    {
      "cell_type": "code",
      "execution_count": null,
      "outputs": [
        {
          "data": {
            "text/plain": "[array([0.84648043, 0.84248262, 0.99198969]),\n array([0.84981483, 0.8440867 , 0.99192335]),\n array([0.85060976, 0.84444165, 0.99176803]),\n array([0.84741769, 0.84591341, 0.99186942]),\n array([0.84420012, 0.84138921, 0.99275095])]"
          },
          "execution_count": 81,
          "metadata": {},
          "output_type": "execute_result"
        },
        {
          "name": "stdout",
          "output_type": "stream",
          "text": [
            "time: 0 ns (started: 2023-01-05 22:12:03 -03:00)\n"
          ]
        }
      ],
      "source": [
        "f1_scores"
      ],
      "metadata": {
        "id": "H_n8TQ8hFWbY",
        "outputId": "92d049ce-5cf1-4481-fc73-0d7fb2ca55ee"
      }
    },
    {
      "cell_type": "markdown",
      "source": [
        ">Tomaremos la mejor iteración de skf para entrenar nuevamente al modelo y obtener las mejores métricas posibles."
      ],
      "metadata": {
        "collapsed": false,
        "id": "wCQ-jQg1B4Yv"
      }
    },
    {
      "cell_type": "code",
      "execution_count": null,
      "outputs": [
        {
          "name": "stdout",
          "output_type": "stream",
          "text": [
            "time: 31 ms (started: 2023-01-05 22:12:03 -03:00)\n"
          ]
        }
      ],
      "source": [
        "# Obtiene los índices para cada split\n",
        "split_indices = list(skf.split(x_st, y_st))\n",
        "\n",
        "# Selecciona el tercer split\n",
        "train_index, test_index = split_indices[2]"
      ],
      "metadata": {
        "id": "U_fNOnJDFWbZ",
        "outputId": "95c884dc-fd32-4a97-d752-e74954826a51"
      }
    },
    {
      "cell_type": "code",
      "execution_count": null,
      "outputs": [
        {
          "name": "stdout",
          "output_type": "stream",
          "text": [
            "time: 31 ms (started: 2023-01-05 22:12:03 -03:00)\n"
          ]
        }
      ],
      "source": [
        "# Separa los datos en train y test utilizando los índices obtenidos por la función split\n",
        "x_train, x_test = x_st[train_index], x_st[test_index]\n",
        "y_train, y_test = y_st[train_index], y_st[test_index]"
      ],
      "metadata": {
        "id": "7qj0bJVKFWbZ",
        "outputId": "e75b0f4a-1d12-4ab7-c1f9-c889705ffb09"
      }
    },
    {
      "cell_type": "code",
      "execution_count": null,
      "outputs": [
        {
          "name": "stdout",
          "output_type": "stream",
          "text": [
            "              precision    recall  f1-score   support\n",
            "\n",
            "           0       0.84      0.86      0.85     16187\n",
            "           1       0.86      0.83      0.84     16190\n",
            "           2       0.99      1.00      0.99     16205\n",
            "\n",
            "    accuracy                           0.90     48582\n",
            "   macro avg       0.90      0.90      0.90     48582\n",
            "weighted avg       0.90      0.90      0.90     48582\n",
            "\n",
            "time: 4.99 s (started: 2023-01-05 22:12:03 -03:00)\n"
          ]
        }
      ],
      "source": [
        "# Entrena el modelo con los datos de entrenamiento\n",
        "rf_st.fit(x_train, y_train)\n",
        "\n",
        "# Realiza predicciones con el modelo entrenado en los datos de prueba\n",
        "y_pred = rf_st.predict(x_test)\n",
        "\n",
        "print(classification_report(y_test,y_pred))"
      ],
      "metadata": {
        "id": "YW9Ls_HtFWbZ",
        "outputId": "b4fa37d7-3ce3-4b84-c6e0-007d77f93683"
      }
    },
    {
      "cell_type": "code",
      "execution_count": null,
      "outputs": [
        {
          "data": {
            "text/plain": "<Figure size 432x288 with 2 Axes>",
            "image/png": "[encoded data removed]"
          },
          "metadata": {},
          "output_type": "display_data"
        },
        {
          "name": "stdout",
          "output_type": "stream",
          "text": [
            "time: 141 ms (started: 2023-01-05 22:12:08 -03:00)\n"
          ]
        }
      ],
      "source": [
        "cm_rf_cv = confusion_matrix(y_test, y_pred, labels=rf_st.classes_)\n",
        "disp_rf_cv = ConfusionMatrixDisplay(confusion_matrix=cm_rf_cv, display_labels=rf_st.classes_)\n",
        "disp_rf_cv.plot();"
      ],
      "metadata": {
        "id": "6ilWJIuKFWba",
        "outputId": "f8dcc118-61fa-4804-a64f-bf752b2622c1"
      }
    },
    {
      "cell_type": "markdown",
      "metadata": {
        "id": "CPhXBe375v5c"
      },
      "source": [
        "### RandomizedSearchCV-RF\n"
      ]
    },
    {
      "cell_type": "markdown",
      "source": [
        "Buscarémos la mejor combinación de parámetros para nuestro modelo."
      ],
      "metadata": {
        "collapsed": false,
        "id": "IdkTMhi3B4Yw"
      }
    },
    {
      "cell_type": "code",
      "execution_count": null,
      "metadata": {
        "id": "JDXmtJPB503C",
        "outputId": "34c180fa-460e-48fd-d8a8-62436bacb204"
      },
      "outputs": [
        {
          "name": "stdout",
          "output_type": "stream",
          "text": [
            "time: 0 ns (started: 2023-01-05 22:12:08 -03:00)\n"
          ]
        }
      ],
      "source": [
        "rf_grid = RandomForestClassifier(random_state=42)\n",
        "params = {\n",
        "    'n_estimators' : [10,100,200], #cantidad de arboles del modelo\n",
        "    'criterion':['gini', 'entropy', 'log_loss'], #para medir la calidad de las ramificaciones\n",
        "    'max_depth': [5,10,None], #profundidad máxima del arbol\n",
        "    'max_features':['sqrt', 'log2', None] #cant de variables a considerar para hacer las ramificaciones\n",
        "    #If “sqrt”, then max_features=sqrt(n_features); If “log2”, then max_features=log2(n_features) ;If None, then max_features=n_features.\n",
        "}\n",
        "\n",
        "grid_random_forest = RandomizedSearchCV (random_state=42,\n",
        "                                         estimator = rf_grid,\n",
        "                                         param_distributions = params,\n",
        "                                         n_iter= 5,\n",
        "                                         scoring = ['f1','recall'],  #metricas en base a las cuales quiero que decida que hiperparametros son mejores\n",
        "                                         n_jobs = -1,#Cant de corridas en paralelo, -1 es para que use todos los procesadores\n",
        "                                         refit='f1')"
      ]
    },
    {
      "cell_type": "code",
      "execution_count": null,
      "metadata": {
        "id": "m9i7o1hhCd8Q",
        "outputId": "7df5ed7e-d93e-4620-bc92-d7953c42ddd4"
      },
      "outputs": [
        {
          "name": "stderr",
          "output_type": "stream",
          "text": [
            "C:\\Users\\Patricio\\AppData\\Roaming\\Python\\Python39\\site-packages\\sklearn\\model_selection\\_search.py:953: UserWarning:\n",
            "\n",
            "One or more of the test scores are non-finite: [nan nan nan nan nan]\n",
            "\n"
          ]
        },
        {
          "name": "stdout",
          "output_type": "stream",
          "text": [
            "time: 45 s (started: 2023-01-05 22:12:08 -03:00)\n"
          ]
        }
      ],
      "source": [
        "#Se entrena al modelo con la grilla\n",
        "grid_random_forest_fitted=grid_random_forest.fit(x_train, y_train)"
      ]
    },
    {
      "cell_type": "code",
      "execution_count": null,
      "metadata": {
        "id": "mDzYv2z6DK0M",
        "outputId": "0c31e3e3-0414-43aa-8302-6570387a1863"
      },
      "outputs": [
        {
          "name": "stdout",
          "output_type": "stream",
          "text": [
            "nan\n",
            "{'n_estimators': 10, 'max_features': 'log2', 'max_depth': 5, 'criterion': 'entropy'}\n",
            "time: 0 ns (started: 2023-01-05 22:12:53 -03:00)\n"
          ]
        }
      ],
      "source": [
        "print(grid_random_forest.best_score_) #para ver el mejor scoring logrado\n",
        "print(grid_random_forest.best_params_) #para ver los parámetros que logran ese mejor scoring"
      ]
    },
    {
      "cell_type": "markdown",
      "source": [
        "## Entrenar modelo con los nuevos parametros"
      ],
      "metadata": {
        "collapsed": false,
        "id": "8eILSqXOFWbd"
      }
    },
    {
      "cell_type": "code",
      "execution_count": null,
      "outputs": [
        {
          "name": "stdout",
          "output_type": "stream",
          "text": [
            "time: 0 ns (started: 2023-01-05 22:12:53 -03:00)\n"
          ]
        }
      ],
      "source": [
        "rf_best_sc = RandomForestClassifier(random_state=42,\n",
        "                                    n_estimators=10,\n",
        "                                    max_features= 'log2',\n",
        "                                    max_depth=5,\n",
        "                                    criterion= 'entropy')"
      ],
      "metadata": {
        "id": "AnH_fo5-FWbe",
        "outputId": "a3ae6c3a-0700-475e-be3c-65d2d66b14e9"
      }
    },
    {
      "cell_type": "markdown",
      "source": [
        ">Se procede a entrenar al modelo con los datos de la mejor iteración de skf, y los mejores parámtros según RandomizedSearchCV"
      ],
      "metadata": {
        "collapsed": false,
        "id": "in6VE3YWB4Yx"
      }
    },
    {
      "cell_type": "code",
      "execution_count": null,
      "outputs": [
        {
          "name": "stdout",
          "output_type": "stream",
          "text": [
            "              precision    recall  f1-score   support\n",
            "\n",
            "           0       0.47      0.32      0.38     16187\n",
            "           1       0.53      0.47      0.50     16190\n",
            "           2       0.60      0.85      0.70     16205\n",
            "\n",
            "    accuracy                           0.55     48582\n",
            "   macro avg       0.53      0.55      0.53     48582\n",
            "weighted avg       0.53      0.55      0.53     48582\n",
            "\n",
            "time: 1.03 s (started: 2023-01-05 22:12:53 -03:00)\n"
          ]
        }
      ],
      "source": [
        "# Entrena el modelo con los datos de entrenamiento\n",
        "rf_best_sc.fit(x_train, y_train)\n",
        "\n",
        "# Realiza predicciones con el modelo entrenado en los datos de prueba\n",
        "y_pred_best_sc = rf_best_sc.predict(x_test)\n",
        "\n",
        "print(classification_report(y_test,y_pred_best_sc))"
      ],
      "metadata": {
        "id": "nWkB-GvpFWbe",
        "outputId": "c0547528-6a18-42ca-dbd3-7141f321f217"
      }
    },
    {
      "cell_type": "markdown",
      "source": [
        "## Conclusión\n",
        "\n",
        "Como podemos observar se ve una clara baja de rendimiento al usar los parámetros sugeridos por la grilla, en contraposición al modelo: rf = RandomForestClassifier(random_state=42, n_estimators=20) (en ambos casos se utilizaron los datos correspondientes a la mejor iteración de skf).\n",
        "\n",
        "Por esto decidimos quedarnos con el primer modelo que intentamos"
      ],
      "metadata": {
        "collapsed": false,
        "id": "q4QLpGpfFWbf"
      }
    },
    {
      "cell_type": "markdown",
      "source": [
        "### KNN"
      ],
      "metadata": {
        "id": "wsDjPuk7GMhQ"
      }
    },
    {
      "cell_type": "markdown",
      "source": [
        "En el entrenamiento del modelo k-nearest neighbors, específicamente en el parámetro 'weights', vamos a utilizar la opción 'distance' para que pondere a los vecinos de manera inversa a su distancia respecto del punto observado, además de utilizar n_neighbours=7, ya que es un número muy utilizado y da muy buenos resultados en general. También aclaramos que vamos a usar la distancia euclideana (equivalente a minkowski con p=2, que es la que viene por defecto).\n",
        "\n",
        "Entrenarémos al modelo directamente con los datos de oversampling, ya que se demostro el punto de que el modelo da peores resultados con clases desbalanceadas."
      ],
      "metadata": {
        "id": "AX16C3OJGfnB"
      }
    },
    {
      "cell_type": "code",
      "source": [
        "knn = KNeighborsClassifier(weights='distance',\n",
        "                           n_neighbors=7,\n",
        "                           p=2)"
      ],
      "metadata": {
        "id": "vw6pt0anGisU",
        "outputId": "23d7130b-edcd-48ca-bb03-edf4af1c6803"
      },
      "execution_count": null,
      "outputs": [
        {
          "name": "stdout",
          "output_type": "stream",
          "text": [
            "time: 0 ns (started: 2023-01-05 22:18:52 -03:00)\n"
          ]
        }
      ]
    },
    {
      "cell_type": "code",
      "source": [
        "knn.fit(x_train_st, y_train_st)\n",
        "y_pred_knn = knn.predict(x_test_st)"
      ],
      "metadata": {
        "id": "XMb1rNF-HIk0",
        "outputId": "3f9e2a37-8a92-4527-db07-93ad444397f5"
      },
      "execution_count": null,
      "outputs": [
        {
          "name": "stdout",
          "output_type": "stream",
          "text": [
            "time: 8.08 s (started: 2023-01-05 22:18:56 -03:00)\n"
          ]
        }
      ]
    },
    {
      "cell_type": "code",
      "source": [
        "print(classification_report(y_test_st,y_pred_knn))"
      ],
      "metadata": {
        "id": "_VMk2K1yHuv4",
        "outputId": "b8fd6f98-9694-4c4d-ad56-83b9dc331f1b"
      },
      "execution_count": null,
      "outputs": [
        {
          "name": "stdout",
          "output_type": "stream",
          "text": [
            "              precision    recall  f1-score   support\n",
            "\n",
            "           0       0.76      0.57      0.65     24268\n",
            "           1       0.56      0.90      0.69     24272\n",
            "           2       0.98      0.63      0.76     24329\n",
            "\n",
            "    accuracy                           0.70     72869\n",
            "   macro avg       0.77      0.70      0.70     72869\n",
            "weighted avg       0.77      0.70      0.70     72869\n",
            "\n",
            "time: 47 ms (started: 2023-01-05 22:19:10 -03:00)\n"
          ]
        }
      ]
    },
    {
      "cell_type": "code",
      "source": [
        "cm_knn = confusion_matrix(y_test_st, y_pred_knn, labels=knn.classes_)\n",
        "disp_knn = ConfusionMatrixDisplay(confusion_matrix=cm_knn, display_labels=knn.classes_)\n",
        "disp_knn.plot();"
      ],
      "metadata": {
        "id": "UNiwR-XLH-lS",
        "outputId": "fe38cefc-eed2-4658-ce0d-2703123134ac"
      },
      "execution_count": null,
      "outputs": [
        {
          "data": {
            "text/plain": "<Figure size 432x288 with 2 Axes>",
            "image/png": "[encoded data removed]"
          },
          "metadata": {},
          "output_type": "display_data"
        },
        {
          "name": "stdout",
          "output_type": "stream",
          "text": [
            "time: 157 ms (started: 2023-01-05 22:19:15 -03:00)\n"
          ]
        }
      ]
    },
    {
      "cell_type": "markdown",
      "source": [
        "### StratifiedKFold-KNN"
      ],
      "metadata": {
        "id": "snDn4eMRGPxG"
      }
    },
    {
      "cell_type": "code",
      "source": [
        "# Inicializa la lista para almacenar las puntuaciones F1\n",
        "f1_scores = []\n",
        "\n",
        "# Itera sobre cada submuestra\n",
        "for train_index, test_index in skf.split(x_st, y_st):\n",
        "    # Separa los datos en train y test utilizando los índices obtenidos por la función split\n",
        "    x_train_knn, x_test_knn = x_st[train_index], x_st[test_index]\n",
        "    y_train_knn, y_test_knn = y_st[train_index], y_st[test_index]\n",
        "\n",
        "    # Entrena el modelo con los datos de entrenamiento\n",
        "    knn.fit(x_train_knn, y_train_knn)\n",
        "\n",
        "    # Realiza predicciones con el modelo entrenado en los datos de prueba\n",
        "    y_pred_knn = knn.predict(x_test_knn)\n",
        "\n",
        "    # Calcula la puntuación F1\n",
        "    f1_knn = f1_score(y_true=y_test_knn, y_pred=y_pred_knn, average=None)\n",
        "\n",
        "    # Guarda la puntuación F1 en la lista\n",
        "    f1_scores.append(f1_knn)"
      ],
      "metadata": {
        "id": "dfzjMSAnGVhB",
        "outputId": "f6925290-62c6-4131-c5c6-fdd8a566d7f8"
      },
      "execution_count": null,
      "outputs": [
        {
          "name": "stdout",
          "output_type": "stream",
          "text": [
            "time: 26.9 s (started: 2023-01-05 22:19:25 -03:00)\n"
          ]
        }
      ]
    },
    {
      "cell_type": "code",
      "source": [
        "f1_scores"
      ],
      "metadata": {
        "id": "aXKESiGlInhO",
        "outputId": "6fc2d615-a749-4f4b-a2cf-2d947b2bbb90"
      },
      "execution_count": null,
      "outputs": [
        {
          "data": {
            "text/plain": "[array([0.74330341, 0.78647544, 0.95936356]),\n array([0.7491288 , 0.78745869, 0.96270692]),\n array([0.74636182, 0.78633537, 0.96171429]),\n array([0.74252809, 0.78469817, 0.95753512]),\n array([0.74290132, 0.78655714, 0.95790649])]"
          },
          "execution_count": 96,
          "metadata": {},
          "output_type": "execute_result"
        },
        {
          "name": "stdout",
          "output_type": "stream",
          "text": [
            "time: 16 ms (started: 2023-01-05 22:21:25 -03:00)\n"
          ]
        }
      ]
    },
    {
      "cell_type": "code",
      "execution_count": null,
      "outputs": [
        {
          "name": "stdout",
          "output_type": "stream",
          "text": [
            "time: 31 ms (started: 2023-01-05 22:21:57 -03:00)\n"
          ]
        }
      ],
      "source": [
        "# Obtiene los índices para cada split\n",
        "split_indices = list(skf.split(x_st, y_st))\n",
        "\n",
        "# Selecciona el segundo split\n",
        "train_index, test_index = split_indices[1]"
      ],
      "metadata": {
        "outputId": "95c884dc-fd32-4a97-d752-e74954826a51",
        "id": "uRDGWPDCJ3Wu"
      }
    },
    {
      "cell_type": "code",
      "execution_count": null,
      "outputs": [
        {
          "name": "stdout",
          "output_type": "stream",
          "text": [
            "time: 31 ms (started: 2023-01-05 22:22:01 -03:00)\n"
          ]
        }
      ],
      "source": [
        "# Separa los datos en train y test utilizando los índices obtenidos por la función split\n",
        "x_train_knn, x_test_knn = x_st[train_index], x_st[test_index]\n",
        "y_train_knn, y_test_knn = y_st[train_index], y_st[test_index]"
      ],
      "metadata": {
        "outputId": "e75b0f4a-1d12-4ab7-c1f9-c889705ffb09",
        "id": "gLzRYEoGJ3Wv"
      }
    },
    {
      "cell_type": "code",
      "execution_count": null,
      "outputs": [
        {
          "name": "stdout",
          "output_type": "stream",
          "text": [
            "              precision    recall  f1-score   support\n",
            "\n",
            "           0       0.87      0.66      0.75     16188\n",
            "           1       0.70      0.91      0.79     16190\n",
            "           2       0.99      0.94      0.96     16204\n",
            "\n",
            "    accuracy                           0.83     48582\n",
            "   macro avg       0.85      0.83      0.83     48582\n",
            "weighted avg       0.85      0.83      0.83     48582\n",
            "\n",
            "time: 5.69 s (started: 2023-01-05 22:22:04 -03:00)\n"
          ]
        }
      ],
      "source": [
        "# Entrena el modelo con los datos de entrenamiento\n",
        "knn.fit(x_train_knn, y_train_knn)\n",
        "\n",
        "# Realiza predicciones con el modelo entrenado en los datos de prueba\n",
        "y_pred_knn = knn.predict(x_test_knn)\n",
        "\n",
        "print(classification_report(y_test_knn,y_pred_knn))"
      ],
      "metadata": {
        "outputId": "b4fa37d7-3ce3-4b84-c6e0-007d77f93683",
        "id": "2V_hBI1NJ3Ww"
      }
    },
    {
      "cell_type": "code",
      "execution_count": null,
      "outputs": [
        {
          "data": {
            "text/plain": "<Figure size 432x288 with 2 Axes>",
            "image/png": "[encoded data removed]"
          },
          "metadata": {},
          "output_type": "display_data"
        },
        {
          "name": "stdout",
          "output_type": "stream",
          "text": [
            "time: 296 ms (started: 2023-01-05 22:22:18 -03:00)\n"
          ]
        }
      ],
      "source": [
        "cm_knn_skf = confusion_matrix(y_test_knn, y_pred_knn, labels=knn.classes_)\n",
        "disp_knn_skf = ConfusionMatrixDisplay(confusion_matrix=cm_knn_skf, display_labels=knn.classes_)\n",
        "disp_knn_skf.plot();"
      ],
      "metadata": {
        "outputId": "f8dcc118-61fa-4804-a64f-bf752b2622c1",
        "id": "Gt8l1NSCJ3Ww"
      }
    },
    {
      "cell_type": "markdown",
      "source": [
        "### RandomizedSearchCV-KNN"
      ],
      "metadata": {
        "id": "W1zn-2BiJemu"
      }
    },
    {
      "cell_type": "code",
      "execution_count": null,
      "metadata": {
        "id": "CzhX6_dMp8Qo",
        "outputId": "248aecbe-31ed-46f3-ca87-3a948333e095"
      },
      "outputs": [
        {
          "name": "stdout",
          "output_type": "stream",
          "text": [
            "time: 0 ns (started: 2023-01-05 22:22:28 -03:00)\n"
          ]
        }
      ],
      "source": [
        "params_knn = {\n",
        "    'n_neighbors' : [5,7,10], #cantidad de vecinos\n",
        "    'weights':['uniform', 'distance'], #uniform pondera = a todos los vecinos, distance inversamente proporcional a su distancia\n",
        "    'algorithm': ['auto','ball_tree','kd_tree','brute'], #algoritmo para computar las distancias mas cercanas\n",
        "    'p': [1,2] #1 para probar con dist manhattan, 2 para euclideana\n",
        "}\n",
        "\n",
        "grid_knn = RandomizedSearchCV(random_state=42,\n",
        "                              estimator = knn,\n",
        "                              param_distributions = params_knn,\n",
        "                              n_iter= 5,\n",
        "                              scoring = ['f1','recall'],  #metricas en base a las cuales quiero que decida que hiperparametros son mejores\n",
        "                              verbose = 3, #Para que muestre cada iteracion, con su tiempo de ejecución y su scoring\n",
        "                              n_jobs = -1, #Cant de corridas en paralelo, -1 es para que use todos los procesadores\n",
        "                              refit='f1',\n",
        "                              cv=3)"
      ]
    },
    {
      "cell_type": "code",
      "execution_count": null,
      "outputs": [
        {
          "name": "stdout",
          "output_type": "stream",
          "text": [
            "Fitting 3 folds for each of 5 candidates, totalling 15 fits\n"
          ]
        },
        {
          "name": "stderr",
          "output_type": "stream",
          "text": [
            "C:\\Users\\Patricio\\AppData\\Roaming\\Python\\Python39\\site-packages\\sklearn\\model_selection\\_search.py:953: UserWarning:\n",
            "\n",
            "One or more of the test scores are non-finite: [nan nan nan nan nan]\n",
            "\n"
          ]
        },
        {
          "name": "stdout",
          "output_type": "stream",
          "text": [
            "time: 14min 38s (started: 2023-01-05 22:22:35 -03:00)\n"
          ]
        }
      ],
      "source": [
        "#Se entrena al modelo con la grilla\n",
        "grid_knn_fitted=grid_knn.fit(x_train_knn, y_train_knn)"
      ],
      "metadata": {
        "id": "zSy0aRSnB4Yz",
        "outputId": "3fae2a68-6ba7-48bd-b695-17324ac48361"
      }
    },
    {
      "cell_type": "code",
      "execution_count": null,
      "outputs": [
        {
          "data": {
            "text/plain": "nan"
          },
          "execution_count": 104,
          "metadata": {},
          "output_type": "execute_result"
        },
        {
          "name": "stdout",
          "output_type": "stream",
          "text": [
            "time: 0 ns (started: 2023-01-05 22:41:24 -03:00)\n"
          ]
        }
      ],
      "source": [
        "grid_knn_fitted.best_score_ #para ver el mejor scoring logrado"
      ],
      "metadata": {
        "id": "ejL1ysEsB4Yz",
        "outputId": "cd5e8efa-3a06-4812-fde4-a0736e3bed50"
      }
    },
    {
      "cell_type": "code",
      "execution_count": null,
      "outputs": [
        {
          "data": {
            "text/plain": "{'weights': 'distance', 'p': 2, 'n_neighbors': 5, 'algorithm': 'kd_tree'}"
          },
          "execution_count": 105,
          "metadata": {},
          "output_type": "execute_result"
        },
        {
          "name": "stdout",
          "output_type": "stream",
          "text": [
            "time: 0 ns (started: 2023-01-05 22:41:26 -03:00)\n"
          ]
        }
      ],
      "source": [
        "grid_knn_fitted.best_params_ #para ver los parámetros que logran ese mejor scoring"
      ],
      "metadata": {
        "id": "HKE-klvVB4Y0",
        "outputId": "25da94be-0636-4773-c419-1db7ad68a12a"
      }
    },
    {
      "cell_type": "code",
      "execution_count": null,
      "outputs": [
        {
          "name": "stdout",
          "output_type": "stream",
          "text": [
            "time: 7min 9s (started: 2023-01-05 22:43:01 -03:00)\n"
          ]
        }
      ],
      "source": [
        "knn_grid = KNeighborsClassifier(weights='distance',\n",
        "                                p=2,\n",
        "                                n_neighbors=5,\n",
        "                                algorithm='kd_tree')\n",
        "knn_grid.fit(x_train_knn,y_train_knn)\n",
        "y_predicted_knn_grid = knn_grid.predict(x_test_knn)"
      ],
      "metadata": {
        "id": "3GLrm5jMB4Y0",
        "outputId": "d47fa9a0-060b-420f-9e2f-b5e291a6707e"
      }
    },
    {
      "cell_type": "code",
      "execution_count": null,
      "outputs": [
        {
          "name": "stdout",
          "output_type": "stream",
          "text": [
            "              precision    recall  f1-score   support\n",
            "\n",
            "           0       0.88      0.62      0.73     16188\n",
            "           1       0.64      0.92      0.76     16190\n",
            "           2       0.99      0.84      0.91     16204\n",
            "\n",
            "    accuracy                           0.80     48582\n",
            "   macro avg       0.84      0.80      0.80     48582\n",
            "weighted avg       0.84      0.80      0.80     48582\n",
            "\n",
            "time: 32 ms (started: 2023-01-05 22:50:10 -03:00)\n"
          ]
        }
      ],
      "source": [
        "print(classification_report(y_test_knn, y_predicted_knn_grid))"
      ],
      "metadata": {
        "id": "1tmyjz81B4Y0",
        "outputId": "0bdfedc6-962e-4399-ec0d-132b1ca07fe0"
      }
    },
    {
      "cell_type": "code",
      "execution_count": null,
      "outputs": [
        {
          "data": {
            "text/plain": "<Figure size 432x288 with 2 Axes>",
            "image/png": "[encoded data removed]"
          },
          "metadata": {},
          "output_type": "display_data"
        },
        {
          "name": "stdout",
          "output_type": "stream",
          "text": [
            "time: 94 ms (started: 2023-01-05 22:50:43 -03:00)\n"
          ]
        }
      ],
      "source": [
        "cm_knn_grid = confusion_matrix(y_test_knn, y_predicted_knn_grid, labels=knn_grid.classes_)\n",
        "disp_knn_grid = ConfusionMatrixDisplay(confusion_matrix=cm_knn_grid, display_labels=knn_grid.classes_)\n",
        "disp_knn_grid.plot();"
      ],
      "metadata": {
        "id": "jfAC6St5B4Y0",
        "outputId": "3800ce90-447e-490e-a78d-3b7131c8bcf0"
      }
    },
    {
      "cell_type": "markdown",
      "source": [
        "# Conclusión Final\n",
        "\n",
        "Podemos ver que el modelo que mejores resultados arrojó fue un random forest de las siguientes caracterísitcas: \n",
        "\"RandomForestClassifier(random_state=42, n_estimators=20)\", utilizando la mejor partición de datos train/test según el método StratifiedKFolds, y la técnica de oversampling SMOTETomek.\n",
        "\n",
        "El mismo arrojó estos resultados:\n",
        "\n",
        "            precision    recall  f1-score   support\n",
        "       0       0.84      0.86      0.85     16187\n",
        "       1       0.86      0.83      0.84     16190\n",
        "       2       0.99      1.00      0.99     16205\n",
        "\n",
        "    accuracy                           0.90     48582\n",
        "    macro avg      0.90      0.90      0.90     48582\n",
        "    weighted avg   0.90      0.90      0.90     48582\n",
        "\n",
        "\n",
        "Por esta razón, decidimos recomendar al banco el modelo de las características mencionadas.\n",
        "\n",
        "Tiene sentido que de mejor el RandomForest por sobre knn; ya que RandomForest implementa mas de un algoritmo (árbol) en simultáneo, lo cual lo vuelve más preciso y resistente al overfitting.\n"
      ],
      "metadata": {
        "collapsed": false,
        "id": "lQ4qfPV1B4Y0"
      }
    },
    {
      "cell_type": "markdown",
      "source": [
        "###Análisis final de las métricas e insights"
      ],
      "metadata": {
        "id": "j6OcDdJhKIQN"
      }
    },
    {
      "cell_type": "markdown",
      "source": [
        "Los resultados del modelo muestran que el modelo tiene una precisión y un recall bastante altos. A continuación, se explicarán cada una de las métricas:\n",
        "\n",
        "**Precision**: La precisión es la fracción de predicciones positivas que son correctas. En nuestro caso, la precisión para las clases 0, 1 y 2 es de 0.84, 0.86 y 0.99, respectivamente. Esto significa que el modelo es capaz de predecir correctamente el 84% de los clientes que no tomaron préstamos, el 86% de los buenos pagadores y el 99% de los malos pagadores.\n",
        "\n",
        "**Recall**: El recall es la fracción de verdaderos positivos que son detectados por el modelo. En este caso, el recall para las clases 0, 1 y 2 es de 0.86, 0.83 y 1.00, respectivamente. Esto significa que el modelo es capaz de detectar el 86% de los clientes que no tomaron préstamos, el 83% de los buenos pagadores y el 100% de los malos pagadores.\n",
        "\n",
        "**f1-score**: El f1-score es una métrica que combina precision y recall y se calcula como la media armónica de ambas. En nuestro caso, el f1-score para las clases 0, 1 y 2 es de 0.85, 0.84 y 0.99, respectivamente. Esto significa que el modelo tiene una precisión y un recall bastante similares para las clases 0 y 1, y una precisión y un recall muy altos para la clase 2.\n",
        "\n",
        "\n",
        "Teniendo esto en cuenta, queremos destacar que el modelo tiene una performance prácticamente perfecta en la clase 2 (Malos pagadores); por lo cual si un cliente es clasificado como mal pagador, recomendamos a la empresa no otorgar el préstamo.\n",
        "Mientras tanto, en las clases 0(No toma préstamo) y 1(Buen pagador), si bien el rendimiento del modelo es muy bueno, presenta un pequeño margen de error. Para solucionar esto, sugerimos en estos realizar un análisis mas pormenorizado para cada cliente clasificado en clases 0 y 1 antes de tomar una decisión al respecto."
      ],
      "metadata": {
        "id": "qCKfATdIKNTu"
      }
    }
  ],
  "metadata": {
    "colab": {
      "provenance": []
    },
    "gpuClass": "standard",
    "kernelspec": {
      "display_name": "Python 3 (ipykernel)",
      "language": "python",
      "name": "python3"
    },
    "language_info": {
      "codemirror_mode": {
        "name": "ipython",
        "version": 3
      },
      "file_extension": ".py",
      "mimetype": "text/x-python",
      "name": "python",
      "nbconvert_exporter": "python",
      "pygments_lexer": "ipython3",
      "version": "3.9.12"
    }
  },
  "nbformat": 4,
  "nbformat_minor": 0
}